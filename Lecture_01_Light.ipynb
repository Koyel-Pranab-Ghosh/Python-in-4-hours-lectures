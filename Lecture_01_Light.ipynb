{
 "cells": [
  {
   "cell_type": "markdown",
   "metadata": {},
   "source": [
    "<h1> Welcome to python programming </h1>\n",
    "<h2> Your life is about to take turn and change for good </h2>\n",
    "<h2> Your life will never be same again </h2>\n",
    "\n",
    "### Programming gives you power but remember with \"great power comes great responsibility\" (Spider Man)\n",
    "\n",
    "### Please pay your 100% attention here: \n",
    "\n",
    "<ul>\n",
    "    <li>A small extra or less space </li>\n",
    "    <li>a small extra/less or misplaced comma</li>\n",
    "    <li>a small mistake of capital to small or small to capital alphabet</li>\n",
    "    <li>an extra or a less dot </li>\n",
    "    <li> ....and so on </li>\n",
    "</ul>\n",
    "\n",
    "### ...and your program will not run\n",
    "\n",
    "## <font color=\"red\"> Not running a program is not that big headache </font>\n",
    "\n",
    "### Real <font color=\"red\"> nightmare </font> is when your program runs good in your hands but it has problems that you overlooked .. it goes into the hands of your client ... client advertises it ... and on live TV your program crashes .... Everybody looses face ....\n",
    "\n",
    "# Reason a small error ... a very small error \n",
    "\n",
    "# .. Please pay attention\n"
   ]
  },
  {
   "cell_type": "markdown",
   "metadata": {},
   "source": [
    "################################################################################################"
   ]
  },
  {
   "cell_type": "markdown",
   "metadata": {},
   "source": [
    "# Integer scalar type <-- What does it mean?\n",
    "\n",
    "### Integer means that it is going to be 1, 4, -4, -9, 10, 30 .... <b>but not </b> -2.12, 3.74, 9.671, 1.0 ..and so on\n",
    "\n",
    "### Scalar means that there is only one value of that type\n",
    "\n",
    "## Below are examples \n",
    "\n",
    "### 23                  Yes it is an integer and scalar\n",
    "### 43, 56            No .. it is integer all right but not scalar ..since on the right hand side there are \"two\" values  [Notice the comma]\n",
    "### -9                   Yes it is an integer (negative) and scalar\n",
    "### 2.31               No it is not an integer but a scalar all right\n",
    "### 1.0                 No it is is not an integer but a scalar all right\n",
    "### 1.23, 4.72      No it is neither an integer nor a scalar  [Notice the comma]\n",
    "\n",
    "# You can save an integer into something\n",
    "## This \"something\" into which you store an integer is called \"variable\".\n",
    "## A variable need to have a name (so that you can recall it later and use it).\n",
    "### Think of it as your friend. Your friend has a name and you can give  .. your money, your key, your documents ..etc to keep safe till you ask. Later you can ask your friend by name and get back what you gave to store\n",
    "\n",
    "### So in programming the name of your friend (from now on we will call it as 'variable') goes on the left hand side. Then \"=\" (equal to sign) follows ..and on the right hand side you give your friend the value that you want to be safe with ...\n",
    "\n",
    "### For example we can say \n",
    "#### A = 43\n",
    "#### that means your friend(variable) name is A and it is storing a value of 43\n",
    "\n",
    "### You can name your friend whatever you want ... general rule .. it should not be too short ..it should not be too long\n",
    "\n",
    "#####################################################################################################################\n",
    "\n",
    "### If your friend name is MyFriend_1 and you want to store 1 thousand ..how will you store it?\n"
   ]
  },
  {
   "cell_type": "code",
   "execution_count": 5,
   "metadata": {},
   "outputs": [],
   "source": [
    "## Save an integer\n",
    "MyFriend_1 = 1000"
   ]
  },
  {
   "cell_type": "markdown",
   "metadata": {},
   "source": [
    "# Float scalar type <-- What does it mean?\n",
    "\n",
    "### Float means that it is going to be 1.21, 4.31, -4.784, -9.101, 1.... <b>but not </b> -2, 3, 9, 1 ..and so on\n",
    "\n",
    "### Scalar means that there is only one value of that type\n",
    "\n",
    "## Below are examples \n",
    "\n",
    "### 2.13                  Yes it is a float and scalar\n",
    "### 4.3, 5.6            No .. it is float all right but not scalar ..since on the right hand side there are \"two\" values  [Notice the comma]\n",
    "### -9.31                   Yes it is a float (negative) and scalar\n",
    "### -2               No it is not a float but a scalar all right\n",
    "### 1                No it is is not a float but a scalar all right\n",
    "### 1, 4      No it is neither a floatr nor a scalar  [Notice the comma]\n",
    "\n",
    "# You can save an float into something\n",
    "## This \"something\" into which you store an integer is called \"variable\".\n",
    "## A variable need to have a name (so that you can recall it later and use it).\n",
    "### Think of it as your friend. Your friend has a name and you can give  .. your money, your key, your documents ..etc to keep safe till you ask. Later you can ask your friend by name and get back what you gave to store\n",
    "\n",
    "### So in programming the name of your friend (from now on we will call it as 'variable') goes on the left hand side. Then \"=\" (equal to sign) follows ..and on the right hand side you give your friend the value that you want to be safe with ...\n",
    "\n",
    "### For example we can say \n",
    "#### A = 4.13\n",
    "#### that means your friend(variable) name is A and it is storing a value of 4.13\n",
    "\n",
    "### You can name your friend whatever you want ... general rule .. it should not be too short ..it should not be too long\n",
    "\n",
    "#####################################################################################################################\n",
    "\n",
    "### If your friend name is MyFriend_2 and you want to store 1034.185 ..how will you store it?\n"
   ]
  },
  {
   "cell_type": "code",
   "execution_count": 12,
   "metadata": {},
   "outputs": [],
   "source": [
    "## Save a float\n",
    "MyFriend_2 = 1034.185"
   ]
  },
  {
   "cell_type": "markdown",
   "metadata": {},
   "source": [
    "# Scalar string\n",
    "\n",
    "## Apart from numbers we can also store alphabets ... \n",
    "## For alphabets ... the right hand side should be within two single quotes or two double quotes ... Don't mix the type of quotes ...\n",
    "## On left hand side as usual there will be a name of variable into which you store.\n",
    "\n",
    "## See the example below\n",
    "### A = \"My name is Koyel\" .... Valid/Correct\n",
    "### B = 'Sachin Tendulkar' .... Valid/Correct\n",
    "### C = 'Programming\" .... Invalid/Incorrect ... why? Look closely!!\n",
    "\n",
    "## As soon as you put something within quotes it become .. what we call ... a string\n",
    "## A string can have only alphabets or a mixture of alphabets and numbers or anything you want .... as long as it is within quotes\n",
    "\n",
    "### D = \"I have 10000000 rupees and my age is 35\" <-- It has numbers and alphabets but because it is within quotes it will be a string\n",
    "### E = \"123\" ... please notice that we have written 123 (which will normally be an integer) but because it is within quotes ..it now changes its characteristics and is a string now and not an integer.\n",
    "\n",
    "## So what is a scalar string and what is not?\n",
    "\n",
    "### Var_1 = 123 ... Scalar and Integer\n",
    "### Var_2 = \"123\" ... Scalar and String\n",
    "### Var_3 = 123, 456 ... Integer but not scalar\n",
    "### Var_4 = \"Trust\", \"Love\" ... String but not scalar [Notice the comma]\n",
    "\n",
    "## Now store Happy new year 2020 message in a variable called MyFriend_3"
   ]
  },
  {
   "cell_type": "code",
   "execution_count": 13,
   "metadata": {},
   "outputs": [],
   "source": [
    "## Save a string\n",
    "MyFriend_3 = \"Happy new year 2020\""
   ]
  },
  {
   "cell_type": "markdown",
   "metadata": {},
   "source": [
    "## There is another category of data type in Python\n",
    "## True and False (Notice first letter is capital) .. They are special ... True and False are generally answers to questions asked during the flow of program. This type of data is called boolean. \n",
    "\n",
    "## Suppose during a program we ask \"Is age greater than 25\" .. the answer could be either True or False\n",
    "## you store it the same way you have stored integers, floats, strings\n",
    "\n",
    "### Age_Greater_Than_25 = True\n",
    "### Income_Less_Than_1_lakh = False\n",
    "\n",
    "## Now store True in Student and False in Principal"
   ]
  },
  {
   "cell_type": "code",
   "execution_count": 14,
   "metadata": {},
   "outputs": [],
   "source": [
    "## Saving boolean value\n",
    "Student = True\n",
    "Principal = False"
   ]
  },
  {
   "cell_type": "markdown",
   "metadata": {},
   "source": [
    "## There is another category of scalar data type in python called DateTime value\n",
    "### For example if somebody tells you to store 25th December 2019, 10:10 a.m. .... How will you store it?\n",
    "### It can't be an integer or float .. because 'a.m.' and ':' is there\n",
    "### You might think it is a string but many mathematical operations will cease to exist if we save it as string\n",
    "### It is not True and False and thus boolean definitely\n",
    "### Clearly it needs a special category\n",
    "\n",
    "### We will talk about it later"
   ]
  },
  {
   "cell_type": "markdown",
   "metadata": {},
   "source": [
    "######################################################################################################################"
   ]
  },
  {
   "cell_type": "markdown",
   "metadata": {},
   "source": [
    "### Now that you know how to store the value in a variable. How do you get it back? For example we store values in MyFriend_1, MyFriend_2, MyFriend_3, Student and Principal? How do we get it back? \n",
    "### Very simple .. just type the name of Variable and press run."
   ]
  },
  {
   "cell_type": "code",
   "execution_count": 15,
   "metadata": {},
   "outputs": [
    {
     "data": {
      "text/plain": [
       "1000"
      ]
     },
     "execution_count": 15,
     "metadata": {},
     "output_type": "execute_result"
    }
   ],
   "source": [
    "MyFriend_1"
   ]
  },
  {
   "cell_type": "code",
   "execution_count": 16,
   "metadata": {},
   "outputs": [
    {
     "data": {
      "text/plain": [
       "1034.185"
      ]
     },
     "execution_count": 16,
     "metadata": {},
     "output_type": "execute_result"
    }
   ],
   "source": [
    "MyFriend_2"
   ]
  },
  {
   "cell_type": "code",
   "execution_count": 17,
   "metadata": {},
   "outputs": [
    {
     "data": {
      "text/plain": [
       "'Happy new year 2020'"
      ]
     },
     "execution_count": 17,
     "metadata": {},
     "output_type": "execute_result"
    }
   ],
   "source": [
    "MyFriend_3"
   ]
  },
  {
   "cell_type": "code",
   "execution_count": 18,
   "metadata": {},
   "outputs": [
    {
     "data": {
      "text/plain": [
       "True"
      ]
     },
     "execution_count": 18,
     "metadata": {},
     "output_type": "execute_result"
    }
   ],
   "source": [
    "Student"
   ]
  },
  {
   "cell_type": "code",
   "execution_count": 19,
   "metadata": {},
   "outputs": [
    {
     "data": {
      "text/plain": [
       "False"
      ]
     },
     "execution_count": 19,
     "metadata": {},
     "output_type": "execute_result"
    }
   ],
   "source": [
    "Principal"
   ]
  },
  {
   "cell_type": "code",
   "execution_count": null,
   "metadata": {},
   "outputs": [],
   "source": []
  }
 ],
 "metadata": {
  "kernelspec": {
   "display_name": "Python 3",
   "language": "python",
   "name": "python3"
  },
  "language_info": {
   "codemirror_mode": {
    "name": "ipython",
    "version": 3
   },
   "file_extension": ".py",
   "mimetype": "text/x-python",
   "name": "python",
   "nbconvert_exporter": "python",
   "pygments_lexer": "ipython3",
   "version": "3.7.6"
  }
 },
 "nbformat": 4,
 "nbformat_minor": 4
}
