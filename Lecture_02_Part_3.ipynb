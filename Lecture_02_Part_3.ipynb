{
 "cells": [
  {
   "cell_type": "code",
   "execution_count": null,
   "metadata": {
    "hideCode": true,
    "hideOutput": true,
    "hidePrompt": true
   },
   "outputs": [],
   "source": []
  },
  {
   "cell_type": "markdown",
   "metadata": {
    "hideCode": true,
    "hidePrompt": true
   },
   "source": [
    "# Dictionary\n",
    "\n",
    "## So far we have seen that we can get out values from list or change them using index positions for lists. That way somehow we have to know what is the index we want to target.\n",
    "\n",
    "## However in some case we don't want to store/retrieve/change elements based on  integer index but rather we want to store them in a 'named property'. This is where dictionary in python comes into picture.\n",
    "\n",
    "## A dictionary is nothing but a many pair of key, value property. Key is a \"generally\" a string description of what it is, while value is the acutal value that we want to store. So the format is Key_1:Value_1 , Key_2:Value_2, Key_3:Value_3, Key_4 and so on ..... Not understanding!!! Don't worry. Continue below.\n",
    "\n",
    "## Suppose we want to store Name and Age of customer we will do as below. In the example below notice that \":\" separates a key and value for one property while \",\" separates many such properties ..in this case the Name and Age properties. <font color=\"green\"> Please note that the Key is always to the left of the colon and value is to the right of the colon </font>\n",
    "\n",
    "## <font color=\"red\"> Also notice that a List is denoted by Square brackets [ ], a tuple by elliptical brackets ( )... while dictionary is denoted by curly brackets { } ... Remember this ... </font>\n",
    "\n",
    "## My_Dictionary_1 = { 'Name': 'Sachin' , 'Age': 43 }\n",
    "## In the above example we have two keys .. 'Name' and 'Age' and we have two corresponding values .. 'Sachin' and 43.\n",
    "\n",
    "## One most important thing. While a value can repeat any number of times in a dictionary ..a key can't repeat. A key has to be unique otherwise error will come.\n",
    "\n",
    "## Answer the questions below.\n"
   ]
  },
  {
   "cell_type": "markdown",
   "metadata": {
    "hideCode": true,
    "hidePrompt": true
   },
   "source": [
    "## How many keys and values are there for the following dictionary?\n",
    " \n",
    "## My_Dictionary_2 = { 'Name' : 'Koyel', 'Degree': 'MBA', 'Years_Experience': 10, 'Whether_Student': False, 'Distance_College': 25.3 }"
   ]
  },
  {
   "cell_type": "code",
   "execution_count": 1,
   "metadata": {
    "hideCode": true,
    "hideOutput": true,
    "hidePrompt": true
   },
   "outputs": [
    {
     "data": {
      "text/plain": [
       "5"
      ]
     },
     "execution_count": 1,
     "metadata": {},
     "output_type": "execute_result"
    }
   ],
   "source": [
    "5"
   ]
  },
  {
   "cell_type": "markdown",
   "metadata": {
    "hideCode": true,
    "hidePrompt": true
   },
   "source": [
    "## What are the keys for the following dictionary?\n",
    "\n",
    "## My_Dictionary_2 = { 'Name' : 'Koyel', 'Degree': 'MBA', 'Years_Experience': 10, 'Whether_Student': False, 'Distance_College': 25.3 }"
   ]
  },
  {
   "cell_type": "code",
   "execution_count": 2,
   "metadata": {
    "hideCode": true,
    "hideOutput": true,
    "hidePrompt": true
   },
   "outputs": [
    {
     "data": {
      "text/plain": [
       "['Name', 'Degree', 'Years_Experience', 'Whether_Student', 'Distance_College']"
      ]
     },
     "execution_count": 2,
     "metadata": {},
     "output_type": "execute_result"
    }
   ],
   "source": [
    "['Name','Degree','Years_Experience','Whether_Student','Distance_College']"
   ]
  },
  {
   "cell_type": "markdown",
   "metadata": {
    "hideCode": true,
    "hidePrompt": true
   },
   "source": [
    "## What are the values for the following dictionary?\n",
    "\n",
    "## My_Dictionary_2 = { 'Name' : 'Koyel', 'Degree': 'MBA', 'Years_Experience': 10, 'Whether_Student': False, 'Distance_College': 25.3 }"
   ]
  },
  {
   "cell_type": "code",
   "execution_count": 3,
   "metadata": {
    "hideCode": true,
    "hideOutput": true,
    "hidePrompt": true
   },
   "outputs": [
    {
     "data": {
      "text/plain": [
       "['Koyel', 'MBA', 10, False, 25.3]"
      ]
     },
     "execution_count": 3,
     "metadata": {},
     "output_type": "execute_result"
    }
   ],
   "source": [
    "['Koyel', 'MBA', 10, False, 25.3]"
   ]
  },
  {
   "cell_type": "markdown",
   "metadata": {
    "hideCode": true,
    "hidePrompt": true
   },
   "source": [
    "## Is the following a valid dictionary?\n",
    "\n",
    "## My_Dictionary_2 = { 'Name' : 'Koyel', 'Degree': 'MBA', 'Years_Experience': 10, 'Whether_Student': False, 'Name': 'Shreya' }"
   ]
  },
  {
   "cell_type": "code",
   "execution_count": 4,
   "metadata": {
    "hideCode": true,
    "hideOutput": true,
    "hidePrompt": true
   },
   "outputs": [
    {
     "data": {
      "text/plain": [
       "False"
      ]
     },
     "execution_count": 4,
     "metadata": {},
     "output_type": "execute_result"
    }
   ],
   "source": [
    "False"
   ]
  },
  {
   "cell_type": "markdown",
   "metadata": {
    "hideCode": true,
    "hidePrompt": true
   },
   "source": [
    "## You can use your logical thinking. Suppose you want to access the above dictionary's name attribute, the program is not sure whether to return 'Koyel' or 'Shreya'. To avoid all these, by design a dictionary can't have repeating keys. \n",
    "\n",
    "## <font color=\"red\"> All keys must be unique inside one dictionary. You can, howver reuse them in another dictionary. No problem </font>"
   ]
  },
  {
   "cell_type": "markdown",
   "metadata": {
    "hideCode": true,
    "hidePrompt": true
   },
   "source": [
    "## So How can we know the number of items in dictionary? How can we know all the keys of dictionary? How can we know all values of a dictionary?\n",
    "\n",
    "## <font color=\"red\"> Is there a Shortcut or command ?</font>\n",
    "\n",
    "### Suppose the dictionary is like below.\n",
    "\n",
    "### My_Dictionary_3 = { 'Name' : 'Koyel', 'Degree': 'MBA', 'Years_Experience': 10, 'Whether_Student': False, 'Distance_College': 25.3 }\n"
   ]
  },
  {
   "cell_type": "code",
   "execution_count": 4,
   "metadata": {
    "hideCode": true,
    "hidePrompt": true
   },
   "outputs": [],
   "source": [
    "My_Dict_3 = { 'Name' : 'Koyel', 'Degree': 'MBA', 'Years_Experience': 10, 'Whether_Student': False, 'Distance_College': 25.3 }"
   ]
  },
  {
   "cell_type": "code",
   "execution_count": 5,
   "metadata": {
    "hideCode": true,
    "hidePrompt": true
   },
   "outputs": [
    {
     "data": {
      "text/plain": [
       "5"
      ]
     },
     "execution_count": 5,
     "metadata": {},
     "output_type": "execute_result"
    }
   ],
   "source": [
    "## To know number of items of dictionary do the following\n",
    "len(My_Dict_3)"
   ]
  },
  {
   "cell_type": "code",
   "execution_count": 6,
   "metadata": {
    "hideCode": true,
    "hidePrompt": true
   },
   "outputs": [
    {
     "data": {
      "text/plain": [
       "dict_keys(['Name', 'Degree', 'Years_Experience', 'Whether_Student', 'Distance_College'])"
      ]
     },
     "execution_count": 6,
     "metadata": {},
     "output_type": "execute_result"
    }
   ],
   "source": [
    "## To know keys of a dictionary to the following. Notice the \".\" (dot) after dictionary name\n",
    "My_Dict_3.keys()"
   ]
  },
  {
   "cell_type": "code",
   "execution_count": 7,
   "metadata": {
    "hideCode": true,
    "hidePrompt": true
   },
   "outputs": [
    {
     "data": {
      "text/plain": [
       "dict_values(['Koyel', 'MBA', 10, False, 25.3])"
      ]
     },
     "execution_count": 7,
     "metadata": {},
     "output_type": "execute_result"
    }
   ],
   "source": [
    "## To know values of a dictionary to the following. Notice the \".\" (dot) after dictionary name\n",
    "My_Dict_3.values()"
   ]
  },
  {
   "cell_type": "markdown",
   "metadata": {
    "hideCode": true,
    "hidePrompt": true
   },
   "source": [
    "## So if we know a key how do we access a value associated with it? Say we know that 'Name' is there how do we know what value is associated with it? .. [ ] ..square brackets again. Just like for lists and tuples we were passing index (which is used to access an element) ..same way in the bracket you pass the key to access the value associated with it.\n",
    "\n",
    "## For example.\n",
    "## My_List[1] was giving the value associated at second index of list, the same way My_Dict_3['Name'] will give the value associated with the key 'Name'"
   ]
  },
  {
   "cell_type": "code",
   "execution_count": 8,
   "metadata": {
    "hideCode": true,
    "hidePrompt": true
   },
   "outputs": [
    {
     "data": {
      "text/plain": [
       "'Koyel'"
      ]
     },
     "execution_count": 8,
     "metadata": {},
     "output_type": "execute_result"
    }
   ],
   "source": [
    "My_Dictionary_3['Name']"
   ]
  },
  {
   "cell_type": "code",
   "execution_count": 10,
   "metadata": {
    "hideCode": true,
    "hidePrompt": true
   },
   "outputs": [
    {
     "data": {
      "text/plain": [
       "'MBA'"
      ]
     },
     "execution_count": 10,
     "metadata": {},
     "output_type": "execute_result"
    }
   ],
   "source": [
    "My_Dictionary_3['Degree']"
   ]
  },
  {
   "cell_type": "code",
   "execution_count": 11,
   "metadata": {
    "hideCode": true,
    "hidePrompt": true
   },
   "outputs": [
    {
     "data": {
      "text/plain": [
       "10"
      ]
     },
     "execution_count": 11,
     "metadata": {},
     "output_type": "execute_result"
    }
   ],
   "source": [
    "My_Dictionary_3['Years_Experience']"
   ]
  },
  {
   "cell_type": "markdown",
   "metadata": {
    "hideCode": true,
    "hidePrompt": true
   },
   "source": [
    "## If the key is not present and you try to access it then a KeyError will be raised\n",
    "\n",
    "## In the below example notice a subtle mistake we have done. Notice it is Degrees and not Degree "
   ]
  },
  {
   "cell_type": "code",
   "execution_count": 13,
   "metadata": {
    "hideCode": true,
    "hidePrompt": true
   },
   "outputs": [
    {
     "ename": "KeyError",
     "evalue": "'Degrees'",
     "output_type": "error",
     "traceback": [
      "\u001b[0;31m---------------------------------------------------------------------------\u001b[0m",
      "\u001b[0;31mKeyError\u001b[0m                                  Traceback (most recent call last)",
      "\u001b[0;32m<ipython-input-13-d05ab43766bb>\u001b[0m in \u001b[0;36m<module>\u001b[0;34m\u001b[0m\n\u001b[0;32m----> 1\u001b[0;31m \u001b[0mMy_Dict_3\u001b[0m\u001b[0;34m[\u001b[0m\u001b[0;34m'Degrees'\u001b[0m\u001b[0;34m]\u001b[0m\u001b[0;34m\u001b[0m\u001b[0m\n\u001b[0m",
      "\u001b[0;31mKeyError\u001b[0m: 'Degrees'"
     ]
    }
   ],
   "source": [
    "My_Dict_3['Degrees']"
   ]
  },
  {
   "cell_type": "markdown",
   "metadata": {
    "hideCode": true,
    "hidePrompt": true
   },
   "source": [
    "## Just like in list we used index to retrieve a value and the same index to assign new value to it, same way we use Key to access a value of a dictionary and we use the same method to assign a value to it\n",
    "\n",
    "## My_Dictionary_3['Degree'] ... will give 'MBA'\n",
    "## My_Dictionary_3['Degree'] = 'Data Science' ... will change the value from 'MBA' to 'Data Science'\n",
    "\n",
    "## Go ahead and answer the questions below"
   ]
  },
  {
   "cell_type": "markdown",
   "metadata": {
    "hideCode": true,
    "hidePrompt": true
   },
   "source": [
    "## Change the value associated with 'Years_Experience' of My_Dict_3 from 10 to 11"
   ]
  },
  {
   "cell_type": "code",
   "execution_count": 14,
   "metadata": {
    "hideCode": true,
    "hideOutput": true,
    "hidePrompt": true
   },
   "outputs": [
    {
     "data": {
      "text/plain": [
       "{'Name': 'Koyel',\n",
       " 'Degree': 'MBA',\n",
       " 'Years_Experience': 11,\n",
       " 'Whether_Student': False,\n",
       " 'Distance_College': 25.3}"
      ]
     },
     "execution_count": 14,
     "metadata": {},
     "output_type": "execute_result"
    }
   ],
   "source": [
    "My_Dict_3['Years_Experience'] = 11\n",
    "My_Dict_3"
   ]
  },
  {
   "cell_type": "markdown",
   "metadata": {
    "hideCode": true,
    "hidePrompt": true
   },
   "source": [
    "## Change the value associated with 'Whether_Student' of My_Dict_3 from False to True\n"
   ]
  },
  {
   "cell_type": "code",
   "execution_count": 15,
   "metadata": {
    "hideCode": true,
    "hidePrompt": true
   },
   "outputs": [
    {
     "data": {
      "text/plain": [
       "{'Name': 'Koyel',\n",
       " 'Degree': 'MBA',\n",
       " 'Years_Experience': 11,\n",
       " 'Whether_Student': True,\n",
       " 'Distance_College': 25.3}"
      ]
     },
     "execution_count": 15,
     "metadata": {},
     "output_type": "execute_result"
    }
   ],
   "source": [
    "My_Dict_3['Whether_Student'] = True\n",
    "My_Dict_3"
   ]
  },
  {
   "cell_type": "markdown",
   "metadata": {
    "hideCode": true,
    "hidePrompt": true
   },
   "source": [
    "## While the key has to be a single item, no body is preventing you from keeping a List or tuple as a value inside a Dictionary.\n",
    "## Consider the example below. We have a dictionary called Customer_1 and Custome_2 which has three keys .. \"Name\", \"Age\", \"Balance_In_Millions\". In the first example we have saved list as a values to these keys and in the second example we have saved tuple as values to these keys\n"
   ]
  },
  {
   "cell_type": "code",
   "execution_count": 30,
   "metadata": {
    "hideCode": true,
    "hidePrompt": true
   },
   "outputs": [],
   "source": [
    "Customer_1 = {'Name' : ['Sachin','Virat','Saina'],\n",
    "            'Age'  : [43, 28, 31],\n",
    "            'Balance_In_Millions' : [4565, 342, 120]\n",
    "           }"
   ]
  },
  {
   "cell_type": "code",
   "execution_count": 20,
   "metadata": {
    "hideCode": true,
    "hidePrompt": true
   },
   "outputs": [],
   "source": [
    "Customer_2 = {'Name' : ('Sachin','Virat','Saina'),\n",
    "            'Age'  : (43, 28, 31),\n",
    "            'Balance_In_Millions' : (4565, 342, 120)\n",
    "           }"
   ]
  },
  {
   "cell_type": "markdown",
   "metadata": {
    "hideCode": true,
    "hidePrompt": true
   },
   "source": [
    "## So how do we access second customer name?\n",
    "## Easy ... Access the name which will give list and then access second element of the list.\n",
    "## Customer_1['Name'] will give the full list of 'Name' and if we add [1] to the end we will get the seocnd element of that list. So the full command will be as below.\n",
    "## Customer_1['Name'][1] .. Try it .. We should be getting out 'Virat' as output"
   ]
  },
  {
   "cell_type": "code",
   "execution_count": 21,
   "metadata": {
    "hideCode": true,
    "hideOutput": true,
    "hidePrompt": true
   },
   "outputs": [
    {
     "data": {
      "text/plain": [
       "'Virat'"
      ]
     },
     "execution_count": 21,
     "metadata": {},
     "output_type": "execute_result"
    }
   ],
   "source": [
    "Customer_1['Name'][1]"
   ]
  },
  {
   "cell_type": "markdown",
   "metadata": {
    "hideCode": true,
    "hidePrompt": true
   },
   "source": [
    "## Now give us the Age of third customer"
   ]
  },
  {
   "cell_type": "code",
   "execution_count": 22,
   "metadata": {
    "hideCode": true,
    "hideOutput": true,
    "hidePrompt": true
   },
   "outputs": [
    {
     "data": {
      "text/plain": [
       "31"
      ]
     },
     "execution_count": 22,
     "metadata": {},
     "output_type": "execute_result"
    }
   ],
   "source": [
    "Customer_1['Age'][2]"
   ]
  },
  {
   "cell_type": "markdown",
   "metadata": {
    "hideCode": true,
    "hidePrompt": true
   },
   "source": [
    "## Give us the 1st customer's balance"
   ]
  },
  {
   "cell_type": "code",
   "execution_count": 23,
   "metadata": {
    "hideCode": true,
    "hideOutput": true,
    "hidePrompt": true
   },
   "outputs": [
    {
     "data": {
      "text/plain": [
       "4565"
      ]
     },
     "execution_count": 23,
     "metadata": {},
     "output_type": "execute_result"
    }
   ],
   "source": [
    "Customer_1['Balance_In_Millions'][0]"
   ]
  },
  {
   "cell_type": "markdown",
   "metadata": {
    "hideCode": true,
    "hidePrompt": true
   },
   "source": [
    "## Now recently 'Saina' as won many tournaments and we want her balance to increase by 100. How do we do that. Three methods. First the long method.\n",
    "\n",
    "# Pay attention\n",
    "\n",
    "## Long method\n",
    "## Get out balance of Saina and save it in a variable called 'Saina_Balance'. In the next step add 100 to it and save it in 'Saina_New_Balance' and then put back this value into Customer_1 dictionary at appropriate place."
   ]
  },
  {
   "cell_type": "code",
   "execution_count": 31,
   "metadata": {
    "hideCode": true,
    "hidePrompt": true
   },
   "outputs": [
    {
     "data": {
      "text/plain": [
       "{'Name': ['Sachin', 'Virat', 'Saina'],\n",
       " 'Age': [43, 28, 31],\n",
       " 'Balance_In_Millions': [4565, 342, 220]}"
      ]
     },
     "execution_count": 31,
     "metadata": {},
     "output_type": "execute_result"
    }
   ],
   "source": [
    "## Method 1\n",
    "Saina_Balance = Customer_1['Balance_In_Millions'][2]\n",
    "Saina_New_Balance = Saina_Balance + 100\n",
    "Customer_1['Balance_In_Millions'][2] = Saina_New_Balance\n",
    "Customer_1"
   ]
  },
  {
   "cell_type": "markdown",
   "metadata": {
    "hideCode": true,
    "hidePrompt": true
   },
   "source": [
    "## Shorter method\n",
    "\n",
    "## Get out Saina balance and add 100 right there and 'then' save it in 'Saina_New_Balance'. Finally save the new balance in the Dictionary"
   ]
  },
  {
   "cell_type": "code",
   "execution_count": 32,
   "metadata": {
    "hideCode": true,
    "hidePrompt": true
   },
   "outputs": [
    {
     "data": {
      "text/plain": [
       "{'Name': ['Sachin', 'Virat', 'Saina'],\n",
       " 'Age': [43, 28, 31],\n",
       " 'Balance_In_Millions': [4565, 342, 320]}"
      ]
     },
     "execution_count": 32,
     "metadata": {},
     "output_type": "execute_result"
    }
   ],
   "source": [
    "## Method 2\n",
    "Saina_New_Balance = Customer_1['Balance_In_Millions'][2] + 100\n",
    "Customer_1['Balance_In_Millions'][2] = Saina_New_Balance\n",
    "Customer_1"
   ]
  },
  {
   "cell_type": "markdown",
   "metadata": {
    "hideCode": true,
    "hidePrompt": true
   },
   "source": [
    "## Shortest method\n",
    "\n",
    "## Once you understand what we are doing. We can all do it in one step, using the operator .. += .. as you might have guessed += means that add the value to the <font color=\"red\"> existing value </font> and assign it <font color=\"red\"> back to the same place </font>. Use this method from now on to increase the value. <font color=\"red\"> Notice there is no gap between + and = .. they are together as += </font>"
   ]
  },
  {
   "cell_type": "code",
   "execution_count": 33,
   "metadata": {
    "hideCode": true,
    "hidePrompt": true
   },
   "outputs": [
    {
     "data": {
      "text/plain": [
       "{'Name': ['Sachin', 'Virat', 'Saina'],\n",
       " 'Age': [43, 28, 31],\n",
       " 'Balance_In_Millions': [4565, 342, 420]}"
      ]
     },
     "execution_count": 33,
     "metadata": {},
     "output_type": "execute_result"
    }
   ],
   "source": [
    "## Method 3\n",
    "Customer_1['Balance_In_Millions'][2] += 100\n",
    "Customer_1"
   ]
  },
  {
   "cell_type": "markdown",
   "metadata": {
    "hideCode": true,
    "hidePrompt": true
   },
   "source": [
    "## Now your turn"
   ]
  },
  {
   "cell_type": "markdown",
   "metadata": {
    "hideCode": true,
    "hidePrompt": true
   },
   "source": [
    "## Increase Virat's Balance by 250"
   ]
  },
  {
   "cell_type": "code",
   "execution_count": 34,
   "metadata": {
    "hideCode": true,
    "hideOutput": true,
    "hidePrompt": true
   },
   "outputs": [
    {
     "data": {
      "text/plain": [
       "{'Name': ['Sachin', 'Virat', 'Saina'],\n",
       " 'Age': [43, 28, 31],\n",
       " 'Balance_In_Millions': [4565, 592, 420]}"
      ]
     },
     "execution_count": 34,
     "metadata": {},
     "output_type": "execute_result"
    }
   ],
   "source": [
    "Customer_1['Balance_In_Millions'][1] += 250\n",
    "Customer_1\n"
   ]
  },
  {
   "cell_type": "markdown",
   "metadata": {
    "hideCode": true,
    "hidePrompt": true
   },
   "source": [
    "## Just the same way there is a += .. for increasing, there is -= for decreasing and *= for multiplying\n",
    "\n",
    "## Use it to your adavantage. \n",
    "\n",
    "## Excercise. We added 100 three times to Saina, so that would be 300 millions and we added 250 to Virat. Now using -= operator .. restore the bank balanace that initially was. "
   ]
  },
  {
   "cell_type": "code",
   "execution_count": 35,
   "metadata": {
    "hideCode": true,
    "hideOutput": true,
    "hidePrompt": true
   },
   "outputs": [
    {
     "data": {
      "text/plain": [
       "{'Name': ['Sachin', 'Virat', 'Saina'],\n",
       " 'Age': [43, 28, 31],\n",
       " 'Balance_In_Millions': [4565, 592, 120]}"
      ]
     },
     "execution_count": 35,
     "metadata": {},
     "output_type": "execute_result"
    }
   ],
   "source": [
    "Customer_1['Balance_In_Millions'][2] -= 300\n",
    "Customer_1"
   ]
  },
  {
   "cell_type": "code",
   "execution_count": 36,
   "metadata": {
    "hideCode": true,
    "hideOutput": true,
    "hidePrompt": true
   },
   "outputs": [
    {
     "data": {
      "text/plain": [
       "{'Name': ['Sachin', 'Virat', 'Saina'],\n",
       " 'Age': [43, 28, 31],\n",
       " 'Balance_In_Millions': [4565, 342, 120]}"
      ]
     },
     "execution_count": 36,
     "metadata": {},
     "output_type": "execute_result"
    }
   ],
   "source": [
    "Customer_1['Balance_In_Millions'][1] -= 250\n",
    "Customer_1"
   ]
  },
  {
   "cell_type": "markdown",
   "metadata": {
    "hideCode": true,
    "hidePrompt": true
   },
   "source": [
    "## Just like lists had lists inside them and you can have dictionaries inside dictionaries .. that means for a value of key .. we can have dictionary and we can keep going as deep as we want ... \n",
    "\n",
    "## Please remember this property where one 'kind' of object is within the 'same' kind of object is called \"Nested\" situation.\n",
    "\n",
    "## So we have seen Nested lists before. Below is an example of Nested Dictionary. Notice we can mix and match. While some values can be tuples, some can be lists and some dictionary"
   ]
  },
  {
   "cell_type": "code",
   "execution_count": 38,
   "metadata": {
    "hideCode": true,
    "hidePrompt": true
   },
   "outputs": [],
   "source": [
    "Customer_3 = {'Name' : ('Sachin','Virat','Saina'),\n",
    "              'Age'  : [43, 28, 31],\n",
    "              'Monthly_Balance' : {'Sachin' : [123, 124, 125, 126, 127, 128, 129, 130, 131, 132, 133, 134],\n",
    "                                   'Virat'  : [50, 51, 52, 53, 54, 55, 56, 57, 58, 59, 60, 62],\n",
    "                                   'Saina'  : [31, 33, 35, 37, 39, 41, 43, 45, 47, 49, 51, 53]\n",
    "                                  }\n",
    "             }"
   ]
  },
  {
   "cell_type": "markdown",
   "metadata": {
    "hideCode": true,
    "hidePrompt": true
   },
   "source": [
    "## Can you see above ..Value for 'Name' key is a tuple .. since Name is unlikely to change, value for 'Age' is list while value for Monthly_Balance is another dictionary"
   ]
  },
  {
   "cell_type": "markdown",
   "metadata": {
    "hideCode": true,
    "hidePrompt": true
   },
   "source": [
    "## One thing before we move on to next topic. \n",
    "\n",
    "## Say we have many variables, how do we know which type it is without printing it?\n",
    "\n",
    "## Remember your another friend in programming called type( )\n",
    "\n",
    "## <font color=\"red\">Within the brackets </font> you pass the name of the variable whose type you want to know."
   ]
  },
  {
   "cell_type": "code",
   "execution_count": 39,
   "metadata": {
    "hideCode": true,
    "hidePrompt": true
   },
   "outputs": [],
   "source": [
    "## List \n",
    "My_Random_List = [34,23,89,45,56, 67]\n",
    "My_Random_Tuple = (34,23,89,45,56, 67)\n",
    "My_Random_Dictionary = {'a':[34,23,89,45,56, 67]}"
   ]
  },
  {
   "cell_type": "markdown",
   "metadata": {
    "hideCode": true,
    "hidePrompt": true
   },
   "source": [
    "## Excercise: Know the type of My_Random_Dictionary."
   ]
  },
  {
   "cell_type": "code",
   "execution_count": 40,
   "metadata": {
    "hideCode": true,
    "hideOutput": true,
    "hidePrompt": true
   },
   "outputs": [
    {
     "data": {
      "text/plain": [
       "dict"
      ]
     },
     "execution_count": 40,
     "metadata": {},
     "output_type": "execute_result"
    }
   ],
   "source": [
    "type(My_Random_Dictionary)"
   ]
  },
  {
   "cell_type": "markdown",
   "metadata": {
    "hideCode": true,
    "hidePrompt": true
   },
   "source": [
    "## Excercise: Know the type of My_Random_Tuple."
   ]
  },
  {
   "cell_type": "code",
   "execution_count": 41,
   "metadata": {
    "hideCode": true,
    "hideOutput": true,
    "hidePrompt": true
   },
   "outputs": [
    {
     "data": {
      "text/plain": [
       "tuple"
      ]
     },
     "execution_count": 41,
     "metadata": {},
     "output_type": "execute_result"
    }
   ],
   "source": [
    "type(My_Random_Tuple)"
   ]
  },
  {
   "cell_type": "markdown",
   "metadata": {
    "hideCode": true,
    "hidePrompt": true
   },
   "source": [
    "## Excercise: Know the type of My_Random_List."
   ]
  },
  {
   "cell_type": "code",
   "execution_count": 42,
   "metadata": {
    "hideCode": true,
    "hideOutput": true,
    "hidePrompt": true
   },
   "outputs": [
    {
     "data": {
      "text/plain": [
       "list"
      ]
     },
     "execution_count": 42,
     "metadata": {},
     "output_type": "execute_result"
    }
   ],
   "source": [
    "type(My_Random_List)"
   ]
  },
  {
   "cell_type": "markdown",
   "metadata": {
    "hideCode": true,
    "hidePrompt": true
   },
   "source": [
    "## Excercise: Know the type of integer 563"
   ]
  },
  {
   "cell_type": "code",
   "execution_count": 43,
   "metadata": {
    "hideCode": true,
    "hideOutput": true,
    "hidePrompt": true
   },
   "outputs": [
    {
     "data": {
      "text/plain": [
       "int"
      ]
     },
     "execution_count": 43,
     "metadata": {},
     "output_type": "execute_result"
    }
   ],
   "source": [
    "type(563)"
   ]
  },
  {
   "cell_type": "markdown",
   "metadata": {
    "hideCode": true,
    "hidePrompt": true
   },
   "source": [
    "## Excercise: Know the type of True"
   ]
  },
  {
   "cell_type": "code",
   "execution_count": 45,
   "metadata": {
    "hideCode": true,
    "hideOutput": true,
    "hidePrompt": true
   },
   "outputs": [
    {
     "data": {
      "text/plain": [
       "bool"
      ]
     },
     "execution_count": 45,
     "metadata": {},
     "output_type": "execute_result"
    }
   ],
   "source": [
    "type(True)"
   ]
  },
  {
   "cell_type": "markdown",
   "metadata": {
    "hideCode": true,
    "hidePrompt": true
   },
   "source": [
    "## Excercise: Know the type of string \"My Name is Koyel\""
   ]
  },
  {
   "cell_type": "code",
   "execution_count": 46,
   "metadata": {
    "hideCode": true,
    "hideOutput": true,
    "hidePrompt": true
   },
   "outputs": [
    {
     "data": {
      "text/plain": [
       "str"
      ]
     },
     "execution_count": 46,
     "metadata": {},
     "output_type": "execute_result"
    }
   ],
   "source": [
    "type(\"My Name is Koyel\")"
   ]
  },
  {
   "cell_type": "markdown",
   "metadata": {
    "hideCode": true,
    "hidePrompt": true
   },
   "source": [
    "## You are ready for the next pillar of programming called Loops"
   ]
  },
  {
   "cell_type": "code",
   "execution_count": null,
   "metadata": {
    "hideCode": true,
    "hidePrompt": true
   },
   "outputs": [],
   "source": []
  }
 ],
 "metadata": {
  "celltoolbar": "Hide code",
  "hide_code_all_hidden": true,
  "kernelspec": {
   "display_name": "Python 3",
   "language": "python",
   "name": "python3"
  },
  "language_info": {
   "codemirror_mode": {
    "name": "ipython",
    "version": 3
   },
   "file_extension": ".py",
   "mimetype": "text/x-python",
   "name": "python",
   "nbconvert_exporter": "python",
   "pygments_lexer": "ipython3",
   "version": "3.7.6"
  }
 },
 "nbformat": 4,
 "nbformat_minor": 2
}
