{
 "cells": [
  {
   "cell_type": "markdown",
   "metadata": {},
   "source": [
    "## Suppose we have to store customer name, age, salary, city and Active status of a customer then for one customer we can save it as below.\n",
    "\n",
    "## Customer_1_List = [\"Sachin\", 43, 5123788.56, \"Mumbai\", True]\n",
    "\n",
    "## No problem above! However suppose we have to store 5 customers information then we will have to create a list of lists where the information is something like below\n",
    "\n",
    "#### All_Customers_List = [ Customer_1_List, Customer_2_List , Customer_3_List, Customer_4_List, Customer_5_List]\n",
    "### Thus the \"All_Customers_List\" becomes a list of lists ..something like below\n",
    "\n",
    "## All_Customers_List = [ [...], [...], [...], [...], [...]]\n",
    "\n",
    "## So if \n",
    "\n",
    "## we say All_Customers_List[0] ..the <font color=\"red\"> entire first customer list </font> will come out.\n",
    "## we say All_Customers_List[1] ..the <font color=\"red\"> entire second customer list </font> will come out.\n",
    "## we say All_Customers_List[2] ..the <font color=\"red\"> entire third customer list </font> will come out.\n",
    "\n",
    "## How do we access fourth element (which is city) of second customer?\n",
    "\n",
    "## We will break the problem as follows.\n",
    "### First get out second customer list\n",
    "### Then from the second customer list we get out the fourth element\n",
    "\n",
    "## We might do as below ...to begin with ..later we will see a shortcut\n",
    "\n",
    "### Second_Customer_List = All_Customers_List[ 1 ]\n",
    "### Salary_Second_Customer = Second_Customer_List[3]\n",
    "\n",
    "## Please type the code exactly shown and answer the following questions. Notice the \"\\\" at the end of every customer list"
   ]
  },
  {
   "cell_type": "code",
   "execution_count": 2,
   "metadata": {},
   "outputs": [],
   "source": [
    "All_Customers_List = [[\"Sachin\", 43, 5123788.56, \"Mumbai\", True],\\\n",
    "                      [\"Virat\", 28, 5637389.56, \"Delhi\", True],\\\n",
    "                      [\"Mittali\", 32, 756437.56, \"Chaandigarh\", False],\\\n",
    "                      [\"Saina\", 29, 6838353.56, \"Hyderabad\", True],\\\n",
    "                      [\"Sindhu\", 27, 867474.56, \"Banggalore\", False]\\\n",
    "                     ]"
   ]
  },
  {
   "cell_type": "markdown",
   "metadata": {},
   "source": [
    "## Access the City of Second customer. "
   ]
  },
  {
   "cell_type": "code",
   "execution_count": 3,
   "metadata": {
    "hideCode": true,
    "hideOutput": true
   },
   "outputs": [
    {
     "name": "stdout",
     "output_type": "stream",
     "text": [
      "['Virat', 28, 5637389.56, 'Delhi', True]\n",
      "Delhi\n"
     ]
    }
   ],
   "source": [
    "Second_Customer = All_Customers_List[1]\n",
    "City_Second_Customer = Second_Customer[3]\n",
    "print(Second_Customer)\n",
    "print(City_Second_Customer)"
   ]
  },
  {
   "cell_type": "markdown",
   "metadata": {},
   "source": [
    "## Access the salary of fourth customer"
   ]
  },
  {
   "cell_type": "code",
   "execution_count": 4,
   "metadata": {
    "hideCode": true,
    "hideOutput": true
   },
   "outputs": [
    {
     "name": "stdout",
     "output_type": "stream",
     "text": [
      "['Saina', 29, 6838353.56, 'Hyderabad', True]\n",
      "6838353.56\n"
     ]
    }
   ],
   "source": [
    "Fourth_Customer_List = All_Customers_List[3]\n",
    "Salary_Fourth_Customer = Fourth_Customer_List[2]\n",
    "print(Fourth_Customer_List)\n",
    "print(Salary_Fourth_Customer)"
   ]
  },
  {
   "cell_type": "markdown",
   "metadata": {},
   "source": [
    "## Access the name of fifth customer"
   ]
  },
  {
   "cell_type": "code",
   "execution_count": 6,
   "metadata": {
    "hideCode": true,
    "hideOutput": true
   },
   "outputs": [
    {
     "name": "stdout",
     "output_type": "stream",
     "text": [
      "['Sindhu', 27, 867474.56, 'Banggalore', False]\n",
      "Sindhu\n"
     ]
    }
   ],
   "source": [
    "Fifth_Customer_List = All_Customers_List[4]\n",
    "Name_Fifth_Customer = Fifth_Customer_List[0]\n",
    "print(Fifth_Customer_List)\n",
    "print(Name_Fifth_Customer)"
   ]
  },
  {
   "cell_type": "markdown",
   "metadata": {},
   "source": [
    "## Now that you know the above method, let us see the shortcut"
   ]
  },
  {
   "cell_type": "markdown",
   "metadata": {},
   "source": [
    "## Access the City of Second customer.\n",
    "\n",
    "## <font color=\"red\">Long method</font>\n",
    "### Second_Customer = All_Customers_List[1]\n",
    "### City_Second_Customer = Second_Customer[3]\n",
    "\n",
    "##  <font color=\"red\">Short Method</font>\n",
    "### City_Second_Customer = All_Customers_List[1][3]\n"
   ]
  },
  {
   "cell_type": "markdown",
   "metadata": {},
   "source": [
    "## Using the shortcut method get the third customers city"
   ]
  },
  {
   "cell_type": "code",
   "execution_count": 13,
   "metadata": {
    "hideCode": true,
    "hideOutput": true
   },
   "outputs": [
    {
     "name": "stdout",
     "output_type": "stream",
     "text": [
      "Chaandigarh\n"
     ]
    }
   ],
   "source": [
    "Third_Customer_City = All_Customers_List[2][3]\n",
    "print(Third_Customer_City)"
   ]
  },
  {
   "cell_type": "markdown",
   "metadata": {},
   "source": [
    "## Using the shortcut method get the fifth customers Active status"
   ]
  },
  {
   "cell_type": "code",
   "execution_count": 16,
   "metadata": {
    "hideCode": true,
    "hideOutput": true
   },
   "outputs": [
    {
     "name": "stdout",
     "output_type": "stream",
     "text": [
      "False\n"
     ]
    }
   ],
   "source": [
    "Fifth_Customer_Status = All_Customers_List[4][4]\n",
    "print(Fifth_Customer_Status)"
   ]
  },
  {
   "cell_type": "markdown",
   "metadata": {},
   "source": [
    "## The same logic goes for Tuple of tuples. Please type exactly as below and answer the questions. Each tuple : first element is customers initial name, second element is age and third element is account balance in integers"
   ]
  },
  {
   "cell_type": "code",
   "execution_count": 22,
   "metadata": {},
   "outputs": [
    {
     "name": "stdout",
     "output_type": "stream",
     "text": [
      "('b', 35, 1231374)\n",
      "('y', 44, 2736015)\n",
      "('d', 20, 3680325)\n",
      "('r', 39, 3358822)\n",
      "('b', 28, 1632944)\n",
      "('k', 39, 6386200)\n",
      "('h', 28, 514013)\n",
      "('n', 23, 7870485)\n",
      "('t', 42, 1086170)\n",
      "('a', 38, 6640790)\n"
     ]
    }
   ],
   "source": [
    "import random\n",
    "import string\n",
    "random.seed(123)\n",
    "My_Tuple_Tuples_1 = tuple((string.ascii_lowercase[random.randint(0,25)], random.randint(18,50), random.randint(500000,8000000)) for i in range(10))\n",
    "for i in My_Tuple_Tuples_1:\n",
    "    print(i)"
   ]
  },
  {
   "cell_type": "markdown",
   "metadata": {},
   "source": [
    "## Using Shorthand notation access fifth customer account balance"
   ]
  },
  {
   "cell_type": "code",
   "execution_count": 23,
   "metadata": {
    "hideCode": true,
    "hideOutput": true
   },
   "outputs": [
    {
     "data": {
      "text/plain": [
       "1632944"
      ]
     },
     "execution_count": 23,
     "metadata": {},
     "output_type": "execute_result"
    }
   ],
   "source": [
    "My_Tuple_Tuples_1[4][2]"
   ]
  },
  {
   "cell_type": "markdown",
   "metadata": {},
   "source": [
    "## Using Shorthand notation access tenth customer age"
   ]
  },
  {
   "cell_type": "code",
   "execution_count": 24,
   "metadata": {
    "hideCode": true,
    "hideOutput": true
   },
   "outputs": [
    {
     "data": {
      "text/plain": [
       "38"
      ]
     },
     "execution_count": 24,
     "metadata": {},
     "output_type": "execute_result"
    }
   ],
   "source": [
    "My_Tuple_Tuples_1[9][1]"
   ]
  },
  {
   "cell_type": "markdown",
   "metadata": {},
   "source": [
    "## Using Shorthand notation access first customer initial of name"
   ]
  },
  {
   "cell_type": "code",
   "execution_count": 25,
   "metadata": {
    "hideCode": true,
    "hideOutput": true
   },
   "outputs": [
    {
     "data": {
      "text/plain": [
       "'b'"
      ]
     },
     "execution_count": 25,
     "metadata": {},
     "output_type": "execute_result"
    }
   ],
   "source": [
    "My_Tuple_Tuples_1[0][0]"
   ]
  },
  {
   "cell_type": "markdown",
   "metadata": {},
   "source": [
    "## Now that you know this there is no end to being list inside list inside list inside list ...so on"
   ]
  },
  {
   "cell_type": "markdown",
   "metadata": {},
   "source": [
    "## How to access them?"
   ]
  },
  {
   "cell_type": "markdown",
   "metadata": {},
   "source": [
    "## Let us see an example first. Suppose we have three clients and we have monthly information for one year.\n",
    "\n",
    "## Let us first see how to store that information. There are 'at least' two 'normal' ways you can do it.\n",
    "\n",
    "## Method_1\n",
    "\n",
    "## Inside the bigger list there will be 12 lists (for 12 months) and inside each month list there will be three lists for three customers and inside each list there will be customer related information.\n",
    "\n",
    "## Method_2\n",
    "\n",
    "## Inside the bigger list there will be 3 lists (for 3 customers) and inside each list there will be 12 lists for every month ..each list will have a particular customer and a particular month information.\n",
    "\n",
    "## Both methods are valid. Either this list will be provided by your boss or you will create. Whatever is the case, you <font color=\"red\">must know the layout of lists </font>.\n",
    "\n",
    "## Type the code exactly as below to create two such lists. First list is called List_Method_1 and second list is called List_Method_2. We will cover them from Monday onwards\n",
    "\n",
    "## <font color=\"red\"> After running the code, please convince your self that both methods contain essentially the same information ..it is just the order is differrent. </font>\n"
   ]
  },
  {
   "cell_type": "code",
   "execution_count": 39,
   "metadata": {},
   "outputs": [
    {
     "name": "stdout",
     "output_type": "stream",
     "text": [
      "List_Method_1 is as below\n",
      "Month num = 1\n",
      "['a', 28, 'Bangalore', 64907]['b', 56, 'Delhi', 64422]['c', 34, 'Mumbai', 405936]\n",
      "Month num = 2\n",
      "['a', 28, 'Bangalore', 290679]['b', 56, 'Delhi', 177418]['c', 34, 'Mumbai', 83271]\n",
      "Month num = 3\n",
      "['a', 28, 'Bangalore', 101421]['b', 56, 'Delhi', 151618]['c', 34, 'Mumbai', 16915]\n",
      "Month num = 4\n",
      "['a', 28, 'Bangalore', 437023]['b', 56, 'Delhi', 363597]['c', 34, 'Mumbai', 340782]\n",
      "Month num = 5\n",
      "['a', 28, 'Bangalore', 289501]['b', 56, 'Delhi', 598211]['c', 34, 'Mumbai', 480099]\n",
      "Month num = 6\n",
      "['a', 28, 'Bangalore', 122931]['b', 56, 'Delhi', 360010]['c', 34, 'Mumbai', 116993]\n",
      "Month num = 7\n",
      "['a', 28, 'Bangalore', 50007]['b', 56, 'Delhi', 267072]['c', 34, 'Mumbai', 56019]\n",
      "Month num = 8\n",
      "['a', 28, 'Bangalore', 407540]['b', 56, 'Delhi', 181732]['c', 34, 'Mumbai', 107270]\n",
      "Month num = 9\n",
      "['a', 28, 'Bangalore', 572248]['b', 56, 'Delhi', 11751]['c', 34, 'Mumbai', 159081]\n",
      "Month num = 10\n",
      "['a', 28, 'Bangalore', 599633]['b', 56, 'Delhi', 467468]['c', 34, 'Mumbai', 142382]\n",
      "Month num = 11\n",
      "['a', 28, 'Bangalore', 358334]['b', 56, 'Delhi', 101869]['c', 34, 'Mumbai', 32267]\n",
      "Month num = 12\n",
      "['a', 28, 'Bangalore', 367352]['b', 56, 'Delhi', 636628]['c', 34, 'Mumbai', 315976]\n",
      "\n",
      "List_Method_2 is as below\n",
      "Customer num = 0\n",
      "['a', 28, 'Bangalore', 64907]['a', 28, 'Bangalore', 290679]['a', 28, 'Bangalore', 101421]['a', 28, 'Bangalore', 437023]['a', 28, 'Bangalore', 289501]['a', 28, 'Bangalore', 122931]['a', 28, 'Bangalore', 50007]['a', 28, 'Bangalore', 407540]['a', 28, 'Bangalore', 572248]['a', 28, 'Bangalore', 599633]['a', 28, 'Bangalore', 358334]['a', 28, 'Bangalore', 367352]\n",
      "Customer num = 1\n",
      "['b', 56, 'Delhi', 64422]['b', 56, 'Delhi', 177418]['b', 56, 'Delhi', 151618]['b', 56, 'Delhi', 363597]['b', 56, 'Delhi', 598211]['b', 56, 'Delhi', 360010]['b', 56, 'Delhi', 267072]['b', 56, 'Delhi', 181732]['b', 56, 'Delhi', 11751]['b', 56, 'Delhi', 467468]['b', 56, 'Delhi', 101869]['b', 56, 'Delhi', 636628]\n",
      "Customer num = 2\n",
      "['c', 34, 'Mumbai', 405936]['c', 34, 'Mumbai', 83271]['c', 34, 'Mumbai', 16915]['c', 34, 'Mumbai', 340782]['c', 34, 'Mumbai', 480099]['c', 34, 'Mumbai', 116993]['c', 34, 'Mumbai', 56019]['c', 34, 'Mumbai', 107270]['c', 34, 'Mumbai', 159081]['c', 34, 'Mumbai', 142382]['c', 34, 'Mumbai', 32267]['c', 34, 'Mumbai', 315976]\n"
     ]
    }
   ],
   "source": [
    "import random\n",
    "random.seed(123)\n",
    "\n",
    "Customers_Initial = ['a','b','c']\n",
    "Customers_age = [28, 56, 34]\n",
    "Customers_City = ['Bangalore','Delhi', 'Mumbai']\n",
    "Balance = [[random.randint(10000, 700000) for y in range(12)] for x in range(3)]\n",
    "\n",
    "List_Method_1 = [[[Customers_Initial[x], Customers_age[x], Customers_City[x], Balance[x][y]] for x in range(3)] for y in range(12)]\n",
    "print(\"List_Method_1 is as below\")\n",
    "for month_num in range(12):\n",
    "    print(\"Month num = %i\"%(month_num+1))\n",
    "    for customer_num in range(3):\n",
    "        print(List_Method_1[month_num][customer_num], sep=\"\", end=\"\")\n",
    "    print()\n",
    "print() \n",
    "\n",
    "List_Method_2 = [[[Customers_Initial[x], Customers_age[x], Customers_City[x], Balance[x][y]] for y in range(12)] for x in range(3)]\n",
    "print(\"List_Method_2 is as below\")\n",
    "for customer_num in range(3):\n",
    "    print(\"Customer num = %i\"%(customer_num))\n",
    "    for month_num in range(12):\n",
    "        print(List_Method_2[customer_num][month_num], sep=\"\", end=\"\")\n",
    "    print()"
   ]
  },
  {
   "cell_type": "markdown",
   "metadata": {},
   "source": [
    "## Hopefully you are convinced\n",
    "\n",
    "## Now notice these two examples\n",
    "\n",
    "## Extract 2nd customers, 3rd months balance for List_Method_1\n",
    "\n",
    "### List_Method_1[2][1][3]\n",
    "\n",
    "## Extract 2nd customers, 3rd months balance for List_Method_2\n",
    "\n",
    "### List_Method_2[1][2][3]"
   ]
  },
  {
   "cell_type": "markdown",
   "metadata": {},
   "source": [
    "## Let us confirm"
   ]
  },
  {
   "cell_type": "code",
   "execution_count": 40,
   "metadata": {},
   "outputs": [
    {
     "name": "stdout",
     "output_type": "stream",
     "text": [
      "151618\n",
      "151618\n"
     ]
    }
   ],
   "source": [
    "print(List_Method_1[2][1][3])\n",
    "print(List_Method_2[1][2][3])"
   ]
  },
  {
   "cell_type": "markdown",
   "metadata": {},
   "source": [
    "## Now anser the following questions. Please feel proud of yourself, if you did not know this before but now you can answer at least 75% of questions right"
   ]
  },
  {
   "cell_type": "markdown",
   "metadata": {},
   "source": [
    "## Question 1, 2: Extract 1st month and 2nd customer name for both List_Method_1 and List_Method_2"
   ]
  },
  {
   "cell_type": "code",
   "execution_count": 42,
   "metadata": {
    "hideCode": true,
    "hideOutput": true
   },
   "outputs": [
    {
     "name": "stdout",
     "output_type": "stream",
     "text": [
      "b\n",
      "b\n"
     ]
    }
   ],
   "source": [
    "print(List_Method_1[0][1][0])\n",
    "print(List_Method_2[1][0][0])"
   ]
  },
  {
   "cell_type": "markdown",
   "metadata": {},
   "source": [
    "## Question 3, 4: Extract 3rd month and 1st customer age for both List_Method_1 and List_Method_2"
   ]
  },
  {
   "cell_type": "code",
   "execution_count": 43,
   "metadata": {
    "hideCode": true,
    "hideOutput": true
   },
   "outputs": [
    {
     "name": "stdout",
     "output_type": "stream",
     "text": [
      "28\n",
      "28\n"
     ]
    }
   ],
   "source": [
    "print(List_Method_1[2][0][1])\n",
    "print(List_Method_2[0][2][1])"
   ]
  },
  {
   "cell_type": "markdown",
   "metadata": {},
   "source": [
    "## Question 5, 6: Extract 6th month and 3rd customer City for both List_Method_1 and List_Method_2"
   ]
  },
  {
   "cell_type": "code",
   "execution_count": 44,
   "metadata": {
    "hideCode": true,
    "hideOutput": true
   },
   "outputs": [
    {
     "name": "stdout",
     "output_type": "stream",
     "text": [
      "Mumbai\n",
      "Mumbai\n"
     ]
    }
   ],
   "source": [
    "print(List_Method_1[5][2][2])\n",
    "print(List_Method_2[2][5][2])"
   ]
  },
  {
   "cell_type": "markdown",
   "metadata": {},
   "source": [
    "## Question 7, 8: Extract 10th month and 1st customer Balance for both List_Method_1 and List_Method_2"
   ]
  },
  {
   "cell_type": "code",
   "execution_count": 45,
   "metadata": {
    "hideCode": true,
    "hideOutput": true
   },
   "outputs": [
    {
     "name": "stdout",
     "output_type": "stream",
     "text": [
      "599633\n",
      "599633\n"
     ]
    }
   ],
   "source": [
    "print(List_Method_1[9][0][3])\n",
    "print(List_Method_2[0][9][3])"
   ]
  },
  {
   "cell_type": "markdown",
   "metadata": {},
   "source": [
    "## Now we are ready to move to the final data structure that is needed for the day. \n",
    "## Welcome to dictionary"
   ]
  },
  {
   "cell_type": "code",
   "execution_count": null,
   "metadata": {},
   "outputs": [],
   "source": []
  }
 ],
 "metadata": {
  "celltoolbar": "Hide code",
  "kernelspec": {
   "display_name": "Python 3",
   "language": "python",
   "name": "python3"
  },
  "language_info": {
   "codemirror_mode": {
    "name": "ipython",
    "version": 3
   },
   "file_extension": ".py",
   "mimetype": "text/x-python",
   "name": "python",
   "nbconvert_exporter": "python",
   "pygments_lexer": "ipython3",
   "version": "3.7.6"
  }
 },
 "nbformat": 4,
 "nbformat_minor": 4
}
