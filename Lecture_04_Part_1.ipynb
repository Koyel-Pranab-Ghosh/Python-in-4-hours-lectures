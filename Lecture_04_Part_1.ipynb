{
 "cells": [
  {
   "cell_type": "markdown",
   "metadata": {},
   "source": [
    "# <font color=\"red\">Functions in Python: What are they, why we need them and how to use them.</font>"
   ]
  },
  {
   "cell_type": "markdown",
   "metadata": {},
   "source": [
    "## First we should ask why we need them? Let us see\n",
    "\n",
    "## Suppose we expect <font color=\"red\">10 numbers</font> to come our way and we have to print square of every number and geet the user with 'Good morning, abc!\" where abc is a user name. Now because these numbers will come at different points in program (<font color=\"red\">and not in a list/tuple/dictionary</font>) we can not apply for loop or while loop. We have to take them at different parts of the program. At every part the number and user name will change. How do we do it?\n",
    "\n",
    "## Below is a naive/beginner's way to do it."
   ]
  },
  {
   "cell_type": "markdown",
   "metadata": {},
   "source": [
    "## We copy paste the two lines, below, at all 10 places. Every-time when we copy paste we change the number and the name that is supplied.\n",
    "\n",
    "## print(number**2)\n",
    "## print(\"Good morning, \" + username)\n",
    "\n",
    "## This approach is not right, since while copy pasting there is a very high chance that we will mix and match different numbers and different usernames. Apart from this, a lot of time goes in copy-pasting at ten places.\n",
    "\n",
    "## Imagine if you had to use it at 100 places and instead of two instructions of print .. we had a calculation involving 50 lines!! We are supposed to copy-paste these 50 lines at 100 places without making any mistake. Don't you think life will be tough and there should be an easy way, rather."
   ]
  },
  {
   "cell_type": "markdown",
   "metadata": {},
   "source": [
    "## This is where the functions come handy. Functions take 0 or more inputs (that can change every time ....in the example above it is the username and number that is input and changing) ...but the actual calculations or coding never changes. All you have to do is to define the function once (with all the 50 or thousands lines at one place) and after that just use that function in a single line with changing inputs. When you define the function you give it a name and you just type this name followed by elliptical brackets. Within these brackets we put in the inputs. See the usage example below.\n",
    "\n",
    "## NameOfMyFunction(Input_1, Input_2, Input_3 ...)\n",
    "\n",
    "## We have been using a function, all along so far. Can somebody name that function?\n"
   ]
  },
  {
   "cell_type": "code",
   "execution_count": 1,
   "metadata": {
    "hideCode": false,
    "hideOutput": false
   },
   "outputs": [
    {
     "name": "stdout",
     "output_type": "stream",
     "text": [
      "\n",
      " 1   2 \n"
     ]
    }
   ],
   "source": [
    "print() ## This is a function whose name is print and it can take 0 or more arguments\n",
    "print(\" 1 \", \" 2 \") ## Here we have two arguments but we can have many arguments."
   ]
  },
  {
   "cell_type": "markdown",
   "metadata": {},
   "source": [
    "## Don't worry about the code of the function below. \n",
    "\n",
    "## All it does is make a sector of a circle but I <font color=\"red\"> you can appreciate that it is a complicated function that has a lot of lines</font>. You can change the inner and outer radius, change its color, change how wide is the angle and what is its name. <font color=\"red\"> Please note that even if you don't understand what is the code inside it, no problem. All you need to know is how to use it? like what is its name and what inputs it take.</font> In the example below the name of the function is \"DrawOneSector\" ..it takes 9 arguments: Its name, a number, circle center's X and Y (which are also numbers), Outer and Inner Radius (which are also numbers), and Left and Right angles (which are also numbers) and finally a color (which is a string). Let us see it in action."
   ]
  },
  {
   "cell_type": "code",
   "execution_count": 1,
   "metadata": {},
   "outputs": [],
   "source": [
    "def DrawOneSector(ElementName,\n",
    "                  ActualCount,\n",
    "                  CircleCenter_X,\n",
    "                  CircleCenter_Y,\n",
    "                  RadiusInner,\n",
    "                  RadiusOuter,\n",
    "                  ThetaLeft,\n",
    "                  ThetaRight,\n",
    "                  Color):\n",
    "    ElementName = ElementName.replace(\" \",\"_\")\n",
    "    Left_BottomPoint_X = CircleCenter_X + RadiusInner*math.cos(ThetaLeft)\n",
    "    Left_BottomPoint_Y = CircleCenter_Y + RadiusInner*math.sin(ThetaLeft)\n",
    "    Left_UpperPoint_X = CircleCenter_X + RadiusOuter*math.cos(ThetaLeft)\n",
    "    Left_UpperPoint_Y = CircleCenter_Y + RadiusOuter*math.sin(ThetaLeft)\n",
    "    Right_UpperPoint_X = CircleCenter_X + RadiusOuter*math.cos(ThetaRight)\n",
    "    Right_UpperPoint_Y = CircleCenter_Y + RadiusOuter*math.sin(ThetaRight)\n",
    "    Right_LowerPoint_X = CircleCenter_X + RadiusInner*math.cos(ThetaRight)\n",
    "    Right_LowerPoint_Y = CircleCenter_Y + RadiusInner*math.sin(ThetaRight)\n",
    "    Radius = RadiusInner+((RadiusOuter - RadiusInner)/2.00)\n",
    "    Text_LeftStartingPoint_X = CircleCenter_X + (Radius+Radius*0.05)*math.cos(ThetaLeft)\n",
    "    Text_LeftStartingPoint_Y = CircleCenter_Y + (Radius+Radius*0.05)*math.sin(ThetaLeft)\n",
    "    Text_RightEndingPoint_X = CircleCenter_X + (Radius+Radius*0.05)*math.cos(ThetaRight)\n",
    "    Text_RightEndingPoint_Y = CircleCenter_Y + (Radius+Radius*0.05)*math.sin(ThetaRight)\n",
    "\n",
    "    SVG_Elment = \"\"\n",
    "    SVG_Elment += \"<svg id=\\'\"+ElementName+\"\\' ActualCount=\\'\"+ActualCount+\"\\'>\"\n",
    "    Arc_Element = \"<path d='M {} {} L {} {} A {} {} 0 0 1 {} {} L {} {} A {} {} 0 0 0 {} {} Z'/ fill={} stroke='black' stroke-width=1'/>\".format(Left_BottomPoint_X,\n",
    "                                                                                                       Left_BottomPoint_Y,\n",
    "                                                                                                       Left_UpperPoint_X,\n",
    "                                                                                                       Left_UpperPoint_Y,\n",
    "                                                                                                       RadiusOuter,\n",
    "                                                                                                       RadiusOuter,\n",
    "                                                                                                       Right_UpperPoint_X,\n",
    "                                                                                                       Right_UpperPoint_Y,\n",
    "                                                                                                       Right_LowerPoint_X,\n",
    "                                                                                                       Right_LowerPoint_Y,\n",
    "                                                                                                       RadiusInner,\n",
    "                                                                                                       RadiusInner,\n",
    "                                                                                                       Left_BottomPoint_X,\n",
    "                                                                                                       Left_BottomPoint_Y,\n",
    "                                                                                                       Color\n",
    "                                                                                                       )\n",
    "    SVG_Elment += Arc_Element\n",
    "    SVG_Elment += \"</svg>\"\n",
    "    SVG_Elment += \"<svg id=\\'\"+ElementName.rstrip().lstrip()+\"_ForTextPath\\' ActualCount=\\'\"+ActualCount+\"\\'>\"\n",
    "    Text_Perimeter = \"<path id=\\'\"+ElementName.rstrip().lstrip()+\"_Text_Path\\' d='M {} {} A {} {} 0 0 1 {} {}'/ fill='transparent'/>\".format(Text_LeftStartingPoint_X,\n",
    "                                                                                                  Text_LeftStartingPoint_Y,\n",
    "                                                                                                  (Radius+Radius*0.05),\n",
    "                                                                                                  (Radius+Radius*0.05),\n",
    "                                                                                                  Text_RightEndingPoint_X,\n",
    "                                                                                                  Text_RightEndingPoint_Y\n",
    "                                                                                                  )\n",
    "    SVG_Elment += Text_Perimeter\n",
    "    Text = \"<text font-size='10' text-anchor='middle'><textPath startOffset='50%' alignment-baseline='middle' xlink:href=#\"+ElementName+\"_Text_Path>\"+ElementName+\"</textPath></text>\"\n",
    "    SVG_Elment += Text\n",
    "    SVG_Elment += \"</svg>\"\n",
    "    return SVG_Elment\n"
   ]
  },
  {
   "cell_type": "code",
   "execution_count": 1,
   "metadata": {},
   "outputs": [],
   "source": [
    "from IPython.core.display import display, HTML\n",
    "import math"
   ]
  },
  {
   "cell_type": "markdown",
   "metadata": {},
   "source": [
    "## We will make four sectors of red, green, blue and yellow. You will notice that once the hard part of creating a function is done, it is very very easy to use it. Notice which input arguments we are changing and what is the corresponding output. Please locate where we are passing the color inside the function. Is it at the 9th location?"
   ]
  },
  {
   "cell_type": "code",
   "execution_count": 37,
   "metadata": {},
   "outputs": [
    {
     "data": {
      "text/html": [
       "<svg id='First' ActualCount='100'><path d='M 56.557791516124894 96.81989990801674 L 43.11558303224979 123.63979981603347 A 60 60 0 0 1 101.51931932906379 121.05421147204711 L 85.7596596645319 95.52710573602356 A 30 30 0 0 0 56.557791516124894 96.81989990801674 Z'/ fill=red stroke='black' stroke-width=1'/></svg><svg id='First_ForTextPath' ActualCount='100'><path id='First_Text_Path' d='M 48.82852163789671 112.24134235512636 A 47.25 47.25 0 0 1 94.82146397163773 110.20519153423709'/ fill='transparent'/><text font-size='10' text-anchor='middle'><textPath startOffset='50%' alignment-baseline='middle' xlink:href=#First_Text_Path>First</textPath></text></svg>"
      ],
      "text/plain": [
       "<IPython.core.display.HTML object>"
      ]
     },
     "metadata": {},
     "output_type": "display_data"
    }
   ],
   "source": [
    "First_Sector = DrawOneSector(\"First\", \"100\", 70, 70, 30, 60, 90, 45, \"red\")\n",
    "display(HTML(First_Sector))"
   ]
  },
  {
   "cell_type": "code",
   "execution_count": 38,
   "metadata": {},
   "outputs": [
    {
     "data": {
      "text/html": [
       "<svg id='Second' ActualCount='100'><path d='M 56.557791516124894 96.81989990801674 L 43.11558303224979 123.63979981603347 A 60 60 0 0 1 101.51931932906379 121.05421147204711 L 85.7596596645319 95.52710573602356 A 30 30 0 0 0 56.557791516124894 96.81989990801674 Z'/ fill=green stroke='black' stroke-width=1'/></svg><svg id='Second_ForTextPath' ActualCount='100'><path id='Second_Text_Path' d='M 48.82852163789671 112.24134235512636 A 47.25 47.25 0 0 1 94.82146397163773 110.20519153423709'/ fill='transparent'/><text font-size='10' text-anchor='middle'><textPath startOffset='50%' alignment-baseline='middle' xlink:href=#Second_Text_Path>Second</textPath></text></svg>"
      ],
      "text/plain": [
       "<IPython.core.display.HTML object>"
      ]
     },
     "metadata": {},
     "output_type": "display_data"
    }
   ],
   "source": [
    "Second_Sector = DrawOneSector(\"Second\", \"100\", 70, 70, 30, 60, 90, 45, \"green\")\n",
    "display(HTML(Second_Sector))"
   ]
  },
  {
   "cell_type": "code",
   "execution_count": 39,
   "metadata": {},
   "outputs": [
    {
     "data": {
      "text/html": [
       "<svg id='Third' ActualCount='100'><path d='M 56.557791516124894 96.81989990801674 L 43.11558303224979 123.63979981603347 A 60 60 0 0 1 101.51931932906379 121.05421147204711 L 85.7596596645319 95.52710573602356 A 30 30 0 0 0 56.557791516124894 96.81989990801674 Z'/ fill=blue stroke='black' stroke-width=1'/></svg><svg id='Third_ForTextPath' ActualCount='100'><path id='Third_Text_Path' d='M 48.82852163789671 112.24134235512636 A 47.25 47.25 0 0 1 94.82146397163773 110.20519153423709'/ fill='transparent'/><text font-size='10' text-anchor='middle'><textPath startOffset='50%' alignment-baseline='middle' xlink:href=#Third_Text_Path>Third</textPath></text></svg>"
      ],
      "text/plain": [
       "<IPython.core.display.HTML object>"
      ]
     },
     "metadata": {},
     "output_type": "display_data"
    }
   ],
   "source": [
    "Third_Sector = DrawOneSector(\"Third\", \"100\", 70, 70, 30, 60, 90, 45, \"blue\")\n",
    "display(HTML(Third_Sector))"
   ]
  },
  {
   "cell_type": "code",
   "execution_count": 40,
   "metadata": {},
   "outputs": [
    {
     "data": {
      "text/html": [
       "<svg id='Fourth' ActualCount='100'><path d='M 56.557791516124894 96.81989990801674 L 43.11558303224979 123.63979981603347 A 60 60 0 0 1 101.51931932906379 121.05421147204711 L 85.7596596645319 95.52710573602356 A 30 30 0 0 0 56.557791516124894 96.81989990801674 Z'/ fill=yellow stroke='black' stroke-width=1'/></svg><svg id='Fourth_ForTextPath' ActualCount='100'><path id='Fourth_Text_Path' d='M 48.82852163789671 112.24134235512636 A 47.25 47.25 0 0 1 94.82146397163773 110.20519153423709'/ fill='transparent'/><text font-size='10' text-anchor='middle'><textPath startOffset='50%' alignment-baseline='middle' xlink:href=#Fourth_Text_Path>Fourth</textPath></text></svg>"
      ],
      "text/plain": [
       "<IPython.core.display.HTML object>"
      ]
     },
     "metadata": {},
     "output_type": "display_data"
    }
   ],
   "source": [
    "Fourth_Sector = DrawOneSector(\"Fourth\", \"100\", 70, 70, 30, 60, 90, 45, \"yellow\")\n",
    "display(HTML(Fourth_Sector))"
   ]
  },
  {
   "cell_type": "markdown",
   "metadata": {},
   "source": [
    "## Now lets us make this sector a little wide. Easy!! Just change the 7th and 8th argument. Notice the change. We will keep the red color constant but change the arguments in next Two examples."
   ]
  },
  {
   "cell_type": "code",
   "execution_count": 41,
   "metadata": {},
   "outputs": [
    {
     "data": {
      "text/html": [
       "<svg id='Fifth' ActualCount='100'><path d='M 52.046197928264256 45.965420927985086 L 34.09239585652851 21.930841855970172 A 60 60 0 0 1 101.51931932906379 121.05421147204711 L 85.7596596645319 95.52710573602356 A 30 30 0 0 0 52.046197928264256 45.965420927985086 Z'/ fill=red stroke='black' stroke-width=1'/></svg><svg id='Fifth_ForTextPath' ActualCount='100'><path id='Fifth_Text_Path' d='M 41.72276173701621 32.14553796157651 A 47.25 47.25 0 0 1 94.82146397163773 110.20519153423709'/ fill='transparent'/><text font-size='10' text-anchor='middle'><textPath startOffset='50%' alignment-baseline='middle' xlink:href=#Fifth_Text_Path>Fifth</textPath></text></svg>"
      ],
      "text/plain": [
       "<IPython.core.display.HTML object>"
      ]
     },
     "metadata": {},
     "output_type": "display_data"
    }
   ],
   "source": [
    "Fifth_Sector = DrawOneSector(\"Fifth\", \"100\", 70, 70, 30, 60, 180, 45, \"red\")\n",
    "display(HTML(Fifth_Sector))"
   ]
  },
  {
   "cell_type": "code",
   "execution_count": 42,
   "metadata": {},
   "outputs": [
    {
     "data": {
      "text/html": [
       "<svg id='Sixth' ActualCount='100'><path d='M 52.046197928264256 45.965420927985086 L 34.09239585652851 21.930841855970172 A 60 60 0 0 1 130.0 70.0 L 100.0 70.0 A 30 30 0 0 0 52.046197928264256 45.965420927985086 Z'/ fill=red stroke='black' stroke-width=1'/></svg><svg id='Sixth_ForTextPath' ActualCount='100'><path id='Sixth_Text_Path' d='M 41.72276173701621 32.14553796157651 A 47.25 47.25 0 0 1 117.25 70.0'/ fill='transparent'/><text font-size='10' text-anchor='middle'><textPath startOffset='50%' alignment-baseline='middle' xlink:href=#Sixth_Text_Path>Sixth</textPath></text></svg>"
      ],
      "text/plain": [
       "<IPython.core.display.HTML object>"
      ]
     },
     "metadata": {},
     "output_type": "display_data"
    }
   ],
   "source": [
    "Sixth_Sector = DrawOneSector(\"Sixth\", \"100\", 70, 70, 30, 60, 180, 0, \"red\")\n",
    "display(HTML(Sixth_Sector))"
   ]
  },
  {
   "cell_type": "markdown",
   "metadata": {},
   "source": [
    "## Now we will make it a little bigger"
   ]
  },
  {
   "cell_type": "code",
   "execution_count": 43,
   "metadata": {},
   "outputs": [
    {
     "data": {
      "text/html": [
       "<svg id='Seventh' ActualCount='100'><path d='M 78.03079861884284 73.97694728532339 L 42.12319447537135 25.907789141293563 A 80 80 0 0 1 170.0 90.0 L 110.0 90.0 A 20 20 0 0 0 78.03079861884284 73.97694728532339 Z'/ fill=red stroke='black' stroke-width=1'/></svg><svg id='Seventh_ForTextPath' ActualCount='100'><path id='Seventh_Text_Path' d='M 58.58084637446245 47.9394866239739 A 52.5 52.5 0 0 1 142.5 90.0'/ fill='transparent'/><text font-size='10' text-anchor='middle'><textPath startOffset='50%' alignment-baseline='middle' xlink:href=#Seventh_Text_Path>Seventh</textPath></text></svg>"
      ],
      "text/plain": [
       "<IPython.core.display.HTML object>"
      ]
     },
     "metadata": {},
     "output_type": "display_data"
    }
   ],
   "source": [
    "Seventh_Sector = DrawOneSector(\"Seventh\", \"100\", 90, 90, 20, 80, 180, 0, \"red\")\n",
    "display(HTML(Seventh_Sector))"
   ]
  },
  {
   "cell_type": "markdown",
   "metadata": {},
   "source": [
    "## As you can see once you have done the hard work of defining a function, using it is as simple as a single line of code.\n",
    "\n",
    "## Life is back to being easy, isn't it?"
   ]
  },
  {
   "cell_type": "markdown",
   "metadata": {},
   "source": [
    "## Hopefully you are convinced that functions are useful. \n",
    "\n",
    "## Now that we have defined: Why we need functions, let us define What are they and how to use them?"
   ]
  },
  {
   "cell_type": "markdown",
   "metadata": {},
   "source": [
    "## So a function start with the keyword \"def\" followed by its name. You can choose any name you want but make sure you choose a short name that describes its behavior. After that elliptical brackets are there. Inside these brackets the inputs go. Remember the position of inputs is very important (we will see this in a bit). After that the line ends with a colon \":\". Once you will press enter, you will notice that the typing position (cursor) has shifted to the right by a TAB (equivalent to four spaces, generally). This is not an error but a Python design. Maintain it!\n",
    "\n",
    "## Now you start typing the code that you want to do making use of inputs that went it.\n",
    "\n",
    "## At the end of computation, if you want the function to send back a value to the main program, you can choose to use \"return\" command. Note that this has to be at the end (after which no more execution is supposed to happen).\n",
    "\n",
    "## This is all there is to a function.\n",
    "\n",
    "## <font color=\"Red\">Once again notice the order of sequence below.</font>\n",
    "<ol>\n",
    "    <li> def keyword </li>\n",
    "<li> then function name </li>\n",
    "    <li> then elliptical brackets </li>\n",
    "    <li> then inputs are written. <font color=\"red\"> inputs are also called arguments in python </font>. Remember this always. </li>\n",
    "    <li> Once you press enter TAB is automatically generated and is shifted to right.</li>\n",
    "    <li> Now you start implementing the logic and all the computation </li>\n",
    "    <li> In the end you may or may not return something back to the main program. If you don't return anything, then \"None\" is returned. It is a special type in Python </li>\n",
    "</ol>"
   ]
  },
  {
   "cell_type": "markdown",
   "metadata": {},
   "source": [
    "## We will see many examples of how to use a function and hopefully your fundamentals will be clear. We will start with the simplest method and we will keep making it more and more complex until we are done. So stay focussed."
   ]
  },
  {
   "cell_type": "markdown",
   "metadata": {},
   "source": [
    "## All right let us create our first useless function!! Yeayyy !!!"
   ]
  },
  {
   "cell_type": "code",
   "execution_count": 61,
   "metadata": {},
   "outputs": [],
   "source": [
    "def MyUselessFunction():\n",
    "    return None"
   ]
  },
  {
   "cell_type": "markdown",
   "metadata": {},
   "source": [
    "## How we use this useless function? It is as simple as below. Notice we are saving the results of function in a variable a. You may or may not save it. It is upto you and if you decide to save it in a variable,  you can give it any name you want."
   ]
  },
  {
   "cell_type": "code",
   "execution_count": 62,
   "metadata": {},
   "outputs": [],
   "source": [
    "a = MyUselessFunction()"
   ]
  },
  {
   "cell_type": "markdown",
   "metadata": {},
   "source": [
    "## So how do we see what got saved in the variable a? "
   ]
  },
  {
   "cell_type": "code",
   "execution_count": 63,
   "metadata": {},
   "outputs": [
    {
     "name": "stdout",
     "output_type": "stream",
     "text": [
      "None\n"
     ]
    }
   ],
   "source": [
    "print(a)"
   ]
  },
  {
   "cell_type": "markdown",
   "metadata": {},
   "source": [
    "## It is printing None because in the second line of the function we returned None. Noticed??"
   ]
  },
  {
   "cell_type": "markdown",
   "metadata": {},
   "source": [
    "## Let us add more functionality to the function. We will print, \"Hello there\" to the screen."
   ]
  },
  {
   "cell_type": "code",
   "execution_count": 64,
   "metadata": {},
   "outputs": [],
   "source": [
    "def LittleUsefulFunction():\n",
    "    print(\"Hello there\")\n",
    "    return None"
   ]
  },
  {
   "cell_type": "markdown",
   "metadata": {},
   "source": [
    "## Notice above we are still returning None but we are printing out something to the screen. In this case it is a simple message but in reality it can be as complex as you want. So how do we use this function? Just like before."
   ]
  },
  {
   "cell_type": "code",
   "execution_count": 65,
   "metadata": {},
   "outputs": [
    {
     "name": "stdout",
     "output_type": "stream",
     "text": [
      "Hello there\n",
      "None\n"
     ]
    }
   ],
   "source": [
    "b = LittleUsefulFunction()\n",
    "print(b)"
   ]
  },
  {
   "cell_type": "markdown",
   "metadata": {},
   "source": [
    "## Can somebody explain why there are two lines printed in the above output?"
   ]
  },
  {
   "cell_type": "markdown",
   "metadata": {},
   "source": [
    "## Now let us create a function that accepts the number and prints its square, cube and 1 to 10 table. Please note that in this case we need to pass a number as the argument."
   ]
  },
  {
   "cell_type": "code",
   "execution_count": 78,
   "metadata": {},
   "outputs": [],
   "source": [
    "def SquareCubeAndTable(Input_Number):\n",
    "    print(\"Square of the \", Input_Number, \" is \", Input_Number**2)\n",
    "    print(\"Cube of the \", Input_Number, \" is \", Input_Number**3)\n",
    "    print(\"Below is its table 1 to 10\")\n",
    "    for i in range(1,11,1):\n",
    "        print(Input_Number, \" x \", i , \" = \", Input_Number * i)\n",
    "    return None"
   ]
  },
  {
   "cell_type": "markdown",
   "metadata": {},
   "source": [
    "## Now notice how we use it? In this case we choose not to save the result to a variable but simply call the function."
   ]
  },
  {
   "cell_type": "code",
   "execution_count": 79,
   "metadata": {},
   "outputs": [
    {
     "name": "stdout",
     "output_type": "stream",
     "text": [
      "Square of the  5  is  25\n",
      "Cube of the  5  is  125\n",
      "Below is its table 1 to 10\n",
      "5  x  1  =  5\n",
      "5  x  2  =  10\n",
      "5  x  3  =  15\n",
      "5  x  4  =  20\n",
      "5  x  5  =  25\n",
      "5  x  6  =  30\n",
      "5  x  7  =  35\n",
      "5  x  8  =  40\n",
      "5  x  9  =  45\n",
      "5  x  10  =  50\n"
     ]
    }
   ],
   "source": [
    "SquareCubeAndTable(5)"
   ]
  },
  {
   "cell_type": "code",
   "execution_count": 80,
   "metadata": {},
   "outputs": [
    {
     "name": "stdout",
     "output_type": "stream",
     "text": [
      "Square of the  213  is  45369\n",
      "Cube of the  213  is  9663597\n",
      "Below is its table 1 to 10\n",
      "213  x  1  =  213\n",
      "213  x  2  =  426\n",
      "213  x  3  =  639\n",
      "213  x  4  =  852\n",
      "213  x  5  =  1065\n",
      "213  x  6  =  1278\n",
      "213  x  7  =  1491\n",
      "213  x  8  =  1704\n",
      "213  x  9  =  1917\n",
      "213  x  10  =  2130\n"
     ]
    }
   ],
   "source": [
    "SquareCubeAndTable(213)"
   ]
  },
  {
   "cell_type": "markdown",
   "metadata": {},
   "source": [
    "## Notice how we can't use it!! The input is <font color=\"red\"> expected to be a number </font>. If you pass other data type, there will be an error."
   ]
  },
  {
   "cell_type": "code",
   "execution_count": 81,
   "metadata": {},
   "outputs": [
    {
     "ename": "TypeError",
     "evalue": "unsupported operand type(s) for ** or pow(): 'str' and 'int'",
     "output_type": "error",
     "traceback": [
      "\u001b[0;31m---------------------------------------------------------------------------\u001b[0m",
      "\u001b[0;31mTypeError\u001b[0m                                 Traceback (most recent call last)",
      "\u001b[0;32m<ipython-input-81-3b6df7b2109a>\u001b[0m in \u001b[0;36m<module>\u001b[0;34m\u001b[0m\n\u001b[0;32m----> 1\u001b[0;31m \u001b[0mSquareCubeAndTable\u001b[0m\u001b[0;34m(\u001b[0m\u001b[0;34m\"5\"\u001b[0m\u001b[0;34m)\u001b[0m \u001b[0;31m## Notice we are passing a string to the function\u001b[0m\u001b[0;34m\u001b[0m\u001b[0m\n\u001b[0m",
      "\u001b[0;32m<ipython-input-78-d2ecc7365aad>\u001b[0m in \u001b[0;36mSquareCubeAndTable\u001b[0;34m(Input_Number)\u001b[0m\n\u001b[1;32m      1\u001b[0m \u001b[0;32mdef\u001b[0m \u001b[0mSquareCubeAndTable\u001b[0m\u001b[0;34m(\u001b[0m\u001b[0mInput_Number\u001b[0m\u001b[0;34m)\u001b[0m\u001b[0;34m:\u001b[0m\u001b[0;34m\u001b[0m\u001b[0m\n\u001b[0;32m----> 2\u001b[0;31m     \u001b[0mprint\u001b[0m\u001b[0;34m(\u001b[0m\u001b[0;34m\"Square of the \"\u001b[0m\u001b[0;34m,\u001b[0m \u001b[0mInput_Number\u001b[0m\u001b[0;34m,\u001b[0m \u001b[0;34m\" is \"\u001b[0m\u001b[0;34m,\u001b[0m \u001b[0mInput_Number\u001b[0m\u001b[0;34m**\u001b[0m\u001b[0;36m2\u001b[0m\u001b[0;34m)\u001b[0m\u001b[0;34m\u001b[0m\u001b[0m\n\u001b[0m\u001b[1;32m      3\u001b[0m     \u001b[0mprint\u001b[0m\u001b[0;34m(\u001b[0m\u001b[0;34m\"Cube of the \"\u001b[0m\u001b[0;34m,\u001b[0m \u001b[0mInput_Number\u001b[0m\u001b[0;34m,\u001b[0m \u001b[0;34m\" is \"\u001b[0m\u001b[0;34m,\u001b[0m \u001b[0mInput_Number\u001b[0m\u001b[0;34m**\u001b[0m\u001b[0;36m3\u001b[0m\u001b[0;34m)\u001b[0m\u001b[0;34m\u001b[0m\u001b[0m\n\u001b[1;32m      4\u001b[0m     \u001b[0mprint\u001b[0m\u001b[0;34m(\u001b[0m\u001b[0;34m\"Below is its table 1 to 10\"\u001b[0m\u001b[0;34m)\u001b[0m\u001b[0;34m\u001b[0m\u001b[0m\n\u001b[1;32m      5\u001b[0m     \u001b[0;32mfor\u001b[0m \u001b[0mi\u001b[0m \u001b[0;32min\u001b[0m \u001b[0mrange\u001b[0m\u001b[0;34m(\u001b[0m\u001b[0;36m1\u001b[0m\u001b[0;34m,\u001b[0m\u001b[0;36m11\u001b[0m\u001b[0;34m,\u001b[0m\u001b[0;36m1\u001b[0m\u001b[0;34m)\u001b[0m\u001b[0;34m:\u001b[0m\u001b[0;34m\u001b[0m\u001b[0m\n",
      "\u001b[0;31mTypeError\u001b[0m: unsupported operand type(s) for ** or pow(): 'str' and 'int'"
     ]
    }
   ],
   "source": [
    "SquareCubeAndTable(\"5\") ## Notice we are passing a string to the function"
   ]
  },
  {
   "cell_type": "markdown",
   "metadata": {},
   "source": [
    "## Now let us create a function that accepts two inputs: first the number and second a name.\n",
    "\n",
    "## It says hello to the name and prints its square, cube and 1 to 10 table. Please note that in this case we need to pass a number and name as the arguments."
   ]
  },
  {
   "cell_type": "code",
   "execution_count": 82,
   "metadata": {},
   "outputs": [],
   "source": [
    "def GreetAndSquareCubeAndTable(Input_Number, Name):\n",
    "    print(\"Hello there \", Name)\n",
    "    print()\n",
    "    print(\"Square of the \", Input_Number, \" is \", Input_Number**2)\n",
    "    print(\"Cube of the \", Input_Number, \" is \", Input_Number**3)\n",
    "    print(\"Below is its table 1 to 10\")\n",
    "    for i in range(1,11,1):\n",
    "        print(Input_Number, \" x \", i , \" = \", Input_Number * i)\n",
    "    return None"
   ]
  },
  {
   "cell_type": "code",
   "execution_count": 84,
   "metadata": {},
   "outputs": [
    {
     "name": "stdout",
     "output_type": "stream",
     "text": [
      "Hello there  Koyel\n",
      "\n",
      "Square of the  5  is  25\n",
      "Cube of the  5  is  125\n",
      "Below is its table 1 to 10\n",
      "5  x  1  =  5\n",
      "5  x  2  =  10\n",
      "5  x  3  =  15\n",
      "5  x  4  =  20\n",
      "5  x  5  =  25\n",
      "5  x  6  =  30\n",
      "5  x  7  =  35\n",
      "5  x  8  =  40\n",
      "5  x  9  =  45\n",
      "5  x  10  =  50\n"
     ]
    }
   ],
   "source": [
    "c = GreetAndSquareCubeAndTable(5, \"Koyel\")"
   ]
  },
  {
   "cell_type": "code",
   "execution_count": 86,
   "metadata": {},
   "outputs": [
    {
     "name": "stdout",
     "output_type": "stream",
     "text": [
      "Hello there  Robert Downey Jr.\n",
      "\n",
      "Square of the  5  is  25\n",
      "Cube of the  5  is  125\n",
      "Below is its table 1 to 10\n",
      "5  x  1  =  5\n",
      "5  x  2  =  10\n",
      "5  x  3  =  15\n",
      "5  x  4  =  20\n",
      "5  x  5  =  25\n",
      "5  x  6  =  30\n",
      "5  x  7  =  35\n",
      "5  x  8  =  40\n",
      "5  x  9  =  45\n",
      "5  x  10  =  50\n"
     ]
    }
   ],
   "source": [
    "d = GreetAndSquareCubeAndTable(5, \"Robert Downey Jr.\")"
   ]
  },
  {
   "cell_type": "markdown",
   "metadata": {},
   "source": [
    "## We can't change the order of the arguments while calling/using a function."
   ]
  },
  {
   "cell_type": "code",
   "execution_count": 87,
   "metadata": {},
   "outputs": [
    {
     "name": "stdout",
     "output_type": "stream",
     "text": [
      "Hello there  Robert Downey Jr.\n",
      "\n",
      "Square of the  5  is  25\n",
      "Cube of the  5  is  125\n",
      "Below is its table 1 to 10\n",
      "5  x  1  =  5\n",
      "5  x  2  =  10\n",
      "5  x  3  =  15\n",
      "5  x  4  =  20\n",
      "5  x  5  =  25\n",
      "5  x  6  =  30\n",
      "5  x  7  =  35\n",
      "5  x  8  =  40\n",
      "5  x  9  =  45\n",
      "5  x  10  =  50\n"
     ]
    }
   ],
   "source": [
    "GreetAndSquareCubeAndTable(5, \"Robert Downey Jr.\") ## This is OK"
   ]
  },
  {
   "cell_type": "code",
   "execution_count": 88,
   "metadata": {},
   "outputs": [
    {
     "name": "stdout",
     "output_type": "stream",
     "text": [
      "Hello there  5\n",
      "\n"
     ]
    },
    {
     "ename": "TypeError",
     "evalue": "unsupported operand type(s) for ** or pow(): 'str' and 'int'",
     "output_type": "error",
     "traceback": [
      "\u001b[0;31m---------------------------------------------------------------------------\u001b[0m",
      "\u001b[0;31mTypeError\u001b[0m                                 Traceback (most recent call last)",
      "\u001b[0;32m<ipython-input-88-3b6effb5d3ad>\u001b[0m in \u001b[0;36m<module>\u001b[0;34m\u001b[0m\n\u001b[0;32m----> 1\u001b[0;31m \u001b[0mGreetAndSquareCubeAndTable\u001b[0m\u001b[0;34m(\u001b[0m\u001b[0;34m\"Robert Downey Jr.\"\u001b[0m\u001b[0;34m,\u001b[0m \u001b[0;36m5\u001b[0m\u001b[0;34m)\u001b[0m \u001b[0;31m## This is NOT!!\u001b[0m\u001b[0;34m\u001b[0m\u001b[0m\n\u001b[0m",
      "\u001b[0;32m<ipython-input-82-c3f7597f3f75>\u001b[0m in \u001b[0;36mGreetAndSquareCubeAndTable\u001b[0;34m(Input_Number, Name)\u001b[0m\n\u001b[1;32m      2\u001b[0m     \u001b[0mprint\u001b[0m\u001b[0;34m(\u001b[0m\u001b[0;34m\"Hello there \"\u001b[0m\u001b[0;34m,\u001b[0m \u001b[0mName\u001b[0m\u001b[0;34m)\u001b[0m\u001b[0;34m\u001b[0m\u001b[0m\n\u001b[1;32m      3\u001b[0m     \u001b[0mprint\u001b[0m\u001b[0;34m(\u001b[0m\u001b[0;34m)\u001b[0m\u001b[0;34m\u001b[0m\u001b[0m\n\u001b[0;32m----> 4\u001b[0;31m     \u001b[0mprint\u001b[0m\u001b[0;34m(\u001b[0m\u001b[0;34m\"Square of the \"\u001b[0m\u001b[0;34m,\u001b[0m \u001b[0mInput_Number\u001b[0m\u001b[0;34m,\u001b[0m \u001b[0;34m\" is \"\u001b[0m\u001b[0;34m,\u001b[0m \u001b[0mInput_Number\u001b[0m\u001b[0;34m**\u001b[0m\u001b[0;36m2\u001b[0m\u001b[0;34m)\u001b[0m\u001b[0;34m\u001b[0m\u001b[0m\n\u001b[0m\u001b[1;32m      5\u001b[0m     \u001b[0mprint\u001b[0m\u001b[0;34m(\u001b[0m\u001b[0;34m\"Cube of the \"\u001b[0m\u001b[0;34m,\u001b[0m \u001b[0mInput_Number\u001b[0m\u001b[0;34m,\u001b[0m \u001b[0;34m\" is \"\u001b[0m\u001b[0;34m,\u001b[0m \u001b[0mInput_Number\u001b[0m\u001b[0;34m**\u001b[0m\u001b[0;36m3\u001b[0m\u001b[0;34m)\u001b[0m\u001b[0;34m\u001b[0m\u001b[0m\n\u001b[1;32m      6\u001b[0m     \u001b[0mprint\u001b[0m\u001b[0;34m(\u001b[0m\u001b[0;34m\"Below is its table 1 to 10\"\u001b[0m\u001b[0;34m)\u001b[0m\u001b[0;34m\u001b[0m\u001b[0m\n",
      "\u001b[0;31mTypeError\u001b[0m: unsupported operand type(s) for ** or pow(): 'str' and 'int'"
     ]
    }
   ],
   "source": [
    "GreetAndSquareCubeAndTable(\"Robert Downey Jr.\", 5) ## This is NOT!!"
   ]
  },
  {
   "cell_type": "markdown",
   "metadata": {},
   "source": [
    "## This presents us with a problem. Somehow we need to remember the argument/input's type and name and pass it exactly in the same order.\n",
    "\n",
    "## What if we have many confusing arguments? Does python helps in some way in such cases.\n",
    "\n",
    "## While calling using the function, you can call it by input's/argument's name followed by \"=\" sign.\n",
    "\n",
    "## Please note the usage below.\n",
    "    "
   ]
  },
  {
   "cell_type": "code",
   "execution_count": 92,
   "metadata": {},
   "outputs": [
    {
     "name": "stdout",
     "output_type": "stream",
     "text": [
      "Hello there  Robert Downey Jr.\n",
      "\n",
      "Square of the  5  is  25\n",
      "Cube of the  5  is  125\n",
      "Below is its table 1 to 10\n",
      "5  x  1  =  5\n",
      "5  x  2  =  10\n",
      "5  x  3  =  15\n",
      "5  x  4  =  20\n",
      "5  x  5  =  25\n",
      "5  x  6  =  30\n",
      "5  x  7  =  35\n",
      "5  x  8  =  40\n",
      "5  x  9  =  45\n",
      "5  x  10  =  50\n"
     ]
    }
   ],
   "source": [
    "GreetAndSquareCubeAndTable(Input_Number=5, Name=\"Robert Downey Jr.\")"
   ]
  },
  {
   "cell_type": "code",
   "execution_count": 93,
   "metadata": {},
   "outputs": [
    {
     "name": "stdout",
     "output_type": "stream",
     "text": [
      "Hello there  Robert Downey Jr.\n",
      "\n",
      "Square of the  5  is  25\n",
      "Cube of the  5  is  125\n",
      "Below is its table 1 to 10\n",
      "5  x  1  =  5\n",
      "5  x  2  =  10\n",
      "5  x  3  =  15\n",
      "5  x  4  =  20\n",
      "5  x  5  =  25\n",
      "5  x  6  =  30\n",
      "5  x  7  =  35\n",
      "5  x  8  =  40\n",
      "5  x  9  =  45\n",
      "5  x  10  =  50\n"
     ]
    }
   ],
   "source": [
    "GreetAndSquareCubeAndTable(Name=\"Robert Downey Jr.\", Input_Number=5)"
   ]
  },
  {
   "cell_type": "markdown",
   "metadata": {},
   "source": [
    "## We have an additional requirement!! What if we want to pass a default argument so that even if we don't supply any argument the function will execute with the default argument?\n",
    "\n",
    "## This is where the keyword arguments go in. You supply a default argument which is preceeded by an \"=\" sign.\n",
    "\n",
    "## I am first writing a normal function and then writing another version of function with a keyword argument that has a default value."
   ]
  },
  {
   "cell_type": "code",
   "execution_count": 94,
   "metadata": {},
   "outputs": [],
   "source": [
    "def SquareCubeAndTable(Input_Number):\n",
    "    print(\"Square of the \", Input_Number, \" is \", Input_Number**2)\n",
    "    print(\"Cube of the \", Input_Number, \" is \", Input_Number**3)\n",
    "    print(\"Below is its table 1 to 10\")\n",
    "    for i in range(1,11,1):\n",
    "        print(Input_Number, \" x \", i , \" = \", Input_Number * i)\n",
    "    return None"
   ]
  },
  {
   "cell_type": "code",
   "execution_count": 95,
   "metadata": {},
   "outputs": [],
   "source": [
    "def SquareCubeAndTable_Default(Input_Number=5):\n",
    "    print(\"Square of the \", Input_Number, \" is \", Input_Number**2)\n",
    "    print(\"Cube of the \", Input_Number, \" is \", Input_Number**3)\n",
    "    print(\"Below is its table 1 to 10\")\n",
    "    for i in range(1,11,1):\n",
    "        print(Input_Number, \" x \", i , \" = \", Input_Number * i)\n",
    "    return None"
   ]
  },
  {
   "cell_type": "markdown",
   "metadata": {},
   "source": [
    "## If we want to use the first function, we must give an argument.\n",
    "\n",
    "## For the second function, we can definitely give an argument, but if we don't supply an argument, it will use the default argument.\n",
    "\n",
    "## Pay attention."
   ]
  },
  {
   "cell_type": "code",
   "execution_count": 97,
   "metadata": {},
   "outputs": [
    {
     "name": "stdout",
     "output_type": "stream",
     "text": [
      "Square of the  8  is  64\n",
      "Cube of the  8  is  512\n",
      "Below is its table 1 to 10\n",
      "8  x  1  =  8\n",
      "8  x  2  =  16\n",
      "8  x  3  =  24\n",
      "8  x  4  =  32\n",
      "8  x  5  =  40\n",
      "8  x  6  =  48\n",
      "8  x  7  =  56\n",
      "8  x  8  =  64\n",
      "8  x  9  =  72\n",
      "8  x  10  =  80\n"
     ]
    }
   ],
   "source": [
    "SquareCubeAndTable(Input_Number=8)"
   ]
  },
  {
   "cell_type": "code",
   "execution_count": 98,
   "metadata": {},
   "outputs": [
    {
     "name": "stdout",
     "output_type": "stream",
     "text": [
      "Square of the  5  is  25\n",
      "Cube of the  5  is  125\n",
      "Below is its table 1 to 10\n",
      "5  x  1  =  5\n",
      "5  x  2  =  10\n",
      "5  x  3  =  15\n",
      "5  x  4  =  20\n",
      "5  x  5  =  25\n",
      "5  x  6  =  30\n",
      "5  x  7  =  35\n",
      "5  x  8  =  40\n",
      "5  x  9  =  45\n",
      "5  x  10  =  50\n"
     ]
    }
   ],
   "source": [
    "SquareCubeAndTable_Default()"
   ]
  },
  {
   "cell_type": "code",
   "execution_count": 100,
   "metadata": {},
   "outputs": [
    {
     "name": "stdout",
     "output_type": "stream",
     "text": [
      "Square of the  8  is  64\n",
      "Cube of the  8  is  512\n",
      "Below is its table 1 to 10\n",
      "8  x  1  =  8\n",
      "8  x  2  =  16\n",
      "8  x  3  =  24\n",
      "8  x  4  =  32\n",
      "8  x  5  =  40\n",
      "8  x  6  =  48\n",
      "8  x  7  =  56\n",
      "8  x  8  =  64\n",
      "8  x  9  =  72\n",
      "8  x  10  =  80\n"
     ]
    }
   ],
   "source": [
    "SquareCubeAndTable_Default(Input_Number=8)"
   ]
  },
  {
   "cell_type": "markdown",
   "metadata": {},
   "source": [
    "## So far we have been returning None from the function to the main program.\n",
    "## Now we will see how to return a value.\n",
    "## Suppose we want to add all the numbers from 0 uptil the input number provided and then finally return it, so that it can be used by the main program. \n",
    "## For example suppose we pass the argument 6, we want to compute 0+1+2+3+4+5+6=21 and then return it so that it can be used by the main program, we will write the function as below. By the way this kind of addition is called \"Cumulative Sum\" .. because it accumulates the sum for every number in the sequence.\n",
    "\n",
    "# Pay attention"
   ]
  },
  {
   "cell_type": "code",
   "execution_count": 106,
   "metadata": {},
   "outputs": [],
   "source": [
    "def CumulativeSum(Number_That_is_Input):\n",
    "    FinalNumberToReturn = 0\n",
    "    for i in range(0, Number_That_is_Input + 1, 1):\n",
    "        FinalNumberToReturn += i\n",
    "    print(\"Final answer is \", FinalNumberToReturn)\n",
    "    return FinalNumberToReturn"
   ]
  },
  {
   "cell_type": "code",
   "execution_count": 107,
   "metadata": {},
   "outputs": [
    {
     "name": "stdout",
     "output_type": "stream",
     "text": [
      "Final answer is  21\n"
     ]
    }
   ],
   "source": [
    "e = CumulativeSum(6)"
   ]
  },
  {
   "cell_type": "code",
   "execution_count": 108,
   "metadata": {},
   "outputs": [
    {
     "name": "stdout",
     "output_type": "stream",
     "text": [
      "21\n"
     ]
    }
   ],
   "source": [
    "print(e)"
   ]
  },
  {
   "cell_type": "markdown",
   "metadata": {},
   "source": [
    "## Please note that we can now use the value of e in the program, since it got saved"
   ]
  },
  {
   "cell_type": "code",
   "execution_count": 109,
   "metadata": {},
   "outputs": [
    {
     "name": "stdout",
     "output_type": "stream",
     "text": [
      "Final answer is  1886653\n"
     ]
    }
   ],
   "source": [
    "f = CumulativeSum(1942)"
   ]
  },
  {
   "cell_type": "code",
   "execution_count": 110,
   "metadata": {},
   "outputs": [
    {
     "name": "stdout",
     "output_type": "stream",
     "text": [
      "1886653\n",
      "<class 'int'>\n"
     ]
    }
   ],
   "source": [
    "print(f)\n",
    "print(type(f))"
   ]
  },
  {
   "cell_type": "markdown",
   "metadata": {},
   "source": [
    "## How do we use the function for many variables.\n",
    "\n",
    "## They are two ways\n",
    "<ol>\n",
    "<li> Using for/while loop\n",
    "<li> Using map\n",
    "</ol>\n",
    "\n",
    "# Pay attention"
   ]
  },
  {
   "cell_type": "markdown",
   "metadata": {},
   "source": [
    "## Suppose we have to calculate the cumulative sum for every number in the list [234, 564, 893, 298, 10039]"
   ]
  },
  {
   "cell_type": "markdown",
   "metadata": {},
   "source": [
    "## Using for loop"
   ]
  },
  {
   "cell_type": "code",
   "execution_count": 117,
   "metadata": {},
   "outputs": [
    {
     "name": "stdout",
     "output_type": "stream",
     "text": [
      "Final answer is  27495\n",
      "Final answer is  159330\n",
      "Final answer is  399171\n",
      "Final answer is  44551\n",
      "Final answer is  50395780\n",
      "[27495, 159330, 399171, 44551, 50395780]\n"
     ]
    }
   ],
   "source": [
    "MyList = [234, 564, 893, 298, 10039]\n",
    "MyFinalList = []\n",
    "for eachElement in MyList:\n",
    "    Result = CumulativeSum(eachElement)\n",
    "    MyFinalList.append(Result)\n",
    "print(MyFinalList)"
   ]
  },
  {
   "cell_type": "markdown",
   "metadata": {},
   "source": [
    "## Using map .. This is pythonic .. a python special style"
   ]
  },
  {
   "cell_type": "code",
   "execution_count": 118,
   "metadata": {},
   "outputs": [
    {
     "name": "stdout",
     "output_type": "stream",
     "text": [
      "Final answer is  27495\n",
      "Final answer is  159330\n",
      "Final answer is  399171\n",
      "Final answer is  44551\n",
      "Final answer is  50395780\n"
     ]
    },
    {
     "data": {
      "text/plain": [
       "[27495, 159330, 399171, 44551, 50395780]"
      ]
     },
     "execution_count": 118,
     "metadata": {},
     "output_type": "execute_result"
    }
   ],
   "source": [
    "list(map(CumulativeSum, MyList))"
   ]
  },
  {
   "cell_type": "markdown",
   "metadata": {},
   "source": [
    "## map is also a function. It expects in the elliptical brackets, first argument as the name of the function which we have to apply over and over again and the second argument is a lit or tuple or any datastructure of choice"
   ]
  },
  {
   "cell_type": "markdown",
   "metadata": {},
   "source": [
    "## Both achieve the same result. You must know both the methods."
   ]
  },
  {
   "cell_type": "markdown",
   "metadata": {},
   "source": [
    "\n",
    "## <font color=\"red\">Your turn</font>\n",
    "\n",
    "## <font color=\"red\">create a function that takes as input the income of a person in Indian rupees and returns the Final tax for that person\n",
    "</font>"
   ]
  },
  {
   "cell_type": "code",
   "execution_count": 2,
   "metadata": {
    "hideCode": true
   },
   "outputs": [
    {
     "data": {
      "text/html": [
       "<table style=\"border-width: initial; border-style: none; background-color: rgb(255, 255, 255);  line-height: 1.6em; box-shadow: none; width: 914px; font-family: Merriweather; padding-bottom: 10px !important; background-image: inherit !important; background-position: inherit !important; background-size: inherit !important; background-repeat: inherit !important; background-attachment: inherit !important; background-origin: inherit !important; background-clip: inherit !important;\"><tbody><tr><td style=\"border-width: 1px; border-style: solid; border-color: rgb(221, 221, 221); padding: 5px;  vertical-align: top;\"><strong>Taxable income slabs</strong></td><td style=\"border-width: 1px; border-style: solid; border-color: rgb(221, 221, 221); padding: 5px;  vertical-align: top;\"><strong>Income tax rates and cess</strong></td></tr><tr><td style=\"border-width: 1px; border-style: solid; border-color: rgb(221, 221, 221); padding: 5px;  vertical-align: top;\">Up to Rs 2.5 lakh</td><td style=\"border-width: 1px; border-style: solid; border-color: rgb(221, 221, 221); padding: 5px;  vertical-align: top;\">Nil</td></tr><tr><td style=\"border-width: 1px; border-style: solid; border-color: rgb(221, 221, 221); padding: 5px;  vertical-align: top;\">Rs 2,50,001 to Rs 5,00,000</td><td style=\"border-width: 1px; border-style: solid; border-color: rgb(221, 221, 221); padding: 5px;  vertical-align: top;\">5% of (Total income minus Rs 2,50,000) + 4% cess</td></tr><tr><td style=\"border-width: 1px; border-style: solid; border-color: rgb(221, 221, 221); padding: 5px;  vertical-align: top;\">Rs 5,00,001 to Rs 10,00,000</td><td style=\"border-width: 1px; border-style: solid; border-color: rgb(221, 221, 221); padding: 5px;  vertical-align: top;\">Rs 12,500 + 20% of (Total income minus Rs 5,00,000) + 4% cess</td></tr><tr><td style=\"border-width: 1px; border-style: solid; border-color: rgb(221, 221, 221); padding: 5px;  vertical-align: top;\">Rs 10,00,001 and above</td><td style=\"border-width: 1px; border-style: solid; border-color: rgb(221, 221, 221); padding: 5px;  vertical-align: top;\">Rs 1,12,500 + 30% of (Total income minus Rs 10,00,000) + 4% cess</td></tr></tbody></table>"
      ],
      "text/plain": [
       "<IPython.core.display.HTML object>"
      ]
     },
     "metadata": {},
     "output_type": "display_data"
    }
   ],
   "source": [
    " display(HTML('<table style=\"border-width: initial; border-style: none; background-color: rgb(255, 255, 255);  line-height: 1.6em; box-shadow: none; width: 914px; font-family: Merriweather; padding-bottom: 10px !important; background-image: inherit !important; background-position: inherit !important; background-size: inherit !important; background-repeat: inherit !important; background-attachment: inherit !important; background-origin: inherit !important; background-clip: inherit !important;\"><tbody><tr><td style=\"border-width: 1px; border-style: solid; border-color: rgb(221, 221, 221); padding: 5px;  vertical-align: top;\"><strong>Taxable income slabs</strong></td><td style=\"border-width: 1px; border-style: solid; border-color: rgb(221, 221, 221); padding: 5px;  vertical-align: top;\"><strong>Income tax rates and cess</strong></td></tr><tr><td style=\"border-width: 1px; border-style: solid; border-color: rgb(221, 221, 221); padding: 5px;  vertical-align: top;\">Up to Rs 2.5 lakh</td><td style=\"border-width: 1px; border-style: solid; border-color: rgb(221, 221, 221); padding: 5px;  vertical-align: top;\">Nil</td></tr><tr><td style=\"border-width: 1px; border-style: solid; border-color: rgb(221, 221, 221); padding: 5px;  vertical-align: top;\">Rs 2,50,001 to Rs 5,00,000</td><td style=\"border-width: 1px; border-style: solid; border-color: rgb(221, 221, 221); padding: 5px;  vertical-align: top;\">5% of (Total income minus Rs 2,50,000) + 4% cess</td></tr><tr><td style=\"border-width: 1px; border-style: solid; border-color: rgb(221, 221, 221); padding: 5px;  vertical-align: top;\">Rs 5,00,001 to Rs 10,00,000</td><td style=\"border-width: 1px; border-style: solid; border-color: rgb(221, 221, 221); padding: 5px;  vertical-align: top;\">Rs 12,500 + 20% of (Total income minus Rs 5,00,000) + 4% cess</td></tr><tr><td style=\"border-width: 1px; border-style: solid; border-color: rgb(221, 221, 221); padding: 5px;  vertical-align: top;\">Rs 10,00,001 and above</td><td style=\"border-width: 1px; border-style: solid; border-color: rgb(221, 221, 221); padding: 5px;  vertical-align: top;\">Rs 1,12,500 + 30% of (Total income minus Rs 10,00,000) + 4% cess</td></tr></tbody></table>'))"
   ]
  },
  {
   "cell_type": "markdown",
   "metadata": {},
   "source": [
    "## Once you have created the function apply it to the list of following incomes (first by a for loop and then by map)"
   ]
  },
  {
   "cell_type": "code",
   "execution_count": 124,
   "metadata": {},
   "outputs": [],
   "source": [
    "IncomeList = [125000, 250000, 350000, 500000, 750000, 1000000, 1250000, 123456789]"
   ]
  },
  {
   "cell_type": "markdown",
   "metadata": {},
   "source": [
    "# You are ready for object oriented programming (OOP) and use of classes. At that point the course will complete and project will be left\n"
   ]
  },
  {
   "cell_type": "code",
   "execution_count": null,
   "metadata": {},
   "outputs": [],
   "source": []
  }
 ],
 "metadata": {
  "celltoolbar": "Hide code",
  "kernelspec": {
   "display_name": "Python 3",
   "language": "python",
   "name": "python3"
  },
  "language_info": {
   "codemirror_mode": {
    "name": "ipython",
    "version": 3
   },
   "file_extension": ".py",
   "mimetype": "text/x-python",
   "name": "python",
   "nbconvert_exporter": "python",
   "pygments_lexer": "ipython3",
   "version": "3.7.6"
  }
 },
 "nbformat": 4,
 "nbformat_minor": 2
}
