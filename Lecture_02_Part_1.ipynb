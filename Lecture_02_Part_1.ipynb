{
 "cells": [
  {
   "cell_type": "markdown",
   "metadata": {
    "hideCode": false,
    "hidePrompt": false
   },
   "source": [
    "## Now that we know \"single\" value types: integer, float, boolean, string and datetime, we are ready to store more than one values into a variable.\n",
    "\n",
    "## As before this variable will have a name and a type. \n",
    "\n",
    "## Consider this variable as a big bag into which you can stuff items.\n",
    "\n",
    "## We have two basic options ..and a third one to which we will come later\n",
    "\n",
    "<ul>\n",
    "<li> list .. it is represented as [ ] ...notice the square bracket </li>\n",
    "<li> tuple ..it is represented as ( ) ...notice the circular/elliptical bracket </li>\n",
    "</ul>\n",
    "\n",
    "## When should we use list and when tuple?\n",
    "\n",
    "## If you anticpiate that in future you need to add more items in this variable (bag) then use list. For example, suppose you want to store daily bank transaction of a customer, you will use list ..since a customer can do any numbers of transactions .. we don't know before hand how many there will be.\n",
    "\n",
    "## However if you think that you want to stop any body from making any kind of changes in the variable's (bag's) contents then use tuple. Suppose for the same customer (above) we want to store day's end bank-balance for 31 days of January, then we must use tuple. This is because once the day is over, you don't want anybody to go back and change the balance for that day. \n",
    "\n",
    "## So how we use list and tuple.\n",
    "\n",
    "## Very simple ..on the left hand side you give a name and on the right hand side you put [ ] or ( ) and within the brackets, you put all the elements <b> separated </b> by a comma. This comma is very very important and you must use it.\n",
    "\n",
    "## How will you store 10, 25, 45, 70 into a list and how will you store them in a tuple?"
   ]
  },
  {
   "cell_type": "code",
   "execution_count": 1,
   "metadata": {
    "collapsed": true,
    "hideCode": true,
    "hideOutput": true,
    "hidePrompt": false
   },
   "outputs": [],
   "source": [
    "List_1 = [10, 25, 45, 70]\n",
    "Tuple_1 = (10, 25, 45, 70)"
   ]
  },
  {
   "cell_type": "markdown",
   "metadata": {
    "hideCode": false,
    "hidePrompt": false
   },
   "source": [
    "## There is no reason to think that inside a list or a tuple, you can store only one kind of scalar data type. You can mix and match different types inside a list or tuple.\n",
    "\n",
    "## Go ahead and store the following in a list and a tuple\n",
    "## \"Sachin Tendulkar\", 44, 500000000000, False  \n",
    "\n"
   ]
  },
  {
   "cell_type": "code",
   "execution_count": 1,
   "metadata": {
    "hideCode": true,
    "hideOutput": true
   },
   "outputs": [],
   "source": [
    "List_2 = [\"Sachin Tendulkar\", 44, 500000000000, False]\n",
    "Tuple_2 = (\"Sachin Tendulkar\", 44, 500000000000, False)"
   ]
  },
  {
   "cell_type": "markdown",
   "metadata": {},
   "source": [
    "## Now suppose we made a mistake and we want to change the third element from left ..from 50000000000 to 60 ... or may be we did not make a mistake but in future there is a compelling reason to change the third value from left.... How do we do that?\n",
    "\n",
    "## Pay attention. "
   ]
  },
  {
   "cell_type": "markdown",
   "metadata": {},
   "source": [
    "## Indexing\n",
    "\n",
    "## What is an index? Consider a train. It has an engine, many bogies and in the back there is a guard cabin. Consider each bogie as an element in the list or tuple. \n",
    "\n",
    "## If you start counting from engine the bogey numbers will go from 1, 2, 3, 4, 5, ..... 12 (suppose there are 12 bogies).\n",
    "## If you start counting from guard cabin then your bogey numbers will go backwards from 12, 11, 10, 9, ...., 3, 2, 1\n",
    "\n",
    "## So you can count from either ends... one is increasing and one is decreasing.\n",
    "\n",
    "## Now most important point ... in python the <font color='red'> first bogey from engine side has roll number of 0 </font> and the first bogey from <font color='red'> guard cabin's side has roll number -1 </font>\n",
    "\n",
    "## Please pause and take time to remember this concept ... from left to right the roll number of bogies starts from 0 and goes on increasing by 1 ... while from right to left the roll number of bogies starts from -1 and goes on decreasing by 1\n",
    "\n",
    "## How do we use this information?"
   ]
  },
  {
   "cell_type": "markdown",
   "metadata": {},
   "source": [
    "#####################################################################################################\n",
    "\n",
    "### This is how we use the information. Suppose we wish to get back n-th element from front or -m-th element from back of the list or tuple called \"A\" then we say the following \n",
    "\n",
    "## if the element roll number is n from left (remember the roll number starts at 0 from left)\n",
    "    ## A[n]\n",
    "## if the element roll number is -m from right (remember the roll number starts at -1 from right)\n",
    "    ## A[-m]\n",
    "    \n",
    "## So suppose the list is A is a list of players and \n",
    "## A = [\"Sachin\", \"Virat\", \"Dhoni\", \"Mitali\", \"Saina\", \"Sindhu\"]\n",
    "\n",
    "## <font color=\"red\"> Notice below the use of square bracket [ ] after the name of list to access its elements </font>\n",
    "\n",
    "### A[0] will access <font color=\"red\">1st element from left </font> and will give \"Sachin\" as output\n",
    "### A[3] will access <font color=\"red\">4th element from left  </font> will give \"Mitali\" as output and <font color=\"red\"> not \"Dhoni\" </font> as output\n",
    "### A[-1] will access <font color=\"red\">1st element from right </font> will give \"Sindhu\" as output \n",
    "### A[-2] will access <font color=\"red\">2nd element from right </font> will give \"Saina\" as output \n",
    "\n",
    "### Write below the A list and access individual elements in <font color=\"red\"> new cell </font>"
   ]
  },
  {
   "cell_type": "code",
   "execution_count": 1,
   "metadata": {},
   "outputs": [],
   "source": [
    "A = [\"Sachin\", \"Virat\", \"Dhoni\", \"Mitali\", \"Saina\", \"Sindhu\"]"
   ]
  },
  {
   "cell_type": "code",
   "execution_count": 2,
   "metadata": {},
   "outputs": [
    {
     "data": {
      "text/plain": [
       "'Sachin'"
      ]
     },
     "execution_count": 2,
     "metadata": {},
     "output_type": "execute_result"
    }
   ],
   "source": [
    "A[0]"
   ]
  },
  {
   "cell_type": "code",
   "execution_count": 3,
   "metadata": {},
   "outputs": [
    {
     "data": {
      "text/plain": [
       "'Mitali'"
      ]
     },
     "execution_count": 3,
     "metadata": {},
     "output_type": "execute_result"
    }
   ],
   "source": [
    "A[3]"
   ]
  },
  {
   "cell_type": "code",
   "execution_count": 4,
   "metadata": {},
   "outputs": [
    {
     "data": {
      "text/plain": [
       "'Sindhu'"
      ]
     },
     "execution_count": 4,
     "metadata": {},
     "output_type": "execute_result"
    }
   ],
   "source": [
    "A[-1]"
   ]
  },
  {
   "cell_type": "code",
   "execution_count": 5,
   "metadata": {},
   "outputs": [
    {
     "data": {
      "text/plain": [
       "'Saina'"
      ]
     },
     "execution_count": 5,
     "metadata": {},
     "output_type": "execute_result"
    }
   ],
   "source": [
    "A[-2]"
   ]
  },
  {
   "cell_type": "markdown",
   "metadata": {},
   "source": [
    "## What worked above for accessing elements of Lists will also work for Tuples\n",
    "\n",
    "## Consider the tuple below which lists buisness leaders\n",
    "\n",
    "## B = (\"Bill Gates\", \"Jeff Bezoz\", \"Anil Ambani\", \"Mark Zukerberg\", \"Kiran Mazumdar Shaw\", \"Indira Nooyi\")\n",
    "\n",
    "## <font color=\"red\"> Notice below the use of square bracket [ ] after the name of tuple to access its elements </font>\n",
    "\n",
    "### B[0] will access <font color=\"red\">1st element from left </font> and will give \"Bill Gates\" as output\n",
    "### B[3] will access <font color=\"red\">4th element from left  </font> will give \"Mark Zukerberg\" as output and <font color=\"red\"> not \"Dhoni\" </font> as output\n",
    "### B[-1] will access <font color=\"red\">1st element from right </font> will give \"Indira Nooyi\" as output \n",
    "### B[-2] will access <font color=\"red\">2nd element from right </font> will give \"Kiran Mazumdar Shaw\" as output \n",
    "\n",
    "### Write below the B tuplet and access individual elements in <font color=\"red\"> new cell </font>"
   ]
  },
  {
   "cell_type": "code",
   "execution_count": 1,
   "metadata": {},
   "outputs": [],
   "source": [
    "B = (\"Bill Gates\", \"Jeff Bezoz\", \"Anil Ambani\", \"Mark Zukerberg\", \"Kiran Mazumdar Shaw\", \"Indira Nooyi\")"
   ]
  },
  {
   "cell_type": "code",
   "execution_count": 2,
   "metadata": {},
   "outputs": [
    {
     "data": {
      "text/plain": [
       "'Bill Gates'"
      ]
     },
     "execution_count": 2,
     "metadata": {},
     "output_type": "execute_result"
    }
   ],
   "source": [
    "B[0]"
   ]
  },
  {
   "cell_type": "code",
   "execution_count": 3,
   "metadata": {},
   "outputs": [
    {
     "data": {
      "text/plain": [
       "'Mark Zukerberg'"
      ]
     },
     "execution_count": 3,
     "metadata": {},
     "output_type": "execute_result"
    }
   ],
   "source": [
    "B[3]"
   ]
  },
  {
   "cell_type": "code",
   "execution_count": 4,
   "metadata": {},
   "outputs": [
    {
     "data": {
      "text/plain": [
       "'Indira Nooyi'"
      ]
     },
     "execution_count": 4,
     "metadata": {},
     "output_type": "execute_result"
    }
   ],
   "source": [
    "B[-1]"
   ]
  },
  {
   "cell_type": "code",
   "execution_count": 8,
   "metadata": {},
   "outputs": [
    {
     "data": {
      "text/plain": [
       "'Kiran Mazumdar Shaw'"
      ]
     },
     "execution_count": 8,
     "metadata": {},
     "output_type": "execute_result"
    }
   ],
   "source": [
    "B[-2]"
   ]
  },
  {
   "cell_type": "markdown",
   "metadata": {},
   "source": [
    "## What if we don't want to access one element but a range of elements? \n",
    "\n",
    "## For example how will we access all elements starting from 2nd till 5th?\n",
    "\n",
    "## For example how will we access 1st, 3rd, 5th, 7th and .... so on elements?\n",
    "\n",
    "## How will we access elements from 5th to 60th but we want only every 4th element ...like 5th, 9th, 13th, 17th, 21st and so on ......?\n",
    "\n",
    "# Pay attention\n",
    "\n",
    "#########################################################################"
   ]
  },
  {
   "cell_type": "markdown",
   "metadata": {},
   "source": [
    "## The syntax is [start : end : step size] ..here start is the index where you want to start,  end is <font color=\"red\"> element position </font> where it will stop  and step size is how many elements you wish to skip everytime. <font color=\"red\"> Please note the use of \":\" colon to separate the start, end and step size </font>\n",
    "\n",
    "## A[2 : 20 : 3] ..it will give elements starting from 3rd element (remember our indexing starts at 0 .. so 2 means third element ... 0,1,2) till 20th element and it will skip 3 elements \n",
    "\n",
    "## so basically it will give 3rd, 6th, 9th, 12th, 15th and 18th element\n",
    "\n",
    "\n",
    "## A[3 : 20 : 3] ..it will give elements starting from 4th element (remember our indexing starts at 0 .. so 3 means fourth element ... 0,1,2,3) till 20th element and it will skip 3 elements \n",
    "\n",
    "## so basically it will give 4th, 7th, 10th, 12th, 13th, 16th and 19th element\n",
    "\n",
    "## A[2 : 25 : 3] ..it will give elements starting from 3rd element (remember our indexing starts at 0 .. so 2 means third element ... 0,1,2) till 25th element and it will skip 3 elements \n",
    "\n",
    "## so basically it will give 3rd, 6th, 9th, 12th, 15th, 18th, 21st and 24th element\n",
    "\n",
    "## A[5 : 25 : 5] ..it will give elements starting from 5th element (remember our indexing starts at 0 .. so 5 means sixth element ... 0,1,2,3,4,5) till 25th element and it will skip 5 elements \n",
    "\n",
    "## so basically it will give  6th, 11th, 16th, and 21st elements\n",
    "\n",
    "## <font color=\"red\"> Let us test your understanding </font> Type the code exactly as shown and then answer the questions \n",
    "\n",
    "\n",
    "## We will not move forward until  <font color=\"red\"> everybody </font> has understood this concept as it is one of the pillars for future lecture."
   ]
  },
  {
   "cell_type": "code",
   "execution_count": 1,
   "metadata": {},
   "outputs": [],
   "source": [
    "import random\n",
    "random.seed(123)\n",
    "My_List = [random.randint(1, 50) for x in range(100)]"
   ]
  },
  {
   "cell_type": "markdown",
   "metadata": {},
   "source": [
    "## Access  <font color=\"red\"> every 6th element </font> starting from <font color=\"red\"> 8th element </font> and ending at <font color=\"red\"> 87th element </font>"
   ]
  },
  {
   "cell_type": "markdown",
   "metadata": {},
   "source": [
    "## If you got back a list whose first element is 3 and last element is 22 then you are right\n",
    "\n",
    "## Correct answer is as below"
   ]
  },
  {
   "cell_type": "code",
   "execution_count": 22,
   "metadata": {
    "hideCode": false,
    "hideOutput": false,
    "hidePrompt": false
   },
   "outputs": [
    {
     "data": {
      "text/plain": [
       "[3, 4, 45, 6, 47, 10, 31, 22, 34, 42, 43, 24, 47, 22]"
      ]
     },
     "execution_count": 22,
     "metadata": {},
     "output_type": "execute_result"
    }
   ],
   "source": [
    "My_List[7 : 87 : 6]"
   ]
  },
  {
   "cell_type": "markdown",
   "metadata": {},
   "source": [
    "## Access  <font color=\"red\"> every 5th element </font> starting from <font color=\"red\"> 34th element </font> and ending at <font color=\"red\"> 63th element </font>"
   ]
  },
  {
   "cell_type": "markdown",
   "metadata": {},
   "source": [
    "## If you got back a list whose first element is 7 and last element is 1 then you are right\n",
    "\n",
    "## Correct answer is as below"
   ]
  },
  {
   "cell_type": "code",
   "execution_count": 24,
   "metadata": {
    "hideCode": false,
    "hideOutput": false,
    "hidePrompt": false
   },
   "outputs": [
    {
     "data": {
      "text/plain": [
       "[7, 9, 31, 20, 39, 1]"
      ]
     },
     "execution_count": 24,
     "metadata": {},
     "output_type": "execute_result"
    }
   ],
   "source": [
    "My_List[33 : 63: 5]"
   ]
  },
  {
   "cell_type": "markdown",
   "metadata": {},
   "source": [
    "## What will happen if you leave empty the number?\n",
    "\n",
    "## For example, \n",
    "\n",
    "## what will happen if you leave the start index empty? That will mean that it will start from the <font color=\"red\"> beginning </font>\n",
    "\n",
    "## what will happen if you leave the end index empty? That will mean that it will go till the <font color=\"red\"> end </font>\n",
    "\n",
    "## what will happen if you leave the size step empty? That will mean that it will  <font color=\"red\"> not skip any element and will give every output within the range </font>\n",
    "\n",
    "## <font color=\"red\"> Let us test your understanding </font>. First let us print out the list.\n"
   ]
  },
  {
   "cell_type": "code",
   "execution_count": 26,
   "metadata": {},
   "outputs": [
    {
     "name": "stdout",
     "output_type": "stream",
     "text": [
      "[4, 18, 6, 50, 27, 18, 7, 3, 25, 35, 36, 22, 22, 4, 11, 9, 22, 36, 22, 45, 16, 11, 1, 28, 50, 6, 39, 25, 5, 1, 21, 47, 29, 7, 3, 6, 43, 10, 9, 2, 19, 28, 37, 31, 17, 31, 3, 50, 20, 22, 34, 31, 14, 39, 41, 34, 37, 21, 1, 26, 50, 42, 33, 28, 44, 35, 41, 43, 39, 32, 34, 43, 27, 24, 33, 3, 49, 42, 12, 47, 6, 32, 43, 17, 11, 22, 22, 36, 26, 5, 47, 30, 25, 37, 50, 22, 2, 13, 38, 6]\n"
     ]
    }
   ],
   "source": [
    " print(My_List, sep=\"\")"
   ]
  },
  {
   "cell_type": "markdown",
   "metadata": {},
   "source": [
    "## Which is the correct answer for the below command?\n",
    "\n",
    "My_List[ : 10 : 2 ]\n",
    "\n",
    "<ul>\n",
    "    <li> [50, 18, 3, 35 ] </li>\n",
    "    <li> [4, 18, 6, 50, 27, 18, 7, 3, 25, 35 ] </li>\n",
    "    <li> [4, 6, 27, 7, 25 ] </li>\n",
    "    <li> None of the above </li>\n",
    "</ul>\n",
    "\n",
    "## Answer is as below."
   ]
  },
  {
   "cell_type": "code",
   "execution_count": 27,
   "metadata": {
    "hideCode": false,
    "hideOutput": false
   },
   "outputs": [
    {
     "data": {
      "text/plain": [
       "[4, 6, 27, 7, 25]"
      ]
     },
     "execution_count": 27,
     "metadata": {},
     "output_type": "execute_result"
    }
   ],
   "source": [
    "My_List[:10:2]"
   ]
  },
  {
   "cell_type": "markdown",
   "metadata": {},
   "source": [
    "## Now what ever you learnt for the list is also applicable for a tuple. Same Start, stop and step size concept is there for tuples as well.\n",
    "\n",
    "## Type the code exactly as below and answer the questions\n"
   ]
  },
  {
   "cell_type": "code",
   "execution_count": 30,
   "metadata": {},
   "outputs": [],
   "source": [
    "import random\n",
    "random.seed(456)\n",
    "My_Tuple = tuple(random.randint(10, 60) for x in range(100))"
   ]
  },
  {
   "cell_type": "code",
   "execution_count": 31,
   "metadata": {},
   "outputs": [
    {
     "name": "stdout",
     "output_type": "stream",
     "text": [
      "(57, 38, 39, 37, 34, 60, 51, 12, 49, 56, 60, 43, 17, 30, 41, 58, 17, 15, 40, 54, 39, 12, 26, 19, 18, 22, 21, 56, 34, 43, 49, 60, 44, 55, 51, 47, 45, 54, 53, 40, 31, 14, 46, 44, 12, 33, 54, 56, 29, 51, 36, 22, 32, 18, 24, 38, 18, 53, 50, 33, 30, 11, 30, 60, 29, 20, 54, 47, 54, 35, 60, 15, 35, 41, 56, 45, 47, 57, 58, 39, 50, 12, 39, 25, 38, 44, 17, 18, 25, 60, 40, 23, 27, 49, 51, 43, 59, 18, 44, 58)\n"
     ]
    }
   ],
   "source": [
    "print(My_Tuple, sep=\"\")"
   ]
  },
  {
   "cell_type": "markdown",
   "metadata": {},
   "source": [
    "## What is the output of the following command and what does each command say?"
   ]
  },
  {
   "cell_type": "markdown",
   "metadata": {},
   "source": [
    "## My_Tuple[9 : 30: 3]"
   ]
  },
  {
   "cell_type": "code",
   "execution_count": 34,
   "metadata": {
    "hideCode": false,
    "hideOutput": false,
    "hidePrompt": false
   },
   "outputs": [
    {
     "data": {
      "text/plain": [
       "(56, 17, 58, 40, 12, 18, 56)"
      ]
     },
     "execution_count": 34,
     "metadata": {},
     "output_type": "execute_result"
    }
   ],
   "source": [
    "My_Tuple[9 : 30: 3]"
   ]
  },
  {
   "cell_type": "markdown",
   "metadata": {},
   "source": [
    "## My_Tuple[ : 30 : 3]"
   ]
  },
  {
   "cell_type": "code",
   "execution_count": 35,
   "metadata": {
    "hideCode": true,
    "hideOutput": true
   },
   "outputs": [
    {
     "data": {
      "text/plain": [
       "(57, 37, 51, 56, 17, 58, 40, 12, 18, 56)"
      ]
     },
     "execution_count": 35,
     "metadata": {},
     "output_type": "execute_result"
    }
   ],
   "source": [
    "My_Tuple[ : 30 : 3]"
   ]
  },
  {
   "cell_type": "markdown",
   "metadata": {},
   "source": [
    "## My_Tuple[ 80:  : 3]"
   ]
  },
  {
   "cell_type": "code",
   "execution_count": 36,
   "metadata": {
    "hideCode": true,
    "hideOutput": true
   },
   "outputs": [
    {
     "data": {
      "text/plain": [
       "(50, 25, 17, 60, 27, 43, 44)"
      ]
     },
     "execution_count": 36,
     "metadata": {},
     "output_type": "execute_result"
    }
   ],
   "source": [
    "My_Tuple[ 80:  : 3]"
   ]
  },
  {
   "cell_type": "markdown",
   "metadata": {},
   "source": [
    "## My_Tuple[60 :  80 : ]"
   ]
  },
  {
   "cell_type": "code",
   "execution_count": 38,
   "metadata": {
    "hideCode": true,
    "hideOutput": true
   },
   "outputs": [
    {
     "name": "stdout",
     "output_type": "stream",
     "text": [
      "(30, 11, 30, 60, 29, 20, 54, 47, 54, 35, 60, 15, 35, 41, 56, 45, 47, 57, 58, 39)\n"
     ]
    }
   ],
   "source": [
    "print(My_Tuple[60 :  80 : ], sep=\"\")"
   ]
  },
  {
   "cell_type": "markdown",
   "metadata": {},
   "source": [
    "## Mutating / altering the value\n",
    "\n",
    "### The same indexing method that can be used to get out an element from a list can be also used to alter/change/mutate that position in the list. All we have to do is index the element and add \"=\" (equals to sign) and followed by new value that we want to put there.\n",
    "\n",
    "# Pay attention"
   ]
  },
  {
   "cell_type": "code",
   "execution_count": 5,
   "metadata": {},
   "outputs": [],
   "source": [
    "My_List_2 = [35, 45, 63, 78, 98, 25]"
   ]
  },
  {
   "cell_type": "code",
   "execution_count": 6,
   "metadata": {},
   "outputs": [
    {
     "name": "stdout",
     "output_type": "stream",
     "text": [
      "[35, 45, 63, 78, 98, 25]\n"
     ]
    }
   ],
   "source": [
    "print(My_List_2)"
   ]
  },
  {
   "cell_type": "code",
   "execution_count": 7,
   "metadata": {},
   "outputs": [
    {
     "data": {
      "text/plain": [
       "78"
      ]
     },
     "execution_count": 7,
     "metadata": {},
     "output_type": "execute_result"
    }
   ],
   "source": [
    "My_List_2[3]"
   ]
  },
  {
   "cell_type": "code",
   "execution_count": 8,
   "metadata": {},
   "outputs": [
    {
     "name": "stdout",
     "output_type": "stream",
     "text": [
      "[35, 45, 63, 78, 98, 25]\n"
     ]
    }
   ],
   "source": [
    "print(My_List_2)"
   ]
  },
  {
   "cell_type": "code",
   "execution_count": 9,
   "metadata": {},
   "outputs": [],
   "source": [
    "My_List_2[3] = 85"
   ]
  },
  {
   "cell_type": "code",
   "execution_count": 10,
   "metadata": {},
   "outputs": [
    {
     "name": "stdout",
     "output_type": "stream",
     "text": [
      "[35, 45, 63, 85, 98, 25]\n"
     ]
    }
   ],
   "source": [
    "print(My_List_2)"
   ]
  },
  {
   "cell_type": "code",
   "execution_count": 11,
   "metadata": {},
   "outputs": [
    {
     "data": {
      "text/plain": [
       "85"
      ]
     },
     "execution_count": 11,
     "metadata": {},
     "output_type": "execute_result"
    }
   ],
   "source": [
    "My_List_2[3]"
   ]
  },
  {
   "cell_type": "markdown",
   "metadata": {},
   "source": [
    "## Bonus question .. Whole class will clap for the student who is the first to give correct answer and explanation for the incoming question ....<font color=\"red\"> within 30 seconds of question being displayed </font>"
   ]
  },
  {
   "cell_type": "markdown",
   "metadata": {
    "hidePrompt": false
   },
   "source": [
    "# If a tuple is named My_Tuple_3 and its second element is 80. If we say My_Tuple_3[2] = 45 .. what will happen?\n",
    "<ol>\n",
    "<li> 2nd element will become 45\n",
    "<li> 1st element will become 45\n",
    "<li> 3rd element will become 45\n",
    "<li> There will be an error since tuples once created can not be changed\n",
    "</ol>"
   ]
  },
  {
   "cell_type": "markdown",
   "metadata": {},
   "source": [
    "## Let us see in action"
   ]
  },
  {
   "cell_type": "code",
   "execution_count": 28,
   "metadata": {
    "hideCode": false,
    "hideOutput": false
   },
   "outputs": [],
   "source": [
    "My_Tuple_3 = (12, 80, 43, 56, 80)"
   ]
  },
  {
   "cell_type": "code",
   "execution_count": 48,
   "metadata": {
    "hideCode": false,
    "hideOutput": false
   },
   "outputs": [
    {
     "ename": "TypeError",
     "evalue": "'tuple' object does not support item assignment",
     "output_type": "error",
     "traceback": [
      "\u001b[0;31m---------------------------------------------------------------------------\u001b[0m",
      "\u001b[0;31mTypeError\u001b[0m                                 Traceback (most recent call last)",
      "\u001b[0;32m<ipython-input-48-4cd5b8ea66c2>\u001b[0m in \u001b[0;36m<module>\u001b[0;34m\u001b[0m\n\u001b[0;32m----> 1\u001b[0;31m \u001b[0mMy_Tuple_3\u001b[0m\u001b[0;34m[\u001b[0m\u001b[0;36m2\u001b[0m\u001b[0;34m]\u001b[0m \u001b[0;34m=\u001b[0m \u001b[0;36m45\u001b[0m\u001b[0;34m\u001b[0m\u001b[0m\n\u001b[0m",
      "\u001b[0;31mTypeError\u001b[0m: 'tuple' object does not support item assignment"
     ]
    }
   ],
   "source": [
    "My_Tuple_3[2] = 45"
   ]
  },
  {
   "cell_type": "markdown",
   "metadata": {},
   "source": [
    "## Now we are ready for next level of knowledge where many lists are contained inside a list  or many tuples are contained inside a tuple.\n",
    "\n",
    "## How do we index and manipulate such lists or tuples"
   ]
  },
  {
   "cell_type": "code",
   "execution_count": null,
   "metadata": {},
   "outputs": [],
   "source": []
  }
 ],
 "metadata": {
  "celltoolbar": "Hide code",
  "hide_code_all_hidden": false,
  "kernelspec": {
   "display_name": "Python 3",
   "language": "python",
   "name": "python3"
  },
  "language_info": {
   "codemirror_mode": {
    "name": "ipython",
    "version": 3
   },
   "file_extension": ".py",
   "mimetype": "text/x-python",
   "name": "python",
   "nbconvert_exporter": "python",
   "pygments_lexer": "ipython3",
   "version": "3.7.6"
  }
 },
 "nbformat": 4,
 "nbformat_minor": 4
}
