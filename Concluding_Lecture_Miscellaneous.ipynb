{
 "cells": [
  {
   "cell_type": "markdown",
   "metadata": {},
   "source": [
    "## In this lecture we are going to discuss pieces (here and there) that were left"
   ]
  },
  {
   "cell_type": "markdown",
   "metadata": {},
   "source": [
    "<font color=\"red\"><h2> List comprehension</h2></font>\n",
    "\n",
    "## It is essentially a single line of code, that condenses many lines of for loop.\n",
    "\n",
    "## Python is not complete without list comprehension.\n",
    "\n",
    "## It is easier to understand by example. Please pause and read many times until you understand how a traditional for loop and list comprehension are same"
   ]
  },
  {
   "cell_type": "markdown",
   "metadata": {},
   "source": [
    "## <font color=\"red\"> Example 1 </font>"
   ]
  },
  {
   "cell_type": "code",
   "execution_count": 6,
   "metadata": {},
   "outputs": [
    {
     "name": "stdout",
     "output_type": "stream",
     "text": [
      "[0, 1, 4, 9, 16, 25, 36, 49, 64, 81]\n"
     ]
    }
   ],
   "source": [
    "## Traditional for loop\n",
    "Final_List = []\n",
    "for x in range(10):\n",
    "    Final_List.append(x**2)\n",
    "print(Final_List)"
   ]
  },
  {
   "cell_type": "code",
   "execution_count": 2,
   "metadata": {},
   "outputs": [
    {
     "name": "stdout",
     "output_type": "stream",
     "text": [
      "[0, 1, 4, 9, 16, 25, 36, 49, 64, 81]\n"
     ]
    }
   ],
   "source": [
    "# List comprehension\n",
    "Final_List = [x**2 for x in range(10)]\n",
    "print(Final_List)"
   ]
  },
  {
   "cell_type": "markdown",
   "metadata": {},
   "source": [
    "## <font color=\"red\"> Example 2 </font>"
   ]
  },
  {
   "cell_type": "code",
   "execution_count": 4,
   "metadata": {},
   "outputs": [
    {
     "name": "stdout",
     "output_type": "stream",
     "text": [
      "[(1, 0), (2, 0), (2, 1), (3, 0), (3, 1), (3, 2), (4, 0), (4, 1), (4, 2), (4, 3), (5, 0), (5, 1), (5, 2), (5, 3), (5, 4), (6, 0), (6, 1), (6, 2), (6, 3), (6, 4), (6, 5), (7, 0), (7, 1), (7, 2), (7, 3), (7, 4), (7, 5), (7, 6), (8, 0), (8, 1), (8, 2), (8, 3), (8, 4), (8, 5), (8, 6), (8, 7), (9, 0), (9, 1), (9, 2), (9, 3), (9, 4), (9, 5), (9, 6), (9, 7), (9, 8)]\n"
     ]
    }
   ],
   "source": [
    "## Traditional for loop\n",
    "Final_List = []\n",
    "for x in range(10):\n",
    "    for y in range(x):\n",
    "        Final_List.append((x,y))\n",
    "print(Final_List)"
   ]
  },
  {
   "cell_type": "code",
   "execution_count": 5,
   "metadata": {},
   "outputs": [
    {
     "name": "stdout",
     "output_type": "stream",
     "text": [
      "[(1, 0), (2, 0), (2, 1), (3, 0), (3, 1), (3, 2), (4, 0), (4, 1), (4, 2), (4, 3), (5, 0), (5, 1), (5, 2), (5, 3), (5, 4), (6, 0), (6, 1), (6, 2), (6, 3), (6, 4), (6, 5), (7, 0), (7, 1), (7, 2), (7, 3), (7, 4), (7, 5), (7, 6), (8, 0), (8, 1), (8, 2), (8, 3), (8, 4), (8, 5), (8, 6), (8, 7), (9, 0), (9, 1), (9, 2), (9, 3), (9, 4), (9, 5), (9, 6), (9, 7), (9, 8)]\n"
     ]
    }
   ],
   "source": [
    "#List comprehension\n",
    "Final_List = [(x,y) for x in range(10) for y in range(x)]\n",
    "print(Final_List)"
   ]
  },
  {
   "cell_type": "markdown",
   "metadata": {},
   "source": [
    "<font color=\"red\"><h2> Opening and closing of file </h2></font>"
   ]
  },
  {
   "cell_type": "markdown",
   "metadata": {},
   "source": [
    "## A file can be opened in python in read, write, read+write and append modes. A mode is nothing but how you want to operate on the file that you are going to open. \n",
    "\n",
    "## Do you want to just read the content?  <-- Read mode. used as 'r'\n",
    "## Do you want to write to the file (erase previous) <-- Write mode. used as 'w'\n",
    "## Do you want to read and write both? <- Read+Write mode. used as 'r+'\n",
    "## Do you want to keep existing contents and add to the end? <-- append mode, used as 'a'\n",
    "\n",
    "## Once you have decided on mode, you also need to give a handle to the opened file. Handle is nothing but a name/reference to the opened file. This needed so that it can be used later in the program.\n",
    "\n",
    "## If you don't close the file, there can be severe consequences. So it is important to close the file once the jobs related to file are over. \n",
    "\n",
    "## I am going to teach you a syntax that will close the file automatically once the job is over.\n",
    "\n",
    "# Pay attention"
   ]
  },
  {
   "cell_type": "markdown",
   "metadata": {},
   "source": [
    "## Let us first write a number and its square (in the range of 10) to a file and save it as \"MyFirstWrittenFile.txt\"\n",
    "## Hopefully you can see that we need to use write mode ('w')"
   ]
  },
  {
   "cell_type": "code",
   "execution_count": 8,
   "metadata": {},
   "outputs": [],
   "source": [
    "with open(\"MyFirstWrittenFile.txt\", \"w\") as OpenedFileHandle:\n",
    "    for i in range(10):\n",
    "        StringToWrite = str(i)+\",\"+str(i**2)+\"\\n\"\n",
    "        OpenedFileHandle.write(StringToWrite)"
   ]
  },
  {
   "cell_type": "markdown",
   "metadata": {},
   "source": [
    "## Now open the file MyFirstWrittenFile.txt and confirm that everything was written"
   ]
  },
  {
   "cell_type": "markdown",
   "metadata": {},
   "source": [
    "## Now we will open the file in read mode and read its contents and print to the screen."
   ]
  },
  {
   "cell_type": "code",
   "execution_count": 11,
   "metadata": {},
   "outputs": [
    {
     "name": "stdout",
     "output_type": "stream",
     "text": [
      "0,0\n",
      "\n",
      "1,1\n",
      "\n",
      "2,4\n",
      "\n",
      "3,9\n",
      "\n",
      "4,16\n",
      "\n",
      "5,25\n",
      "\n",
      "6,36\n",
      "\n",
      "7,49\n",
      "\n",
      "8,64\n",
      "\n",
      "9,81\n",
      "\n"
     ]
    }
   ],
   "source": [
    "with open(\"MyFirstWrittenFile.txt\", \"r\") as OpenedFileHandle:\n",
    "    ReadLine = OpenedFileHandle.readline()\n",
    "    while(ReadLine):\n",
    "        print(ReadLine)\n",
    "        ## Do whatever you want to with the line that has been read\n",
    "        ReadLine = OpenedFileHandle.readline()"
   ]
  },
  {
   "cell_type": "markdown",
   "metadata": {},
   "source": [
    "## Now lets us open the file in the append mode and increase the lines from 10 to 20"
   ]
  },
  {
   "cell_type": "code",
   "execution_count": 12,
   "metadata": {},
   "outputs": [],
   "source": [
    "with open(\"MyFirstWrittenFile.txt\", \"a\") as OpenedFileHandle:\n",
    "    for i in range(10,21,1):\n",
    "        StringToWrite = str(i)+\",\"+str(i**2)+\"\\n\"\n",
    "        OpenedFileHandle.write(StringToWrite)"
   ]
  },
  {
   "cell_type": "markdown",
   "metadata": {},
   "source": [
    "## Check the file and make sure that not only previous entries are retained but also the new entries are added to the end of the file"
   ]
  },
  {
   "cell_type": "markdown",
   "metadata": {},
   "source": [
    "<font color=\"red\"><h2> Some basic string methods </h2></font>"
   ]
  },
  {
   "cell_type": "markdown",
   "metadata": {},
   "source": [
    "## Suppose you have a long sentence where every word is separated by a space (\" \"). Suppose you want to get every word and save them in a list.\n",
    "\n",
    "## It is very easy.\n",
    "\n",
    "## Please notice carefully\n"
   ]
  },
  {
   "cell_type": "code",
   "execution_count": 14,
   "metadata": {},
   "outputs": [
    {
     "name": "stdout",
     "output_type": "stream",
     "text": [
      "['India', 'became', 'independent', 'in', '1947', 'from', 'British', 'rule!']\n"
     ]
    }
   ],
   "source": [
    "Sentence = \"India became independent in 1947 from British rule!\"\n",
    "List_Of_Words = Sentence.split(\" \")\n",
    "print(List_Of_Words)"
   ]
  },
  {
   "cell_type": "markdown",
   "metadata": {},
   "source": [
    "## Now suppose you have a list of strings like above and you want to join the in a sentence. It is very easy again"
   ]
  },
  {
   "cell_type": "code",
   "execution_count": 15,
   "metadata": {},
   "outputs": [
    {
     "name": "stdout",
     "output_type": "stream",
     "text": [
      "India became independent in 1947 from British rule!\n"
     ]
    }
   ],
   "source": [
    "Reformed_Sentence = \" \".join(List_Of_Words)\n",
    "print(Reformed_Sentence)"
   ]
  },
  {
   "cell_type": "markdown",
   "metadata": {},
   "source": [
    "# Good Bye"
   ]
  },
  {
   "cell_type": "code",
   "execution_count": null,
   "metadata": {},
   "outputs": [],
   "source": []
  }
 ],
 "metadata": {
  "celltoolbar": "Hide code",
  "kernelspec": {
   "display_name": "Python 3",
   "language": "python",
   "name": "python3"
  },
  "language_info": {
   "codemirror_mode": {
    "name": "ipython",
    "version": 3
   },
   "file_extension": ".py",
   "mimetype": "text/x-python",
   "name": "python",
   "nbconvert_exporter": "python",
   "pygments_lexer": "ipython3",
   "version": "3.7.6"
  }
 },
 "nbformat": 4,
 "nbformat_minor": 2
}
