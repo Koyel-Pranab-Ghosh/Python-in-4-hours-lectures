{
 "cells": [
  {
   "cell_type": "markdown",
   "metadata": {},
   "source": [
    "## <font color=\"red\"> Object Oriented Programming </font>.\n",
    "\n",
    "## Please we have a lot to cover today. \n",
    "\n",
    "## There will be no break until this web page says so. Unless it is an emergency (of which Koyel mam thinks it is so) .. stay focussed ... this way or that way ..no break .. so better study!! It is going to get more and more interesting, I promise!!"
   ]
  },
  {
   "cell_type": "markdown",
   "metadata": {},
   "source": [
    "## <font color=\"red\"> Why Object oriented programming?</font>\n",
    "\n",
    "## In real world all things are objects in one way or the other. So what is an object?\n",
    "\n",
    "## An object is something that has one or more properties and one or more behaviors/actions!!\n",
    "\n",
    "## All right that is a good start but what is a property and what is a behavior/action.\n",
    "\n",
    "## Property is something that describes that object while behavior/action is what that object does. These two are different things ... and it takes some efforts initially to distinguish but once you know how to  distinguish them it is a formidable tool to have in your programming toolbox.\n",
    "\n",
    "## Let us see three examples.... a bat-bird, a motorcycle and a man ... (those who are smart already know where we are heading)"
   ]
  },
  {
   "cell_type": "markdown",
   "metadata": {},
   "source": [
    "## <font color=\"red\"> Bat (Bird) </font>"
   ]
  },
  {
   "cell_type": "markdown",
   "metadata": {},
   "source": [
    "## Properties:\n",
    "<ul>\n",
    "    <li> Skin color </li>\n",
    "    <li> Eye color </li>\n",
    "    <li> Height in centimeters </li>\n",
    "    <li> Weight in grams </li>\n",
    "    <li> Maximum intensity of screeching sound in decibels (also called dB) </li>\n",
    "    <li> Maximum speed of flying in meters per second  (also called m/s) </li>\n",
    "</ul>\n",
    "\n",
    "## Behaviors/Actions:\n",
    "<ul>\n",
    "    <li> It can screech for 1 second, 2 seconds, 3 seconds ... so on </li>\n",
    "    <li> It can attack its prey at 1 m/s, 2 m/s, 3 m/s and ... so on </li>\n",
    "    <li> It can fly away from predator at 1 m/s, 2 m/s, 3 m/s and .... so on </li>\n",
    "    <li> It can fly to a height of 1 meter, 2 meters, 3 meters and ... so on </li>\n",
    "</ul>"
   ]
  },
  {
   "cell_type": "markdown",
   "metadata": {},
   "source": [
    "## <font color=\"red\"> Motorcycle </font>"
   ]
  },
  {
   "cell_type": "markdown",
   "metadata": {},
   "source": [
    "## Properties:\n",
    "<ul>\n",
    "    <li> Bike color </li>\n",
    "    <li> Bike Sound </li>\n",
    "    <li> Bike Current Fuel level (litres) </li>\n",
    "    <li> Bike Maximum Fuel level (litres) </li>\n",
    "    <li> Bike length in meters </li>\n",
    "    <li> Bike Weight in kilograms </li>\n",
    "    <li> Bike Current Speed </li>\n",
    "    <li> Bike mileage (in kilometers) </li>\n",
    "    <li> Maximum speed kilometers per hour (also called km/hr) </li>\n",
    "</ul>\n",
    "\n",
    "## Behaviors/Actions:\n",
    "<ul>\n",
    "    <li> It can travel at constant speed </li>\n",
    "    <li> It can accelerate </li>\n",
    "    <li> It can decelerate </li>\n",
    "    <li> It can switch on its headlights </li>\n",
    "    <li> It can start </li>\n",
    "    <li> It can stop </li>\n",
    "    <li> It can keep waiting at intersection </li>\n",
    "    <li> It can keep fill petrol </li>\n",
    "    <li> It can tell the current petrol level </li>\n",
    "    <li> It can donate some petrol to friend </li>\n",
    "</ul>"
   ]
  },
  {
   "cell_type": "markdown",
   "metadata": {},
   "source": [
    "## <font color=\"red\"> Man </font>"
   ]
  },
  {
   "cell_type": "markdown",
   "metadata": {},
   "source": [
    "## Properties:\n",
    "<ul>\n",
    "    <li> Cloth color. </li>\n",
    "    <li> Languages that he can speak. </li>\n",
    "    <li> Money he has in bank account. </li>\n",
    "    <li> Years of programming/science/technology experience. </li>\n",
    "    <li> Number of kilograms he can lift. </li>\n",
    "    <li> Number of opponents he can fight. </li>\n",
    "</ul>\n",
    "\n",
    "## Behaviors/Actions:\n",
    "<ul>\n",
    "    <li> He can hack computers. </li>\n",
    "    <li> He can speak in a language. </li>\n",
    "    <li> He can fix a non-working engineering instrument. </li>\n",
    "    <li> He can lift something and throw. </li>\n",
    "    <li> He can spend money in charity. </li>\n",
    "    <li> He can fight with criminals. </li>\n",
    "</ul>"
   ]
  },
  {
   "cell_type": "markdown",
   "metadata": {},
   "source": [
    "## So a class has properties and behaviours ... Whenever a class is called and saved into a variable then that variable becomes an instance of the class and is now called object. In an object oriented programming we are trying to reduce every problem into one or more well defined and manageable objects."
   ]
  },
  {
   "cell_type": "markdown",
   "metadata": {},
   "source": [
    "## Let us create a class of Bat(Bird) from  ground up. We will start with broader outline and then one step at a time we will make it complete.\n",
    "\n",
    "# Pay attention\n"
   ]
  },
  {
   "cell_type": "code",
   "execution_count": 58,
   "metadata": {},
   "outputs": [],
   "source": [
    "class Bat_Bird:\n",
    "    \n",
    "    def __init__(self, SkinColor, EyeColor, Weight, Height, MaxSoundIntensity, MaxSpeed):\n",
    "        ### All my properties go here\n",
    "        pass\n",
    "    \n",
    "    def Screetch(self, DurationOfSound):\n",
    "        ### Make the steps related to bat sound production\n",
    "        pass\n",
    "        \n",
    "    def AttackPrey(self, SpeedOfAttack):\n",
    "        ### Make the steps related to attacking the prey\n",
    "        pass\n",
    "        \n",
    "    def RunAwayFromPredator(self, SpeedOfRunningAway):\n",
    "        ### Make the steps related to running away from the predator\n",
    "        pass\n",
    "        \n",
    "    def Fly(self, Height):\n",
    "        ### Make the steps related to flying\n",
    "        pass"
   ]
  },
  {
   "cell_type": "markdown",
   "metadata": {},
   "source": [
    "## Now pay attention to the following points"
   ]
  },
  {
   "cell_type": "markdown",
   "metadata": {},
   "source": [
    "<ol>\n",
    "    <li> Name of the class is Bat_Bird </li>\n",
    "    <li> There are 5 functions in this class. A function starts with keyword 'def' </li>\n",
    "    <li> For all 5 functions we have not defined anything inside it but rather used the keyword 'pass'. This makes the function an abstract function and the class an abstract class. </li>\n",
    "    <li> For every function the first argument is 'self' in this class while defining but while using we never write self. <font color=\"red\">Remember this distinction. </font> </li>\n",
    "    <li> first function, that start with \\__init\\__ (two underscores before and after init) is special and is also called a constructor of the class </li>\n",
    "    <li> A constructor is a special function. A constructor initializes the properties of the object. </li>\n",
    "    <li> The initialized properties may or may not change later during the execution of the program. </li>\n",
    "    <li> For every behavior there is a function and we have 4 behaviours. </li>\n",
    "</ol>"
   ]
  },
  {
   "cell_type": "markdown",
   "metadata": {},
   "source": [
    "## Now we will implement our constructor so that depending upon what is supplied at the time of the creation of the object, the properties are initialized likewise. All properties of the class object begin with the keyword 'self'\n",
    "\n",
    "# Pay attention"
   ]
  },
  {
   "cell_type": "code",
   "execution_count": 59,
   "metadata": {},
   "outputs": [],
   "source": [
    "class Bat_Bird:\n",
    "    \n",
    "    def __init__(self, SkinColor, EyeColor, Weight, Height, MaxSoundIntensity, MaxSpeed):\n",
    "        self.SkinColorOfBat = SkinColor\n",
    "        self.EyeColorOfBat = EyeColor\n",
    "        self.WeightOfBat = Weight\n",
    "        self.HeightOfBat = Height\n",
    "        self.MaxSoundIntensityOfBat = MaxSoundIntensity\n",
    "        self.MaxSpeedOfBat = MaxSpeed\n",
    "        print(\"I am a bat and I have just been created\")\n",
    "        print(\"My skin color is \", self.SkinColorOfBat,\" and my eye color is \", self.EyeColorOfBat)\n",
    "        print(\"My weight is \", self.WeightOfBat, \" and my height is \", self.HeightOfBat)\n",
    "        print(\"My max sound intensity is \", self.MaxSoundIntensityOfBat, \" and max speed is \", self.MaxSpeedOfBat)\n",
    "        print(\"I am so ready to fly and make sound.\")\n",
    "    \n",
    "    def Screetch(self, DurationOfSound):\n",
    "        ### Make the steps related to bat sound production\n",
    "        pass\n",
    "        \n",
    "    def AttackPrey(self, SpeedOfAttack):\n",
    "        ### Make the steps related to attacking the prey\n",
    "        pass\n",
    "        \n",
    "    def RunAwayFromPredator(self, SpeedOfRunningAway):\n",
    "        ### Make the steps related to running away from the predator\n",
    "        pass\n",
    "        \n",
    "    def Fly(self, Height):\n",
    "        ### Make the steps related to flying\n",
    "        pass"
   ]
  },
  {
   "cell_type": "markdown",
   "metadata": {},
   "source": [
    "## Now that our constructor is fully functional .. let us create a bat."
   ]
  },
  {
   "cell_type": "code",
   "execution_count": 60,
   "metadata": {},
   "outputs": [
    {
     "name": "stdout",
     "output_type": "stream",
     "text": [
      "I am a bat and I have just been created\n",
      "My skin color is  blue  and my eye color is  brown\n",
      "My weight is  200  and my height is  20\n",
      "My max sound intensity is  30  and max speed is  35\n",
      "I am so ready to fly and make sound.\n"
     ]
    }
   ],
   "source": [
    "Bat_1 = Bat_Bird(SkinColor=\"blue\", EyeColor=\"brown\", Weight=200, Height=20, MaxSoundIntensity=30, MaxSpeed=35)"
   ]
  },
  {
   "cell_type": "markdown",
   "metadata": {},
   "source": [
    "## Let us create another bat. This time with skin color \"black\" and MaxSpeed of 60. Everything else is same as Bat_1"
   ]
  },
  {
   "cell_type": "code",
   "execution_count": 61,
   "metadata": {},
   "outputs": [
    {
     "name": "stdout",
     "output_type": "stream",
     "text": [
      "I am a bat and I have just been created\n",
      "My skin color is  black  and my eye color is  brown\n",
      "My weight is  200  and my height is  20\n",
      "My max sound intensity is  30  and max speed is  60\n",
      "I am so ready to fly and make sound.\n"
     ]
    }
   ],
   "source": [
    "Bat_2 = Bat_Bird(SkinColor=\"black\", EyeColor=\"brown\", Weight=200, Height=20, MaxSoundIntensity=30, MaxSpeed=60)"
   ]
  },
  {
   "cell_type": "markdown",
   "metadata": {},
   "source": [
    "## Do you notice the difference?"
   ]
  },
  {
   "cell_type": "markdown",
   "metadata": {},
   "source": [
    "## Now let us implement the first behavior to \"Screetch\" (make bat sound) for n number of seconds (which is \"DurationOfSound\"). We will add to what has already been created."
   ]
  },
  {
   "cell_type": "code",
   "execution_count": 62,
   "metadata": {},
   "outputs": [],
   "source": [
    "import time\n",
    "class Bat_Bird:\n",
    "    \n",
    "    def __init__(self, SkinColor, EyeColor, Weight, Height, MaxSoundIntensity, MaxSpeed):\n",
    "        self.SkinColorOfBat = SkinColor\n",
    "        self.EyeColorOfBat = EyeColor\n",
    "        self.WeightOfBat = Weight\n",
    "        self.HeightOfBat = Height\n",
    "        self.MaxSoundIntensityOfBat = MaxSoundIntensity\n",
    "        self.MaxSpeedOfBat = MaxSpeed\n",
    "        print(\"I am a bat and I have just been created\")\n",
    "        print(\"My skin color is \", self.SkinColorOfBat,\" and my eye color is \", self.EyeColorOfBat)\n",
    "        print(\"My weight is \", self.WeightOfBat, \" and my height is \", self.HeightOfBat)\n",
    "        print(\"My max sound intensity is \", self.MaxSoundIntensityOfBat, \" and max speed is \", self.MaxSpeedOfBat)\n",
    "        print(\"I am so ready to fly and make sound.\")\n",
    "    \n",
    "    def Screetch(self, DurationOfSound):\n",
    "        for i in range(int(DurationOfSound)):\n",
    "            print(\"I am a \",self.SkinColorOfBat, \" bat and I am screetching and I will scare my prey every second\")\n",
    "            time.sleep(1) ## This statement will stop the execution of the program for 1 second\n",
    "        \n",
    "    def AttackPrey(self, SpeedOfAttack):\n",
    "        ### Make the steps related to attacking the prey\n",
    "        pass\n",
    "        \n",
    "    def RunAwayFromPredator(self, SpeedOfRunningAway):\n",
    "        ### Make the steps related to running away from the predator\n",
    "        pass\n",
    "        \n",
    "    def Fly(self, Height):\n",
    "        ### Make the steps related to flying\n",
    "        pass"
   ]
  },
  {
   "cell_type": "markdown",
   "metadata": {},
   "source": [
    "## So our Screetch behavior is also coded but how do we use it?\n",
    "\n",
    "## Let us make it screetch for 2 seconds and then for 4 seconds.\n",
    "\n",
    "# Pay attention and notice the use of dot(.) \n",
    "\n",
    "# To the left of dot is object name and to the right is behavior name."
   ]
  },
  {
   "cell_type": "code",
   "execution_count": 63,
   "metadata": {},
   "outputs": [
    {
     "name": "stdout",
     "output_type": "stream",
     "text": [
      "I am a bat and I have just been created\n",
      "My skin color is  blue  and my eye color is  brown\n",
      "My weight is  200  and my height is  20\n",
      "My max sound intensity is  30  and max speed is  35\n",
      "I am so ready to fly and make sound.\n"
     ]
    }
   ],
   "source": [
    "## The below line creates an object\n",
    "Bat_1 = Bat_Bird(SkinColor=\"blue\", EyeColor=\"brown\", Weight=200, Height=20, MaxSoundIntensity=30, MaxSpeed=35)"
   ]
  },
  {
   "cell_type": "code",
   "execution_count": 64,
   "metadata": {},
   "outputs": [
    {
     "name": "stdout",
     "output_type": "stream",
     "text": [
      "I am a  blue  bat and I am screetching and I will scare my prey every second\n",
      "I am a  blue  bat and I am screetching and I will scare my prey every second\n"
     ]
    }
   ],
   "source": [
    "## The below line starts a particular behavior\n",
    "Bat_1.Screetch(DurationOfSound=2)"
   ]
  },
  {
   "cell_type": "code",
   "execution_count": 65,
   "metadata": {},
   "outputs": [
    {
     "name": "stdout",
     "output_type": "stream",
     "text": [
      "I am a  blue  bat and I am screetching and I will scare my prey every second\n",
      "I am a  blue  bat and I am screetching and I will scare my prey every second\n",
      "I am a  blue  bat and I am screetching and I will scare my prey every second\n",
      "I am a  blue  bat and I am screetching and I will scare my prey every second\n"
     ]
    }
   ],
   "source": [
    "## The below line starts a particular behavior\n",
    "Bat_1.Screetch(DurationOfSound=4)"
   ]
  },
  {
   "cell_type": "markdown",
   "metadata": {},
   "source": [
    "## Now let us implement the second behavior to \"AttackPrey\" (attack the target food) at a particular speed (which is \"SpeedOfAttack\"). We will add to what has already been created."
   ]
  },
  {
   "cell_type": "code",
   "execution_count": 66,
   "metadata": {},
   "outputs": [],
   "source": [
    "import time\n",
    "class Bat_Bird:\n",
    "    \n",
    "    def __init__(self, SkinColor, EyeColor, Weight, Height, MaxSoundIntensity, MaxSpeed):\n",
    "        self.SkinColorOfBat = SkinColor\n",
    "        self.EyeColorOfBat = EyeColor\n",
    "        self.WeightOfBat = Weight\n",
    "        self.HeightOfBat = Height\n",
    "        self.MaxSoundIntensityOfBat = MaxSoundIntensity\n",
    "        self.MaxSpeedOfBat = MaxSpeed\n",
    "        print(\"I am a bat and I have just been created\")\n",
    "        print(\"My skin color is \", self.SkinColorOfBat,\" and my eye color is \", self.EyeColorOfBat)\n",
    "        print(\"My weight is \", self.WeightOfBat, \" and my height is \", self.HeightOfBat)\n",
    "        print(\"My max sound intensity is \", self.MaxSoundIntensityOfBat, \" and max speed is \", self.MaxSpeedOfBat)\n",
    "        print(\"I am so ready to fly and make sound.\")\n",
    "    \n",
    "    def Screetch(self, DurationOfSound):\n",
    "        for i in range(int(DurationOfSound)):\n",
    "            print(\"I am a \",self.SkinColorOfBat, \" bat and I am screetching and I will scare my prey every second\")\n",
    "            time.sleep(1) ## This statement will stop the execution of the program for 1 second\n",
    "        \n",
    "    def AttackPrey(self, SpeedOfAttack):\n",
    "        print(\"I have located the food and I am chasing it at a speed of \", SpeedOfAttack, \" km/hr!\")\n",
    "        \n",
    "    def RunAwayFromPredator(self, SpeedOfRunningAway):\n",
    "        ### Make the steps related to running away from the predator\n",
    "        pass\n",
    "        \n",
    "    def Fly(self, Height):\n",
    "        ### Make the steps related to flying\n",
    "        pass"
   ]
  },
  {
   "cell_type": "markdown",
   "metadata": {},
   "source": [
    "## So how do we use it? Just as before... "
   ]
  },
  {
   "cell_type": "code",
   "execution_count": 67,
   "metadata": {},
   "outputs": [
    {
     "name": "stdout",
     "output_type": "stream",
     "text": [
      "I am a bat and I have just been created\n",
      "My skin color is  blue  and my eye color is  brown\n",
      "My weight is  200  and my height is  20\n",
      "My max sound intensity is  30  and max speed is  35\n",
      "I am so ready to fly and make sound.\n"
     ]
    }
   ],
   "source": [
    "## The below line creates an object\n",
    "Bat_1 = Bat_Bird(SkinColor=\"blue\", EyeColor=\"brown\", Weight=200, Height=20, MaxSoundIntensity=30, MaxSpeed=35)"
   ]
  },
  {
   "cell_type": "code",
   "execution_count": 68,
   "metadata": {},
   "outputs": [
    {
     "name": "stdout",
     "output_type": "stream",
     "text": [
      "I have located the food and I am chasing it at a speed of  40  km/hr!\n"
     ]
    }
   ],
   "source": [
    "## The below line starts a particular behavior\n",
    "Bat_1.AttackPrey(SpeedOfAttack=40)"
   ]
  },
  {
   "cell_type": "code",
   "execution_count": 69,
   "metadata": {},
   "outputs": [
    {
     "name": "stdout",
     "output_type": "stream",
     "text": [
      "I have located the food and I am chasing it at a speed of  60  km/hr!\n"
     ]
    }
   ],
   "source": [
    "## The below line starts a particular behavior\n",
    "Bat_1.AttackPrey(SpeedOfAttack=60)"
   ]
  },
  {
   "cell_type": "markdown",
   "metadata": {},
   "source": [
    "## Let us implement the RunAwayFromPredator and Fly behaviors as well. Then we will have a fully functional bat class."
   ]
  },
  {
   "cell_type": "code",
   "execution_count": 70,
   "metadata": {},
   "outputs": [],
   "source": [
    "import time\n",
    "class Bat_Bird:\n",
    "    \n",
    "    def __init__(self, SkinColor, EyeColor, Weight, Height, MaxSoundIntensity, MaxSpeed):\n",
    "        self.SkinColorOfBat = SkinColor\n",
    "        self.EyeColorOfBat = EyeColor\n",
    "        self.WeightOfBat = Weight\n",
    "        self.HeightOfBat = Height\n",
    "        self.MaxSoundIntensityOfBat = MaxSoundIntensity\n",
    "        self.MaxSpeedOfBat = MaxSpeed\n",
    "        print(\"I am a bat and I have just been created\")\n",
    "        print(\"My skin color is \", self.SkinColorOfBat,\" and my eye color is \", self.EyeColorOfBat)\n",
    "        print(\"My weight is \", self.WeightOfBat, \" and my height is \", self.HeightOfBat)\n",
    "        print(\"My max sound intensity is \", self.MaxSoundIntensityOfBat, \" and max speed is \", self.MaxSpeedOfBat)\n",
    "        print(\"I am so ready to fly and make sound.\")\n",
    "    \n",
    "    def Screetch(self, DurationOfSound):\n",
    "        for i in range(int(DurationOfSound)):\n",
    "            print(\"I am a \",self.SkinColorOfBat, \" bat and I am screetching and I will scare my prey every second\")\n",
    "            time.sleep(1) ## This statement will stop the execution of the program for 1 second\n",
    "        \n",
    "    def AttackPrey(self, SpeedOfAttack):\n",
    "        print(\"I have located the food and I am chasing it at a speed of \", SpeedOfAttack, \" km/hr!\")\n",
    "        \n",
    "    def RunAwayFromPredator(self, SpeedOfRunningAway):\n",
    "        print(\"Oh no! I have become somebody's food. I am getting attacked. I must run away at \",SpeedOfRunningAway, \" km/hr! \")\n",
    "        \n",
    "    def Fly(self, Height):\n",
    "        print(\"Oh yeah! I can fly up and high. I am flying to the height of \", Height, \" meters!\")"
   ]
  },
  {
   "cell_type": "code",
   "execution_count": 71,
   "metadata": {},
   "outputs": [
    {
     "name": "stdout",
     "output_type": "stream",
     "text": [
      "I am a bat and I have just been created\n",
      "My skin color is  blue  and my eye color is  brown\n",
      "My weight is  200  and my height is  20\n",
      "My max sound intensity is  30  and max speed is  35\n",
      "I am so ready to fly and make sound.\n"
     ]
    }
   ],
   "source": [
    "## The below line creates an object\n",
    "Bat_1 = Bat_Bird(SkinColor=\"blue\", EyeColor=\"brown\", Weight=200, Height=20, MaxSoundIntensity=30, MaxSpeed=35)"
   ]
  },
  {
   "cell_type": "code",
   "execution_count": 72,
   "metadata": {},
   "outputs": [
    {
     "name": "stdout",
     "output_type": "stream",
     "text": [
      "Oh no! I have become somebody's food. I am getting attacked. I must run away at  80  km/hr! \n"
     ]
    }
   ],
   "source": [
    "## The below line starts a particular behavior\n",
    "Bat_1.RunAwayFromPredator(SpeedOfRunningAway=80)"
   ]
  },
  {
   "cell_type": "code",
   "execution_count": 73,
   "metadata": {},
   "outputs": [
    {
     "name": "stdout",
     "output_type": "stream",
     "text": [
      "Oh yeah! I can fly up and high. I am flying to the height of  2000  meters!\n"
     ]
    }
   ],
   "source": [
    "## The below line starts a particular behavior\n",
    "Bat_1.Fly(Height=2000)"
   ]
  },
  {
   "cell_type": "markdown",
   "metadata": {},
   "source": [
    "## Important learning outcomes!!"
   ]
  },
  {
   "cell_type": "markdown",
   "metadata": {},
   "source": [
    "<h3> \n",
    "<ol>\n",
    "    <li> Identify your properties and behaviors </li>\n",
    "    <li> Initialize your properties in constructor (def \\__init\\__). You can always update later. </li>\n",
    "    <li> For every behavior implement a function <font color=\"Red\"> only one by one. </font>. </li>\n",
    "    <li> Create an object using class constructor. </li>\n",
    "    <li> Call a behavior using . (dot) notation and behavior function name. </li>\n",
    "</ol>\n",
    "</h3>"
   ]
  },
  {
   "cell_type": "markdown",
   "metadata": {},
   "source": [
    "## <font color=\"red\">Using above let us create motorcycle class.</font>"
   ]
  },
  {
   "cell_type": "markdown",
   "metadata": {},
   "source": [
    "## Identify your properties and behaviors"
   ]
  },
  {
   "cell_type": "markdown",
   "metadata": {},
   "source": [
    "## Properties:\n",
    "<ul>\n",
    "    <li> Bike color </li>\n",
    "    <li> Bike Sound </li>\n",
    "    <li> Bike Current Fuel level (litres) </li>\n",
    "    <li> Bike Maximum Fuel level (litres) </li>\n",
    "    <li> Bike length in meters </li>\n",
    "    <li> Bike Weight in kilograms </li>\n",
    "    <li> Bike Current Speed </li>\n",
    "    <li> Bike mileage (in kilometers) </li>\n",
    "    <li> Maximum speed kilometers per hour (also called km/hr) </li>\n",
    "</ul>\n",
    "\n",
    "## Behaviors/Actions:\n",
    "<ul>\n",
    "    <li> It can travel at constant speed </li>\n",
    "    <li> It can accelerate </li>\n",
    "    <li> It can decelerate </li>\n",
    "    <li> It can switch on its headlights </li>\n",
    "    <li> It can start </li>\n",
    "    <li> It can stop </li>\n",
    "    <li> It can tell the current speed </li>\n",
    "    <li> It can keep fill petrol </li>\n",
    "    <li> It can tell the current petrol level </li>\n",
    "    <li> It can donate some petrol to friend </li>\n",
    "</ul>"
   ]
  },
  {
   "cell_type": "markdown",
   "metadata": {},
   "source": [
    "## Initialize your properties in constructor (def \\__init\\__). You can always update later."
   ]
  },
  {
   "cell_type": "code",
   "execution_count": 100,
   "metadata": {},
   "outputs": [],
   "source": [
    "class Motorcycle:\n",
    "    \n",
    "    def __init__(self, \n",
    "                 BikeColor, \n",
    "                 BikeSound, \n",
    "                 BikeMaximumFuelLevel, \n",
    "                 BikeLength, \n",
    "                 BikeWeight,\n",
    "                 BikeMileage, \n",
    "                 BikeMaximumSpeed):\n",
    "        self.ColorOfBike = BikeColor\n",
    "        self.SoundOfBike = BikeSound\n",
    "        self.CurrentFuelLevel = 0\n",
    "        self.CurrentSpeed = 0\n",
    "        self.MaximumFuelLevel = BikeMaximumFuelLevel\n",
    "        self.LengthOfBike = BikeLength\n",
    "        self.WeightOfBike = BikeWeight\n",
    "        self.MileageOfBike = BikeMileage\n",
    "        self.MaxSpeedOfBike = BikeMaximumSpeed\n",
    "        print(\"A new bike has been created\")\n",
    "    \n",
    "    def Travel(self, Distance):\n",
    "        pass\n",
    "    \n",
    "    def Accelerate(self, IncreaseByThisValue):\n",
    "        pass\n",
    "    \n",
    "    def Decelerate(self, DecreaseByThisValue):\n",
    "        pass\n",
    "    \n",
    "    def Start(self, MakeTheSpeedUpto):\n",
    "        pass\n",
    "    \n",
    "    def Stop(self):\n",
    "        pass\n",
    "\n",
    "    def ShowSpeed(self):\n",
    "        pass\n",
    "    \n",
    "    def FillPetrol(self, AmountOfPetrol):\n",
    "        pass\n",
    "    \n",
    "    def ShowPetrolLevel(self):\n",
    "        pass\n",
    "    \n",
    "    def DonatePetrol(self, AmountToDonate):\n",
    "        pass\n",
    "        "
   ]
  },
  {
   "cell_type": "markdown",
   "metadata": {},
   "source": [
    "## For every behavior implement a function <font color=\"Red\"> only one by one. </font>."
   ]
  },
  {
   "cell_type": "markdown",
   "metadata": {},
   "source": [
    "## You must have noticed in the contructor that initially the CurrentFuelLevel is 0. So we need to fill the fuel first. However we need to take care that the fuel can't be more than the tank capacity which is MaximumFuelLevel.\n",
    "\n",
    "## We will also implement the behavior which tells about the current petrol level and the ability to donate petrol to friend (a friend in need is a friend indeed).\n",
    "\n",
    "## Let us implement that one."
   ]
  },
  {
   "cell_type": "code",
   "execution_count": 232,
   "metadata": {},
   "outputs": [],
   "source": [
    "class Motorcycle:\n",
    "    \n",
    "    def __init__(self, \n",
    "                 BikeColor, \n",
    "                 BikeSound, \n",
    "                 BikeMaximumFuelLevel, \n",
    "                 BikeLength, \n",
    "                 BikeWeight,\n",
    "                 BikeMileage, \n",
    "                 BikeMaximumSpeed):\n",
    "        self.ColorOfBike = BikeColor\n",
    "        self.SoundOfBike = BikeSound\n",
    "        self.CurrentFuelLevel = 0\n",
    "        self.CurrentSpeed = 0\n",
    "        self.MaximumFuelLevel = BikeMaximumFuelLevel\n",
    "        self.LengthOfBike = BikeLength\n",
    "        self.WeightOfBike = BikeWeight\n",
    "        self.MileageOfBike = BikeMileage\n",
    "        self.MaxSpeedOfBike = BikeMaximumSpeed\n",
    "        print(\"A new bike has been created\")\n",
    "    \n",
    "    def Travel(self, Distance):\n",
    "        pass\n",
    "    \n",
    "    def Accelerate(self, IncreaseByThisValue):\n",
    "        pass\n",
    "    \n",
    "    def Decelerate(self, DecreaseByThisValue):\n",
    "        pass\n",
    "    \n",
    "    def Start(self, MakeTheSpeedUpto):\n",
    "        pass\n",
    "    \n",
    "    def Stop(self):\n",
    "        pass\n",
    "\n",
    "    def ShowSpeed(self):\n",
    "        pass\n",
    "    \n",
    "    def FillPetrol(self, AmountOfPetrol):\n",
    "        FuelCapacityRemaining = self.MaximumFuelLevel - self.CurrentFuelLevel\n",
    "        if AmountOfPetrol > FuelCapacityRemaining:\n",
    "            print(\"You have extra fuel.\")\n",
    "            self.CurrentFuelLevel = self.MaximumFuelLevel\n",
    "            ExtraFuel = AmountOfPetrol - FuelCapacityRemaining\n",
    "            print(\"I have filled to the capacity but you have to return \", ExtraFuel, \" litres back to station\")\n",
    "        elif AmountOfPetrol == FuelCapacityRemaining:\n",
    "            print(\"What a purchase. You bought just enough fuel to fill the tank\")\n",
    "            self.CurrentFuelLevel = self.MaximumFuelLevel\n",
    "        else:\n",
    "            print(\"Good decision to fill up the tank!\")\n",
    "            self.CurrentFuelLevel += AmountOfPetrol\n",
    "        \n",
    "    def ShowPetrolLevel(self):\n",
    "        print(\"Currently I have \", self.CurrentFuelLevel, \" litres of petrol!\")\n",
    "    \n",
    "    def DonatePetrol(self, AmountToDonate):\n",
    "        if AmountToDonate > self.CurrentFuelLevel:\n",
    "            print(\"I am sorry my friend. I don't have enough fuel\")\n",
    "            print(\"I am giving you my tank but that will be only \", self.CurrentFuelLevel,\" litres of petrol!\")\n",
    "            self.CurrentFuelLevel = 0\n",
    "        else:\n",
    "            print(\"Glad I could be of your help. I am giving \", AmountToDonate, \" litres of petrol\")\n",
    "            self.CurrentFuelLevel -= AmountToDonate"
   ]
  },
  {
   "cell_type": "markdown",
   "metadata": {},
   "source": [
    "## Now let us test if the fuel can be filled correctly."
   ]
  },
  {
   "cell_type": "code",
   "execution_count": 233,
   "metadata": {},
   "outputs": [
    {
     "name": "stdout",
     "output_type": "stream",
     "text": [
      "A new bike has been created\n"
     ]
    }
   ],
   "source": [
    "## First create a motorcyle class object\n",
    "Bike_1 = Motorcycle(BikeColor=\"Black\", \n",
    "                    BikeSound=\"Wroom\",\n",
    "                    BikeMaximumFuelLevel=45,\n",
    "                    BikeLength=2,\n",
    "                    BikeWeight=200,\n",
    "                    BikeMileage=40,\n",
    "                    BikeMaximumSpeed=160)"
   ]
  },
  {
   "cell_type": "markdown",
   "metadata": {},
   "source": [
    "## So the tank capacity is 45 litres and currently the tank is empty. Let us try to fill 50 litres."
   ]
  },
  {
   "cell_type": "code",
   "execution_count": 234,
   "metadata": {},
   "outputs": [
    {
     "name": "stdout",
     "output_type": "stream",
     "text": [
      "You have extra fuel.\n",
      "I have filled to the capacity but you have to return  5  litres back to station\n"
     ]
    }
   ],
   "source": [
    "Bike_1.FillPetrol(AmountOfPetrol=50)"
   ]
  },
  {
   "cell_type": "code",
   "execution_count": 235,
   "metadata": {
    "hideCode": false
   },
   "outputs": [
    {
     "name": "stdout",
     "output_type": "stream",
     "text": [
      "Currently I have  45  litres of petrol!\n"
     ]
    }
   ],
   "source": [
    "Bike_1.ShowPetrolLevel()"
   ]
  },
  {
   "cell_type": "markdown",
   "metadata": {},
   "source": [
    "## Let us give give 45 litre to friend"
   ]
  },
  {
   "cell_type": "code",
   "execution_count": 236,
   "metadata": {},
   "outputs": [
    {
     "name": "stdout",
     "output_type": "stream",
     "text": [
      "Glad I could be of your help. I am giving  45  litres of petrol\n"
     ]
    }
   ],
   "source": [
    "Bike_1.DonatePetrol(AmountToDonate=45)"
   ]
  },
  {
   "cell_type": "code",
   "execution_count": 237,
   "metadata": {},
   "outputs": [
    {
     "name": "stdout",
     "output_type": "stream",
     "text": [
      "Currently I have  0  litres of petrol!\n"
     ]
    }
   ],
   "source": [
    "Bike_1.ShowPetrolLevel()"
   ]
  },
  {
   "cell_type": "markdown",
   "metadata": {},
   "source": [
    "## Now let us first fill by 40 litres and then again by 10 litres"
   ]
  },
  {
   "cell_type": "code",
   "execution_count": 238,
   "metadata": {},
   "outputs": [
    {
     "name": "stdout",
     "output_type": "stream",
     "text": [
      "Good decision to fill up the tank!\n"
     ]
    }
   ],
   "source": [
    "Bike_1.FillPetrol(AmountOfPetrol=40)"
   ]
  },
  {
   "cell_type": "code",
   "execution_count": 239,
   "metadata": {},
   "outputs": [
    {
     "name": "stdout",
     "output_type": "stream",
     "text": [
      "Currently I have  40  litres of petrol!\n"
     ]
    }
   ],
   "source": [
    "Bike_1.ShowPetrolLevel()"
   ]
  },
  {
   "cell_type": "code",
   "execution_count": 240,
   "metadata": {},
   "outputs": [
    {
     "name": "stdout",
     "output_type": "stream",
     "text": [
      "You have extra fuel.\n",
      "I have filled to the capacity but you have to return  5  litres back to station\n"
     ]
    }
   ],
   "source": [
    "Bike_1.FillPetrol(AmountOfPetrol=10)"
   ]
  },
  {
   "cell_type": "code",
   "execution_count": 241,
   "metadata": {},
   "outputs": [
    {
     "name": "stdout",
     "output_type": "stream",
     "text": [
      "Currently I have  45  litres of petrol!\n"
     ]
    }
   ],
   "source": [
    "Bike_1.ShowPetrolLevel()"
   ]
  },
  {
   "cell_type": "markdown",
   "metadata": {},
   "source": [
    "## Now once we have petrol we should know how to start the motorcycle. We have assumed that this is a superbike and it can go from 0 km/hr to whatever speed instantly.\n",
    "\n",
    "## Let us start the bike and make the current speed accordingly. We will also implement the behavior to show the current speed. We will also implement Stopping the bike which will bring the current Speed to 0."
   ]
  },
  {
   "cell_type": "code",
   "execution_count": 242,
   "metadata": {},
   "outputs": [],
   "source": [
    "class Motorcycle:\n",
    "    \n",
    "    def __init__(self, \n",
    "                 BikeColor, \n",
    "                 BikeSound, \n",
    "                 BikeMaximumFuelLevel, \n",
    "                 BikeLength, \n",
    "                 BikeWeight,\n",
    "                 BikeMileage, \n",
    "                 BikeMaximumSpeed):\n",
    "        self.ColorOfBike = BikeColor\n",
    "        self.SoundOfBike = BikeSound\n",
    "        self.CurrentFuelLevel = 0\n",
    "        self.CurrentSpeed = 0\n",
    "        self.MaximumFuelLevel = BikeMaximumFuelLevel\n",
    "        self.LengthOfBike = BikeLength\n",
    "        self.WeightOfBike = BikeWeight\n",
    "        self.MileageOfBike = BikeMileage\n",
    "        self.MaxSpeedOfBike = BikeMaximumSpeed\n",
    "        print(\"A new bike has been created\")\n",
    "    \n",
    "    def Travel(self, Distance):\n",
    "        pass\n",
    "    \n",
    "    def Accelerate(self, IncreaseByThisValue):\n",
    "        pass\n",
    "    \n",
    "    def Decelerate(self, DecreaseByThisValue):\n",
    "        pass\n",
    "    \n",
    "    def Start(self, MakeTheSpeedUpto):\n",
    "        if self.CurrentFuelLevel > 0.00:\n",
    "            for i in range(5):\n",
    "                print(self.SoundOfBike)\n",
    "            if MakeTheSpeedUpto > self.MaxSpeedOfBike:\n",
    "                print(\"I can not travel this fast but I will go my max speed\")\n",
    "                self.CurrentSpeed = self.MaxSpeedOfBike\n",
    "            else:\n",
    "                self.CurrentSpeed = MakeTheSpeedUpto\n",
    "        else:\n",
    "            print(\"Ohh no! We don't have petrol. We can't start!!\")\n",
    "            \n",
    "    \n",
    "    def Stop(self):\n",
    "        print(\"I have travelled enough. Let's take a break\")\n",
    "        self.CurrentSpeed = 0\n",
    "\n",
    "    \n",
    "    def ShowSpeed(self):\n",
    "        if self.CurrentSpeed > 0.00:\n",
    "            print(\"I am moving at \", self.CurrentSpeed, \" km/hr!\")\n",
    "        else:\n",
    "            print(\"I am halted. Please don't disturb. Let me take rest.\")\n",
    "    \n",
    "    def FillPetrol(self, AmountOfPetrol):\n",
    "        FuelCapacityRemaining = self.MaximumFuelLevel - self.CurrentFuelLevel\n",
    "        if AmountOfPetrol > FuelCapacityRemaining:\n",
    "            print(\"You have extra fuel.\")\n",
    "            self.CurrentFuelLevel = self.MaximumFuelLevel\n",
    "            ExtraFuel = AmountOfPetrol - FuelCapacityRemaining\n",
    "            print(\"I have filled to the capacity but you have to return \", ExtraFuel, \"litres back to station\")\n",
    "        elif AmountOfPetrol == FuelCapacityRemaining:\n",
    "            print(\"What a purchase. You bought just enough fuel to fill the tank\")\n",
    "            self.CurrentFuelLevel = self.MaximumFuelLevel\n",
    "        else:\n",
    "            print(\"Good decision to fill up the tank!\")\n",
    "            self.CurrentFuelLevel += AmountOfPetrol\n",
    "        \n",
    "    def ShowPetrolLevel(self):\n",
    "        print(\"Currently I have \", self.CurrentFuelLevel, \" litred of petrol!\")\n",
    "    \n",
    "    def DonatePetrol(self, AmountToDonate):\n",
    "        if AmountToDonate > self.CurrentFuelLevel:\n",
    "            print(\"I am sorry my friend. I don't have enough fuel\")\n",
    "            print(\"I am giving you my tank but that will be only \", self.CurrentFuelLevel,\" litres of petrol!\")\n",
    "            self.CurrentFuelLevel = 0\n",
    "        else:\n",
    "            print(\"Glad I could be of your help. I am giving \", AmountToDonate, \" litres of petrol\")\n",
    "            self.CurrentFuelLevel -= AmountToDonate"
   ]
  },
  {
   "cell_type": "markdown",
   "metadata": {},
   "source": [
    "## Implemented. Now let us try to wrongly start the bike, by (a) Starting an empty tank bike, (b) Giving speed more than max speed"
   ]
  },
  {
   "cell_type": "code",
   "execution_count": 243,
   "metadata": {},
   "outputs": [
    {
     "name": "stdout",
     "output_type": "stream",
     "text": [
      "A new bike has been created\n"
     ]
    }
   ],
   "source": [
    "## First create a motorcyle class object\n",
    "Bike_1 = Motorcycle(BikeColor=\"Black\", \n",
    "                    BikeSound=\"Wroom\",\n",
    "                    BikeMaximumFuelLevel=45,\n",
    "                    BikeLength=2,\n",
    "                    BikeWeight=200,\n",
    "                    BikeMileage=40,\n",
    "                    BikeMaximumSpeed=160)"
   ]
  },
  {
   "cell_type": "code",
   "execution_count": 244,
   "metadata": {},
   "outputs": [
    {
     "name": "stdout",
     "output_type": "stream",
     "text": [
      "Currently I have  0  litred of petrol!\n"
     ]
    }
   ],
   "source": [
    "Bike_1.ShowPetrolLevel()"
   ]
  },
  {
   "cell_type": "code",
   "execution_count": 245,
   "metadata": {},
   "outputs": [
    {
     "name": "stdout",
     "output_type": "stream",
     "text": [
      "Ohh no! We don't have petrol. We can't start!!\n"
     ]
    }
   ],
   "source": [
    "Bike_1.Start(MakeTheSpeedUpto=90)"
   ]
  },
  {
   "cell_type": "code",
   "execution_count": 246,
   "metadata": {},
   "outputs": [
    {
     "name": "stdout",
     "output_type": "stream",
     "text": [
      "You have extra fuel.\n",
      "I have filled to the capacity but you have to return  35 litres back to station\n"
     ]
    }
   ],
   "source": [
    "Bike_1.FillPetrol(AmountOfPetrol=80)"
   ]
  },
  {
   "cell_type": "code",
   "execution_count": 247,
   "metadata": {},
   "outputs": [
    {
     "name": "stdout",
     "output_type": "stream",
     "text": [
      "Wroom\n",
      "Wroom\n",
      "Wroom\n",
      "Wroom\n",
      "Wroom\n",
      "I can not travel this fast but I will go my max speed\n"
     ]
    }
   ],
   "source": [
    "Bike_1.Start(MakeTheSpeedUpto=230)"
   ]
  },
  {
   "cell_type": "code",
   "execution_count": 248,
   "metadata": {},
   "outputs": [
    {
     "name": "stdout",
     "output_type": "stream",
     "text": [
      "I am moving at  160  km/hr!\n"
     ]
    }
   ],
   "source": [
    "Bike_1.ShowSpeed()"
   ]
  },
  {
   "cell_type": "code",
   "execution_count": 249,
   "metadata": {},
   "outputs": [
    {
     "name": "stdout",
     "output_type": "stream",
     "text": [
      "I have travelled enough. Let's take a break\n"
     ]
    }
   ],
   "source": [
    "Bike_1.Stop()"
   ]
  },
  {
   "cell_type": "code",
   "execution_count": 250,
   "metadata": {},
   "outputs": [
    {
     "name": "stdout",
     "output_type": "stream",
     "text": [
      "Wroom\n",
      "Wroom\n",
      "Wroom\n",
      "Wroom\n",
      "Wroom\n"
     ]
    }
   ],
   "source": [
    "Bike_1.Start(MakeTheSpeedUpto=45)"
   ]
  },
  {
   "cell_type": "code",
   "execution_count": 251,
   "metadata": {},
   "outputs": [
    {
     "name": "stdout",
     "output_type": "stream",
     "text": [
      "I am moving at  45  km/hr!\n"
     ]
    }
   ],
   "source": [
    "Bike_1.ShowSpeed()"
   ]
  },
  {
   "cell_type": "code",
   "execution_count": 252,
   "metadata": {},
   "outputs": [
    {
     "name": "stdout",
     "output_type": "stream",
     "text": [
      "I have travelled enough. Let's take a break\n"
     ]
    }
   ],
   "source": [
    "Bike_1.Stop()"
   ]
  },
  {
   "cell_type": "code",
   "execution_count": 253,
   "metadata": {},
   "outputs": [
    {
     "name": "stdout",
     "output_type": "stream",
     "text": [
      "I am halted. Please don't disturb. Let me take rest.\n"
     ]
    }
   ],
   "source": [
    "Bike_1.ShowSpeed()"
   ]
  },
  {
   "cell_type": "markdown",
   "metadata": {},
   "source": [
    "## Now let us implement the accelerate and decelerate properties. All we have to do is increase and decrease the current speed by specific value."
   ]
  },
  {
   "cell_type": "code",
   "execution_count": 254,
   "metadata": {},
   "outputs": [],
   "source": [
    "class Motorcycle:\n",
    "    \n",
    "    def __init__(self, \n",
    "                 BikeColor, \n",
    "                 BikeSound, \n",
    "                 BikeMaximumFuelLevel, \n",
    "                 BikeLength, \n",
    "                 BikeWeight,\n",
    "                 BikeMileage, \n",
    "                 BikeMaximumSpeed):\n",
    "        self.ColorOfBike = BikeColor\n",
    "        self.SoundOfBike = BikeSound\n",
    "        self.CurrentFuelLevel = 0\n",
    "        self.CurrentSpeed = 0\n",
    "        self.MaximumFuelLevel = BikeMaximumFuelLevel\n",
    "        self.LengthOfBike = BikeLength\n",
    "        self.WeightOfBike = BikeWeight\n",
    "        self.MileageOfBike = BikeMileage\n",
    "        self.MaxSpeedOfBike = BikeMaximumSpeed\n",
    "        print(\"A new bike has been created\")\n",
    "    \n",
    "    def Travel(self, Distance):\n",
    "        pass\n",
    "    \n",
    "    def Accelerate(self, IncreaseByThisValue):\n",
    "        if self.CurrentSpeed > 0.00:\n",
    "            NewCalculatedSpeed = self.CurrentSpeed + IncreaseByThisValue\n",
    "            if NewCalculatedSpeed >= self.MaxSpeedOfBike:\n",
    "                print(\"No no! You can not acclerate to this speed. I am just going to go to the edge!\")\n",
    "                self.CurrentSpeed = self.MaxSpeedOfBike\n",
    "            else:\n",
    "                print(\"I am accelerating to a new speed. Be careful! Speed thrills but it kills!!\")\n",
    "                self.CurrentSpeed += IncreaseByThisValue\n",
    "        else:\n",
    "            print(\"Arey bhaiya! First start the bike. Accelerate later!\")\n",
    "    \n",
    "    def Decelerate(self, DecreaseByThisValue):\n",
    "        if self.CurrentSpeed > 0.00:\n",
    "            NewCalculatedSpeed = self.CurrentSpeed - DecreaseByThisValue\n",
    "            if NewCalculatedSpeed < 0.00:\n",
    "                print(\"Ok I think I know what you mean. I am halting!\")\n",
    "                self.CurrentSpeed = 0.00\n",
    "            else:\n",
    "                print(\"I am decelerating to a new speed. Be careful! Sudden deceleration can cause the bike to skid!\")\n",
    "                self.CurrentSpeed -= DecreaseByThisValue\n",
    "        else:\n",
    "            print(\"The bike is not even started and you are trying to decelerate! Go home and rest!\")\n",
    "    \n",
    "    def Start(self, MakeTheSpeedUpto):\n",
    "        if self.CurrentFuelLevel > 0.00:\n",
    "            for i in range(5):\n",
    "                print(self.SoundOfBike)\n",
    "            if MakeTheSpeedUpto > self.MaxSpeedOfBike:\n",
    "                print(\"I can not travel this fast but I will go my max speed\")\n",
    "                self.CurrentSpeed = self.MaxSpeedOfBike\n",
    "            else:\n",
    "                self.CurrentSpeed = MakeTheSpeedUpto\n",
    "        else:\n",
    "            print(\"Ohh no! We don't have petrol. We can't start!!\")\n",
    "            \n",
    "    \n",
    "    def Stop(self):\n",
    "        print(\"I have travelled enough. Let's take a break\")\n",
    "        self.CurrentSpeed = 0\n",
    "\n",
    "    \n",
    "    def ShowSpeed(self):\n",
    "        if self.CurrentSpeed > 0.00:\n",
    "            print(\"I am moving at \", self.CurrentSpeed, \" km/hr!\")\n",
    "        else:\n",
    "            print(\"I am halted. Please don't disturb. Let me take rest.\")\n",
    "    \n",
    "    def FillPetrol(self, AmountOfPetrol):\n",
    "        FuelCapacityRemaining = self.MaximumFuelLevel - self.CurrentFuelLevel\n",
    "        if AmountOfPetrol > FuelCapacityRemaining:\n",
    "            print(\"You have extra fuel.\")\n",
    "            self.CurrentFuelLevel = self.MaximumFuelLevel\n",
    "            ExtraFuel = AmountOfPetrol - FuelCapacityRemaining\n",
    "            print(\"I have filled to the capacity but you have to return \", ExtraFuel, \"litres back to station\")\n",
    "        elif AmountOfPetrol == FuelCapacityRemaining:\n",
    "            print(\"What a purchase. You bought just enough fuel to fill the tank\")\n",
    "            self.CurrentFuelLevel = self.MaximumFuelLevel\n",
    "        else:\n",
    "            print(\"Good decision to fill up the tank!\")\n",
    "            self.CurrentFuelLevel += AmountOfPetrol\n",
    "        \n",
    "    def ShowPetrolLevel(self):\n",
    "        print(\"Currently I have \", self.CurrentFuelLevel, \" litred of petrol!\")\n",
    "    \n",
    "    def DonatePetrol(self, AmountToDonate):\n",
    "        if AmountToDonate > self.CurrentFuelLevel:\n",
    "            print(\"I am sorry my friend. I don't have enough fuel\")\n",
    "            print(\"I am giving you my tank but that will be only \", self.CurrentFuelLevel,\" litres of petrol!\")\n",
    "            self.CurrentFuelLevel = 0\n",
    "        else:\n",
    "            print(\"Glad I could be of your help. I am giving \", AmountToDonate, \" litres of petrol\")\n",
    "            self.CurrentFuelLevel -= AmountToDonate"
   ]
  },
  {
   "cell_type": "markdown",
   "metadata": {},
   "source": [
    "## As before we will create a bike, fill the tank.\n",
    "\n",
    "## we will try to (a) Accelerate the bike without starting (b) Decelerate the bike without starting and then properly accelerate and decelerate after starting."
   ]
  },
  {
   "cell_type": "code",
   "execution_count": 255,
   "metadata": {},
   "outputs": [
    {
     "name": "stdout",
     "output_type": "stream",
     "text": [
      "A new bike has been created\n"
     ]
    }
   ],
   "source": [
    "## First create a motorcyle class object\n",
    "Bike_1 = Motorcycle(BikeColor=\"Black\", \n",
    "                    BikeSound=\"Wroom\",\n",
    "                    BikeMaximumFuelLevel=45,\n",
    "                    BikeLength=2,\n",
    "                    BikeWeight=200,\n",
    "                    BikeMileage=40,\n",
    "                    BikeMaximumSpeed=160)"
   ]
  },
  {
   "cell_type": "code",
   "execution_count": 256,
   "metadata": {},
   "outputs": [
    {
     "name": "stdout",
     "output_type": "stream",
     "text": [
      "Good decision to fill up the tank!\n"
     ]
    }
   ],
   "source": [
    "Bike_1.FillPetrol(AmountOfPetrol=40)"
   ]
  },
  {
   "cell_type": "code",
   "execution_count": 257,
   "metadata": {},
   "outputs": [
    {
     "name": "stdout",
     "output_type": "stream",
     "text": [
      "Arey bhaiya! First start the bike. Accelerate later!\n"
     ]
    }
   ],
   "source": [
    "Bike_1.Accelerate(IncreaseByThisValue=45)"
   ]
  },
  {
   "cell_type": "code",
   "execution_count": 258,
   "metadata": {},
   "outputs": [
    {
     "name": "stdout",
     "output_type": "stream",
     "text": [
      "The bike is not even started and you are trying to decelerate! Go home and rest!\n"
     ]
    }
   ],
   "source": [
    "Bike_1.Decelerate(DecreaseByThisValue=30)"
   ]
  },
  {
   "cell_type": "code",
   "execution_count": 259,
   "metadata": {},
   "outputs": [
    {
     "name": "stdout",
     "output_type": "stream",
     "text": [
      "Wroom\n",
      "Wroom\n",
      "Wroom\n",
      "Wroom\n",
      "Wroom\n"
     ]
    }
   ],
   "source": [
    "Bike_1.Start(MakeTheSpeedUpto=45)"
   ]
  },
  {
   "cell_type": "code",
   "execution_count": 260,
   "metadata": {},
   "outputs": [
    {
     "name": "stdout",
     "output_type": "stream",
     "text": [
      "I am moving at  45  km/hr!\n"
     ]
    }
   ],
   "source": [
    "Bike_1.ShowSpeed()"
   ]
  },
  {
   "cell_type": "code",
   "execution_count": 261,
   "metadata": {},
   "outputs": [
    {
     "name": "stdout",
     "output_type": "stream",
     "text": [
      "I am accelerating to a new speed. Be careful! Speed thrills but it kills!!\n"
     ]
    }
   ],
   "source": [
    "Bike_1.Accelerate(IncreaseByThisValue=10)"
   ]
  },
  {
   "cell_type": "code",
   "execution_count": 262,
   "metadata": {},
   "outputs": [
    {
     "name": "stdout",
     "output_type": "stream",
     "text": [
      "I am moving at  55  km/hr!\n"
     ]
    }
   ],
   "source": [
    "Bike_1.ShowSpeed()"
   ]
  },
  {
   "cell_type": "code",
   "execution_count": 263,
   "metadata": {},
   "outputs": [
    {
     "name": "stdout",
     "output_type": "stream",
     "text": [
      "I am decelerating to a new speed. Be careful! Sudden deceleration can cause the bike to skid!\n"
     ]
    }
   ],
   "source": [
    "Bike_1.Decelerate(DecreaseByThisValue=15)"
   ]
  },
  {
   "cell_type": "code",
   "execution_count": 264,
   "metadata": {},
   "outputs": [
    {
     "name": "stdout",
     "output_type": "stream",
     "text": [
      "I am moving at  40  km/hr!\n"
     ]
    }
   ],
   "source": [
    "Bike_1.ShowSpeed()"
   ]
  },
  {
   "cell_type": "code",
   "execution_count": 265,
   "metadata": {},
   "outputs": [
    {
     "name": "stdout",
     "output_type": "stream",
     "text": [
      "I have travelled enough. Let's take a break\n"
     ]
    }
   ],
   "source": [
    "Bike_1.Stop()"
   ]
  },
  {
   "cell_type": "code",
   "execution_count": 266,
   "metadata": {},
   "outputs": [
    {
     "name": "stdout",
     "output_type": "stream",
     "text": [
      "I am halted. Please don't disturb. Let me take rest.\n"
     ]
    }
   ],
   "source": [
    "Bike_1.ShowSpeed()"
   ]
  },
  {
   "cell_type": "code",
   "execution_count": 267,
   "metadata": {},
   "outputs": [
    {
     "name": "stdout",
     "output_type": "stream",
     "text": [
      "Arey bhaiya! First start the bike. Accelerate later!\n"
     ]
    }
   ],
   "source": [
    "Bike_1.Accelerate(IncreaseByThisValue=10)"
   ]
  },
  {
   "cell_type": "markdown",
   "metadata": {},
   "source": [
    "## All right .. So now we are ready to implement the Travel behavior.\n",
    "\n",
    "## All we need to do is go to a distance at the current speed and subtract the fuel based on the mileage of the vehicle"
   ]
  },
  {
   "cell_type": "code",
   "execution_count": 268,
   "metadata": {},
   "outputs": [],
   "source": [
    "class Motorcycle:\n",
    "    \n",
    "    def __init__(self, \n",
    "                 BikeColor, \n",
    "                 BikeSound, \n",
    "                 BikeMaximumFuelLevel, \n",
    "                 BikeLength, \n",
    "                 BikeWeight,\n",
    "                 BikeMileage, \n",
    "                 BikeMaximumSpeed):\n",
    "        self.ColorOfBike = BikeColor\n",
    "        self.SoundOfBike = BikeSound\n",
    "        self.CurrentFuelLevel = 0\n",
    "        self.CurrentSpeed = 0\n",
    "        self.MaximumFuelLevel = BikeMaximumFuelLevel\n",
    "        self.LengthOfBike = BikeLength\n",
    "        self.WeightOfBike = BikeWeight\n",
    "        self.MileageOfBike = BikeMileage\n",
    "        self.MaxSpeedOfBike = BikeMaximumSpeed\n",
    "        print(\"A new bike has been created\")\n",
    "    \n",
    "    def Travel(self, Distance):\n",
    "        if self.CurrentSpeed > 0.00:\n",
    "            TotalCapacity = self.MileageOfBike*self.CurrentFuelLevel\n",
    "            if Distance > TotalCapacity:\n",
    "                print(\"All right! We are going to run out of fuel. I refuse to go that far. Please fill tank\")\n",
    "            else:\n",
    "                FuelThatWillBeConsumed = Distance/self.MileageOfBike\n",
    "                self.CurrentFuelLevel -= FuelThatWillBeConsumed\n",
    "                print(\"We are on road trip! We are going to travel for next \", Distance, \" kilometers!\")\n",
    "        else:\n",
    "            print(\"How??? Please start the bike then we can travel!\")\n",
    "    \n",
    "    def Accelerate(self, IncreaseByThisValue):\n",
    "        if self.CurrentSpeed > 0.00:\n",
    "            NewCalculatedSpeed = self.CurrentSpeed + IncreaseByThisValue\n",
    "            if NewCalculatedSpeed >= self.MaxSpeedOfBike:\n",
    "                print(\"No no! You can not acclerate to this speed. I am just going to go to the edge!\")\n",
    "                self.CurrentSpeed = self.MaxSpeedOfBike\n",
    "            else:\n",
    "                print(\"I am accelerating to a new speed. Be careful! Speed thrills but it kills!!\")\n",
    "                self.CurrentSpeed += IncreaseByThisValue\n",
    "        else:\n",
    "            print(\"Arey bhaiya! First start the bike. Accelerate later!\")\n",
    "    \n",
    "    def Decelerate(self, DecreaseByThisValue):\n",
    "        if self.CurrentSpeed > 0.00:\n",
    "            NewCalculatedSpeed = self.CurrentSpeed - DecreaseByThisValue\n",
    "            if NewCalculatedSpeed < 0.00:\n",
    "                print(\"Ok I think I know what you mean. I am halting!\")\n",
    "                self.CurrentSpeed = 0.00\n",
    "            else:\n",
    "                print(\"I am decelerating to a new speed. Be careful! Sudden deceleration can cause the bike to skid!\")\n",
    "                self.CurrentSpeed -= DecreaseByThisValue\n",
    "        else:\n",
    "            print(\"The bike is not even started and you are trying to decelerate! Go home and rest!\")\n",
    "    \n",
    "    def Start(self, MakeTheSpeedUpto):\n",
    "        if self.CurrentFuelLevel > 0.00:\n",
    "            for i in range(5):\n",
    "                print(self.SoundOfBike)\n",
    "            if MakeTheSpeedUpto > self.MaxSpeedOfBike:\n",
    "                print(\"I can not travel this fast but I will go my max speed\")\n",
    "                self.CurrentSpeed = self.MaxSpeedOfBike\n",
    "            else:\n",
    "                self.CurrentSpeed = MakeTheSpeedUpto\n",
    "        else:\n",
    "            print(\"Ohh no! We don't have petrol. We can't start!!\")\n",
    "            \n",
    "    \n",
    "    def Stop(self):\n",
    "        print(\"I have travelled enough. Let's take a break\")\n",
    "        self.CurrentSpeed = 0\n",
    "\n",
    "    \n",
    "    def ShowSpeed(self):\n",
    "        if self.CurrentSpeed > 0.00:\n",
    "            print(\"I am moving at \", self.CurrentSpeed, \" km/hr!\")\n",
    "        else:\n",
    "            print(\"I am halted. Please don't disturb. Let me take rest.\")\n",
    "    \n",
    "    def FillPetrol(self, AmountOfPetrol):\n",
    "        FuelCapacityRemaining = self.MaximumFuelLevel - self.CurrentFuelLevel\n",
    "        if AmountOfPetrol > FuelCapacityRemaining:\n",
    "            print(\"You have extra fuel.\")\n",
    "            self.CurrentFuelLevel = self.MaximumFuelLevel\n",
    "            ExtraFuel = AmountOfPetrol - FuelCapacityRemaining\n",
    "            print(\"I have filled to the capacity but you have to return \", ExtraFuel, \"litres back to station\")\n",
    "        elif AmountOfPetrol == FuelCapacityRemaining:\n",
    "            print(\"What a purchase. You bought just enough fuel to fill the tank\")\n",
    "            self.CurrentFuelLevel = self.MaximumFuelLevel\n",
    "        else:\n",
    "            print(\"Good decision to fill up the tank!\")\n",
    "            self.CurrentFuelLevel += AmountOfPetrol\n",
    "        \n",
    "    def ShowPetrolLevel(self):\n",
    "        print(\"Currently I have \", self.CurrentFuelLevel, \" litred of petrol!\")\n",
    "    \n",
    "    def DonatePetrol(self, AmountToDonate):\n",
    "        if AmountToDonate > self.CurrentFuelLevel:\n",
    "            print(\"I am sorry my friend. I don't have enough fuel\")\n",
    "            print(\"I am giving you my tank but that will be only \", self.CurrentFuelLevel,\" litres of petrol!\")\n",
    "            self.CurrentFuelLevel = 0\n",
    "        else:\n",
    "            print(\"Glad I could be of your help. I am giving \", AmountToDonate, \" litres of petrol\")\n",
    "            self.CurrentFuelLevel -= AmountToDonate"
   ]
  },
  {
   "cell_type": "markdown",
   "metadata": {},
   "source": [
    "## Let us how did we do?"
   ]
  },
  {
   "cell_type": "code",
   "execution_count": 269,
   "metadata": {},
   "outputs": [
    {
     "name": "stdout",
     "output_type": "stream",
     "text": [
      "A new bike has been created\n"
     ]
    }
   ],
   "source": [
    "## First create a motorcyle class object\n",
    "Bike_1 = Motorcycle(BikeColor=\"Black\", \n",
    "                    BikeSound=\"Wroom\",\n",
    "                    BikeMaximumFuelLevel=45,\n",
    "                    BikeLength=2,\n",
    "                    BikeWeight=200,\n",
    "                    BikeMileage=40,\n",
    "                    BikeMaximumSpeed=160)"
   ]
  },
  {
   "cell_type": "code",
   "execution_count": 270,
   "metadata": {},
   "outputs": [
    {
     "name": "stdout",
     "output_type": "stream",
     "text": [
      "How??? Please start the bike then we can travel!\n"
     ]
    }
   ],
   "source": [
    "Bike_1.Travel(Distance=200)"
   ]
  },
  {
   "cell_type": "code",
   "execution_count": 271,
   "metadata": {},
   "outputs": [
    {
     "name": "stdout",
     "output_type": "stream",
     "text": [
      "What a purchase. You bought just enough fuel to fill the tank\n"
     ]
    }
   ],
   "source": [
    "Bike_1.FillPetrol(AmountOfPetrol=45)"
   ]
  },
  {
   "cell_type": "code",
   "execution_count": 272,
   "metadata": {},
   "outputs": [
    {
     "name": "stdout",
     "output_type": "stream",
     "text": [
      "Wroom\n",
      "Wroom\n",
      "Wroom\n",
      "Wroom\n",
      "Wroom\n"
     ]
    }
   ],
   "source": [
    "Bike_1.Start(MakeTheSpeedUpto=50)"
   ]
  },
  {
   "cell_type": "code",
   "execution_count": 273,
   "metadata": {},
   "outputs": [
    {
     "name": "stdout",
     "output_type": "stream",
     "text": [
      "We are on road trip! We are going to travel for next  200  kilometers!\n"
     ]
    }
   ],
   "source": [
    "Bike_1.Travel(Distance=200)"
   ]
  },
  {
   "cell_type": "code",
   "execution_count": 274,
   "metadata": {},
   "outputs": [
    {
     "name": "stdout",
     "output_type": "stream",
     "text": [
      "We are on road trip! We are going to travel for next  1200  kilometers!\n"
     ]
    }
   ],
   "source": [
    "Bike_1.Travel(Distance=1200)"
   ]
  },
  {
   "cell_type": "code",
   "execution_count": 275,
   "metadata": {},
   "outputs": [
    {
     "name": "stdout",
     "output_type": "stream",
     "text": [
      "All right! We are going to run out of fuel. I refuse to go that far. Please fill tank\n"
     ]
    }
   ],
   "source": [
    "Bike_1.Travel(Distance=500)"
   ]
  },
  {
   "cell_type": "code",
   "execution_count": 276,
   "metadata": {},
   "outputs": [
    {
     "name": "stdout",
     "output_type": "stream",
     "text": [
      "We are on road trip! We are going to travel for next  400  kilometers!\n"
     ]
    }
   ],
   "source": [
    "Bike_1.Travel(Distance=400)"
   ]
  },
  {
   "cell_type": "code",
   "execution_count": 277,
   "metadata": {},
   "outputs": [
    {
     "name": "stdout",
     "output_type": "stream",
     "text": [
      "I have travelled enough. Let's take a break\n"
     ]
    }
   ],
   "source": [
    "Bike_1.Stop()"
   ]
  },
  {
   "cell_type": "markdown",
   "metadata": {},
   "source": [
    "## <font color=\"red\"> We have bat and the motorcycle .. and now we need a man ..... so that we can combine all these and make a BATMAN </font>"
   ]
  },
  {
   "cell_type": "markdown",
   "metadata": {},
   "source": [
    "## Properties:\n",
    "<ul>\n",
    "    <li> Cloth color. </li>\n",
    "    <li> Languages that he can speak. </li>\n",
    "    <li> Money he has in bank account. </li>\n",
    "    <li> Years of programming/science/technology experience. </li>\n",
    "    <li> Number of kilograms he can lift. </li>\n",
    "    <li> Number of opponents he can fight. </li>\n",
    "</ul>\n",
    "\n",
    "## Behaviors/Actions:\n",
    "<ul>\n",
    "    <li> He can hack computers. </li>\n",
    "    <li> He can speak in a language. </li>\n",
    "    <li> He can fix a non-working engineering instrument. </li>\n",
    "    <li> He can lift something and throw. </li>\n",
    "    <li> He can spend money in charity. </li>\n",
    "    <li> He can fight with opponents. </li>\n",
    "</ul>"
   ]
  },
  {
   "cell_type": "markdown",
   "metadata": {},
   "source": [
    "## For the sake of saving some time, I have implemented all the properties and behaviours all at once. You should do it one at a time.\n",
    "## Let us see!"
   ]
  },
  {
   "cell_type": "code",
   "execution_count": 278,
   "metadata": {},
   "outputs": [],
   "source": [
    "class Man:\n",
    "    \n",
    "    def __init__(self, \n",
    "                 ClothColor, \n",
    "                 LanguagesAbleToSpeak, \n",
    "                 MoneyInAccount, \n",
    "                 ProgExperience, \n",
    "                 KilosLift, \n",
    "                 OpponentsFight):\n",
    "        self.ClothColor = ClothColor\n",
    "        self.LanguagesAbleToSpeak = LanguagesAbleToSpeak\n",
    "        self.MoneyInAccount = MoneyInAccount\n",
    "        self.ProgExperience = ProgExperience\n",
    "        self.KilosLift = KilosLift\n",
    "        self.OpponentsFight = OpponentsFight\n",
    "        \n",
    "    def ShowAccount(self):\n",
    "        print(\"Your current worth is \", self.MoneyInAccount)\n",
    "        \n",
    "    def HackComputers(self):\n",
    "        print(\"Another mayhem for the enemy! Another computer down. Valueable information brought home!\")\n",
    "        print(\"In the process we spent 1% of the fortune\")\n",
    "        self.MoneyInAccount *= 0.99\n",
    "        \n",
    "    def SpeakLanguage(self, Language):\n",
    "        if Language in self.LanguagesAbleToSpeak:\n",
    "            print(\"You have to go and bring back some information. Make sure you remember all skills for the \", Language)\n",
    "        else:\n",
    "            print(\"You need some training. You are not ready!\")\n",
    "            \n",
    "    def FixAnInstrument(self):\n",
    "        print(\"Need an urgent fix. Everybody has left. You are the only one who can fix.\")\n",
    "        print(\"Fixing in progress ........................\")\n",
    "        print(\"Fixed!\")\n",
    "        print(\"We saved some money and that was 0.5% of the fortune\")\n",
    "        self.MoneyInAccount *= 1.05\n",
    "        \n",
    "    def LiftAndThrow(self, Weight):\n",
    "        if Weight <= self.KilosLift:\n",
    "            print(\"You need to throw \", Weight, \" to save everybody!\")\n",
    "            print(\"Throwing ..... \")\n",
    "            print(\"Reached target ... job done.\")\n",
    "        else:\n",
    "            print(\"Uhh ohhh! This weight is more than you can handle. Ask for help or throw something lighter.\")\n",
    "            \n",
    "    def SpendMoneyCharity(self, MoneyForCharity):\n",
    "        NewBalanceAfterCharity = self.MoneyInAccount - MoneyForCharity\n",
    "        if NewBalanceAfterCharity < 0.00:\n",
    "            print(\"You do not have enough money for doing charity. Good heart but not a matching bank balanace! Can't approve!\")\n",
    "        else:\n",
    "            print(\"A quiet charity is the biggest service to others. Good job!\")\n",
    "            print(\"The cheque has been sent to the beneficiary from an anonymous account\")\n",
    "            self.MoneyInAccount = NewBalanceAfterCharity\n",
    "            \n",
    "    def FightOpponents(self, NumberOfOpponents):\n",
    "        if NumberOfOpponents > 5*self.OpponentsFight:\n",
    "            print(\"It is hard to match so many opponents! Ask for more help and wait till help arrives. Take cover\")\n",
    "        else:\n",
    "            print(\"I know you don't worry about loosing or winning ... efforts is all that you want\")\n",
    "            print(\" dhishum..bhishum..bhishum..dhsihum \")\n",
    "            print(\" ......going on .........\")"
   ]
  },
  {
   "cell_type": "code",
   "execution_count": 279,
   "metadata": {},
   "outputs": [],
   "source": [
    "## Let us create a man object first\n",
    "Man_1 = Man(ClothColor=\"Blue\",\n",
    "            LanguagesAbleToSpeak=['English','Russian','German','French','Italian','Spanish'],\n",
    "            MoneyInAccount=3567281690,\n",
    "            ProgExperience=12, \n",
    "            KilosLift=90,\n",
    "            OpponentsFight=7)"
   ]
  },
  {
   "cell_type": "code",
   "execution_count": 280,
   "metadata": {},
   "outputs": [
    {
     "name": "stdout",
     "output_type": "stream",
     "text": [
      "Your current worth is  3567281690\n"
     ]
    }
   ],
   "source": [
    "Man_1.ShowAccount()"
   ]
  },
  {
   "cell_type": "code",
   "execution_count": 281,
   "metadata": {},
   "outputs": [
    {
     "name": "stdout",
     "output_type": "stream",
     "text": [
      "Another mayhem for the enemy! Another computer down. Valueable information brought home!\n",
      "In the process we spent 1% of the fortune\n"
     ]
    }
   ],
   "source": [
    "Man_1.HackComputers()"
   ]
  },
  {
   "cell_type": "code",
   "execution_count": 282,
   "metadata": {},
   "outputs": [
    {
     "name": "stdout",
     "output_type": "stream",
     "text": [
      "Your current worth is  3531608873.1\n"
     ]
    }
   ],
   "source": [
    "Man_1.ShowAccount()"
   ]
  },
  {
   "cell_type": "code",
   "execution_count": 283,
   "metadata": {},
   "outputs": [
    {
     "name": "stdout",
     "output_type": "stream",
     "text": [
      "Need an urgent fix. Everybody has left. You are the only one who can fix.\n",
      "Fixing in progress ........................\n",
      "Fixed!\n",
      "We saved some money and that was 0.5% of the fortune\n"
     ]
    }
   ],
   "source": [
    "Man_1.FixAnInstrument()"
   ]
  },
  {
   "cell_type": "code",
   "execution_count": 284,
   "metadata": {},
   "outputs": [
    {
     "name": "stdout",
     "output_type": "stream",
     "text": [
      "Your current worth is  3708189316.755\n"
     ]
    }
   ],
   "source": [
    "Man_1.ShowAccount()"
   ]
  },
  {
   "cell_type": "code",
   "execution_count": 285,
   "metadata": {},
   "outputs": [
    {
     "name": "stdout",
     "output_type": "stream",
     "text": [
      "You need some training. You are not ready!\n"
     ]
    }
   ],
   "source": [
    "Man_1.SpeakLanguage('Chinese')"
   ]
  },
  {
   "cell_type": "code",
   "execution_count": 286,
   "metadata": {},
   "outputs": [
    {
     "name": "stdout",
     "output_type": "stream",
     "text": [
      "You have to go and bring back some information. Make sure you remember all skills for the  Russian\n"
     ]
    }
   ],
   "source": [
    "Man_1.SpeakLanguage('Russian')"
   ]
  },
  {
   "cell_type": "code",
   "execution_count": 287,
   "metadata": {},
   "outputs": [
    {
     "name": "stdout",
     "output_type": "stream",
     "text": [
      "Uhh ohhh! This weight is more than you can handle. Ask for help or throw something lighter.\n"
     ]
    }
   ],
   "source": [
    "Man_1.LiftAndThrow(Weight=120)"
   ]
  },
  {
   "cell_type": "code",
   "execution_count": 288,
   "metadata": {},
   "outputs": [
    {
     "name": "stdout",
     "output_type": "stream",
     "text": [
      "You need to throw  60  to save everybody!\n",
      "Throwing ..... \n",
      "Reached target ... job done.\n"
     ]
    }
   ],
   "source": [
    "Man_1.LiftAndThrow(Weight=60)"
   ]
  },
  {
   "cell_type": "code",
   "execution_count": 289,
   "metadata": {},
   "outputs": [
    {
     "name": "stdout",
     "output_type": "stream",
     "text": [
      "It is hard to match so many opponents! Ask for more help and wait till help arrives. Take cover\n"
     ]
    }
   ],
   "source": [
    "Man_1.FightOpponents(NumberOfOpponents=40)"
   ]
  },
  {
   "cell_type": "code",
   "execution_count": 290,
   "metadata": {},
   "outputs": [
    {
     "name": "stdout",
     "output_type": "stream",
     "text": [
      "I know you don't worry about loosing or winning ... efforts is all that you want\n",
      " dhishum..bhishum..bhishum..dhsihum \n",
      " ......going on .........\n"
     ]
    }
   ],
   "source": [
    "Man_1.FightOpponents(NumberOfOpponents=4)"
   ]
  },
  {
   "cell_type": "code",
   "execution_count": 291,
   "metadata": {},
   "outputs": [
    {
     "name": "stdout",
     "output_type": "stream",
     "text": [
      "You do not have enough money for doing charity. Good heart but not a matching bank balanace! Can't approve!\n"
     ]
    }
   ],
   "source": [
    "Man_1.SpendMoneyCharity(MoneyForCharity=45000304050607)"
   ]
  },
  {
   "cell_type": "code",
   "execution_count": 292,
   "metadata": {},
   "outputs": [
    {
     "name": "stdout",
     "output_type": "stream",
     "text": [
      "A quiet charity is the biggest service to others. Good job!\n",
      "The cheque has been sent to the beneficiary from an anonymous account\n"
     ]
    }
   ],
   "source": [
    "Man_1.SpendMoneyCharity(MoneyForCharity=345123867)"
   ]
  },
  {
   "cell_type": "markdown",
   "metadata": {},
   "source": [
    "## <font color=\"red\"> Now we have bat, motorcycle and man. We are ready for BATMAN and in the process learn inheritance in object oriented programming.</font>\n",
    "## Now you can take a break."
   ]
  },
  {
   "cell_type": "code",
   "execution_count": null,
   "metadata": {},
   "outputs": [],
   "source": []
  }
 ],
 "metadata": {
  "celltoolbar": "Hide code",
  "kernelspec": {
   "display_name": "Python 3",
   "language": "python",
   "name": "python3"
  },
  "language_info": {
   "codemirror_mode": {
    "name": "ipython",
    "version": 3
   },
   "file_extension": ".py",
   "mimetype": "text/x-python",
   "name": "python",
   "nbconvert_exporter": "python",
   "pygments_lexer": "ipython3",
   "version": "3.7.6"
  }
 },
 "nbformat": 4,
 "nbformat_minor": 2
}
