{
 "cells": [
  {
   "cell_type": "markdown",
   "metadata": {},
   "source": [
    "## <font color=\"Red\"> Inheritance and Multiple Inheritance </font>"
   ]
  },
  {
   "cell_type": "markdown",
   "metadata": {},
   "source": [
    "## Inheritance is a concept in program where a new class derives a small or large part of its/properties and methods from the parent class. This way you don't need to redefine it again for the new class. This has not only the advantage that mistakes during copy-paste are avoided but also as a maintenainer and user of the code you know that properties of parent class has been passed around to the derived class, so it must be something related.\n",
    "\n",
    "## For example consider we have a parent class called 'Cycle' defined as below."
   ]
  },
  {
   "cell_type": "code",
   "execution_count": 13,
   "metadata": {},
   "outputs": [],
   "source": [
    "## Class Cycle\n",
    "class Cycle:\n",
    "    \n",
    "    def __init__(self, color, weight, length, height):\n",
    "        self.color = color\n",
    "        self.weight = weight\n",
    "        self.length = length\n",
    "        self.height = height\n",
    "        self.CurrentSpeed = 0\n",
    "        self.CurrentLocation = (0, 0) # On an X,Y grid\n",
    "        \n",
    "    def PrintVehicleInfo(self):\n",
    "        print(\"Color is \", self.color)\n",
    "        print(\"Weight is \", self.weight)\n",
    "        print(\"Length is \", self.length)\n",
    "        print(\"Height is \", self.height)\n",
    "        \n",
    "    def Move(self):\n",
    "        ## suppose appropriate number of\n",
    "        ## lines are here that describe the\n",
    "        ## movement\n",
    "        print(\"I am moving.\")\n",
    "        \n",
    "    def Brake(self):\n",
    "        ## suppose appropriate number of\n",
    "        ## lines are here that describe the\n",
    "        ## movement\n",
    "        print(\"I am applying brake.\")"
   ]
  },
  {
   "cell_type": "markdown",
   "metadata": {},
   "source": [
    "## Now suppose we have to create a new class called Moped, it is quite easy to see that Moped will have all the properties and behaviors that Cycle class already has. Apart from it, it will have engine and two seats related information that is peculiar to Moped. However for the rest of it, it can Directly inherit from Cycle.\n",
    "\n",
    "## Look closely and see how we use inheritance in this case"
   ]
  },
  {
   "cell_type": "code",
   "execution_count": 23,
   "metadata": {},
   "outputs": [],
   "source": [
    "## Moped class\n",
    "class Moped(Cycle): ## Notice we passed the parent class inside the brackets\n",
    "    \n",
    "    def __init__(self, color, weight, length, height, EnginePower): ##All four parameters for Cycle + 1 for Moped\n",
    "        Cycle.__init__(self, color, weight, length, height) ## 4 out of 5 parameters passed to Cycle.__init__ \n",
    "        self.EnginePower = EnginePower\n",
    "        \n",
    "    ## We don't need to redefine Move and Brake functions as they are already defined in Moped. \n",
    "    ## However we do need to define FillPetrol function and need redefine the PrintVehicleInfo to print\n",
    "    ## since VehicleInfo needs to show Engine power.\n",
    "\n",
    "    def FillPetrol(self):\n",
    "        ## Suppose we have implemented Petrol filling logic here\n",
    "        print(\"Petrol filling is over. Engine is full\")\n",
    "        \n",
    "    def PrintVehicleInfo(self):\n",
    "        Cycle.PrintVehicleInfo(self)\n",
    "        print(\"My engine capacity is \", self.EnginePower)"
   ]
  },
  {
   "cell_type": "markdown",
   "metadata": {},
   "source": [
    "## Now let us create a Moped object."
   ]
  },
  {
   "cell_type": "code",
   "execution_count": 24,
   "metadata": {},
   "outputs": [],
   "source": [
    "## demonstration of use \n",
    "Moped_1 = Moped(\"red\", 45, 2, 1, 35)"
   ]
  },
  {
   "cell_type": "code",
   "execution_count": 25,
   "metadata": {},
   "outputs": [
    {
     "name": "stdout",
     "output_type": "stream",
     "text": [
      "Color is  red\n",
      "Weight is  45\n",
      "Length is  2\n",
      "Height is  1\n",
      "My engine capacity is  35\n"
     ]
    }
   ],
   "source": [
    "Moped_1.PrintVehicleInfo()"
   ]
  },
  {
   "cell_type": "code",
   "execution_count": 26,
   "metadata": {},
   "outputs": [
    {
     "name": "stdout",
     "output_type": "stream",
     "text": [
      "I am moving.\n"
     ]
    }
   ],
   "source": [
    "Moped_1.Move()"
   ]
  },
  {
   "cell_type": "code",
   "execution_count": 27,
   "metadata": {},
   "outputs": [
    {
     "name": "stdout",
     "output_type": "stream",
     "text": [
      "I am applying brake.\n"
     ]
    }
   ],
   "source": [
    "Moped_1.Brake()"
   ]
  },
  {
   "cell_type": "code",
   "execution_count": 28,
   "metadata": {},
   "outputs": [
    {
     "name": "stdout",
     "output_type": "stream",
     "text": [
      "Petrol filling is over. Engine is full\n"
     ]
    }
   ],
   "source": [
    "Moped_1.FillPetrol()"
   ]
  },
  {
   "cell_type": "markdown",
   "metadata": {},
   "source": [
    "## Tweaking of features does not change in any way the parent class. Features only get added/edited/removed in the derived class not in the base class.\n",
    "\n",
    "## Let us confirm it."
   ]
  },
  {
   "cell_type": "code",
   "execution_count": 29,
   "metadata": {},
   "outputs": [],
   "source": [
    "Cycle_1 = Cycle(\"Black\", 15, 2, 1)"
   ]
  },
  {
   "cell_type": "code",
   "execution_count": 30,
   "metadata": {},
   "outputs": [
    {
     "name": "stdout",
     "output_type": "stream",
     "text": [
      "Color is  Black\n",
      "Weight is  15\n",
      "Length is  2\n",
      "Height is  1\n"
     ]
    }
   ],
   "source": [
    "Cycle_1.PrintVehicleInfo()"
   ]
  },
  {
   "cell_type": "code",
   "execution_count": 31,
   "metadata": {},
   "outputs": [
    {
     "name": "stdout",
     "output_type": "stream",
     "text": [
      "I am moving.\n"
     ]
    }
   ],
   "source": [
    "Cycle_1.Move()"
   ]
  },
  {
   "cell_type": "code",
   "execution_count": 32,
   "metadata": {},
   "outputs": [
    {
     "name": "stdout",
     "output_type": "stream",
     "text": [
      "I am applying brake.\n"
     ]
    }
   ],
   "source": [
    "Cycle_1.Brake()"
   ]
  },
  {
   "cell_type": "markdown",
   "metadata": {},
   "source": [
    "## Note that FillPetrol method was neverr defined in the Cycle class. So if you define it in Child class it will not climb up and appear in its parent class. Parent class is protected from changes. The changes are unidirectional.\n",
    "\n",
    "## So trying to access the FillPetrol for Cycle will produce error as below"
   ]
  },
  {
   "cell_type": "code",
   "execution_count": 34,
   "metadata": {},
   "outputs": [
    {
     "ename": "AttributeError",
     "evalue": "'Cycle' object has no attribute 'FillPetrol'",
     "output_type": "error",
     "traceback": [
      "\u001b[0;31m---------------------------------------------------------------------------\u001b[0m",
      "\u001b[0;31mAttributeError\u001b[0m                            Traceback (most recent call last)",
      "\u001b[0;32m<ipython-input-34-6e3d9f0bc96f>\u001b[0m in \u001b[0;36m<module>\u001b[0;34m\u001b[0m\n\u001b[0;32m----> 1\u001b[0;31m \u001b[0mCycle_1\u001b[0m\u001b[0;34m.\u001b[0m\u001b[0mFillPetrol\u001b[0m\u001b[0;34m(\u001b[0m\u001b[0;34m)\u001b[0m\u001b[0;34m\u001b[0m\u001b[0m\n\u001b[0m",
      "\u001b[0;31mAttributeError\u001b[0m: 'Cycle' object has no attribute 'FillPetrol'"
     ]
    }
   ],
   "source": [
    "Cycle_1.FillPetrol()"
   ]
  },
  {
   "cell_type": "markdown",
   "metadata": {},
   "source": [
    "## Now let see how to implement multiple inheritance. Multiple inheritance is a situation when two or more parent classes are inherited in the derived class. Please note that <font color=\"red\"> for this particular example, you are not supposed to type the code. You are just supposed to observe but definitely understand it. </font>\n",
    "\n",
    "## For example consider Mobile phone (old style not touch screen), it has inerited its properties from WalkyTalky (for transmission through air, without needing a cable), from a Normal PushButton Landline (for dialling numbers and picking/dropping calls) and from a small LCD screen (for displaying numbers and SMS on the screen).\n",
    "\n",
    "## See below how we implement these classes.\n"
   ]
  },
  {
   "cell_type": "code",
   "execution_count": 61,
   "metadata": {},
   "outputs": [],
   "source": [
    "class WalkyTalky:\n",
    "    \n",
    "    def __init__(self, RadioFrequency_ID):\n",
    "        self.RadioFrequency_ID = RadioFrequency_ID\n",
    "        \n",
    "    def StartTransmission(self, Target_RadioFrequency_ID):\n",
    "        print(\"Connecting to \", Target_RadioFrequency_ID, \" hertz from \", self.RadioFrequency_ID, \"hertz\")\n",
    "        print(\"Connection established\")\n",
    "        print(\"Ready to talk\")\n",
    "        \n",
    "    def ReceiveTransmission(self, Source_RadioFrequency_ID):\n",
    "        print(\"Have received a connection request from \", Source_RadioFrequency_ID, \"hertz\")\n",
    "        print(\"Connection established\")\n",
    "        print(\"Ready to talk\")        "
   ]
  },
  {
   "cell_type": "code",
   "execution_count": 62,
   "metadata": {},
   "outputs": [],
   "source": [
    "class NormalPushButton_Landline:\n",
    "    \n",
    "    def __init__(self, LandlineNumber):\n",
    "        self.LandlineNumber = LandlineNumber\n",
    "        \n",
    "    def DialANumber(self, TargetNumber):\n",
    "        print(\"Dialling the number \", TargetNumber, \" using a push-button.\")\n",
    "    \n",
    "    def ReceiveFromANumber(self, SourceNumber):\n",
    "        print(\"Ring! Ring! Receiving a call from the number \", SourceNumber)"
   ]
  },
  {
   "cell_type": "code",
   "execution_count": 63,
   "metadata": {},
   "outputs": [],
   "source": [
    "class LCD_Display:\n",
    "    \n",
    "    def __init__(self, ScreenSize):\n",
    "        self.ScreenSize = ScreenSize\n",
    "        \n",
    "    def Display(self, Message):\n",
    "        print(Message)"
   ]
  },
  {
   "cell_type": "markdown",
   "metadata": {},
   "source": [
    "## Now that the three base classes have been defined, let us see the use of multiple inheritance to design the MobilePhone class. <font color=\"red\"> We have made one simplistic assumption for the sake of keeping the program short. (All engineering and Science students can laugh now)...Landline number and corresponding Radio frequency ID are related so that Radio frequency ID is Landline number divided by 10000 </font>\n",
    "\n",
    "## Pay very close attention and learn how to implement multiple imheritance."
   ]
  },
  {
   "cell_type": "code",
   "execution_count": 72,
   "metadata": {},
   "outputs": [],
   "source": [
    "class MobilePhone(WalkyTalky, NormalPushButton_Landline, LCD_Display):\n",
    "    \n",
    "    def __init__(self, PhoneNumber, ScreenSize, MobileColor, MobileWeight):\n",
    "        NormalPushButton_Landline.__init__(self, PhoneNumber)\n",
    "        WalkyTalky.__init__(self, PhoneNumber/10000)\n",
    "        LCD_Display.__init__(self, ScreenSize)\n",
    "        self.MobileColor = MobileColor\n",
    "        self.MobileWeight = MobileWeight\n",
    "        \n",
    "    def DialANumber(self, TargetNumber):\n",
    "        LCD_Display.Display(self, \" \".join(str(TargetNumber).split()))\n",
    "        NormalPushButton_Landline.DialANumber(self, TargetNumber)\n",
    "        print(\"Finding the corresponding frequency at \", TargetNumber/10000.00, \" hertz\")\n",
    "        WalkyTalky.StartTransmission(self, TargetNumber/10000.00)\n",
    "        LCD_Display.Display(self, \"Connected\")\n",
    "        \n",
    "    def ReceiveFromANumber(self, SourceNumber):\n",
    "        NormalPushButton_Landline.ReceiveFromANumber(self, SourceNumber)\n",
    "        WalkyTalky.ReceiveTransmission(self,SourceNumber/10000.00)\n",
    "        LCD_Display.Display(self, \"Calling from \" + str(SourceNumber))"
   ]
  },
  {
   "cell_type": "code",
   "execution_count": 73,
   "metadata": {},
   "outputs": [],
   "source": [
    "Mobile_1 = MobilePhone(1234567890, 4.5, \"Grey\", 50)"
   ]
  },
  {
   "cell_type": "code",
   "execution_count": 74,
   "metadata": {},
   "outputs": [
    {
     "name": "stdout",
     "output_type": "stream",
     "text": [
      "2345678901\n",
      "Dialling the number  2345678901  using a push-button.\n",
      "Finding the corresponding frequency at  234567.8901  hertz\n",
      "Connecting to  234567.8901  hertz from  123456.789 hertz\n",
      "Connection established\n",
      "Ready to talk\n",
      "Connected\n"
     ]
    }
   ],
   "source": [
    "Mobile_1.DialANumber(2345678901)"
   ]
  },
  {
   "cell_type": "code",
   "execution_count": 75,
   "metadata": {},
   "outputs": [
    {
     "name": "stdout",
     "output_type": "stream",
     "text": [
      "Ring! Ring! Receiving a call from the number  2345678901\n",
      "Have received a connection request from  234567.8901 hertz\n",
      "Connection established\n",
      "Ready to talk\n",
      "Calling from 2345678901\n"
     ]
    }
   ],
   "source": [
    "Mobile_1.ReceiveFromANumber(2345678901)"
   ]
  },
  {
   "cell_type": "markdown",
   "metadata": {},
   "source": [
    "## Now let us go back to BATMAN problem of the 1st Half of lecture. I am copy pasting three classes from the 1st part.\n",
    "## Answer the questions that follow.\n"
   ]
  },
  {
   "cell_type": "code",
   "execution_count": 76,
   "metadata": {},
   "outputs": [],
   "source": [
    "import time\n",
    "class Bat_Bird:\n",
    "    \n",
    "    def __init__(self, SkinColor, EyeColor, Weight, Height, MaxSoundIntensity, MaxSpeed):\n",
    "        self.SkinColorOfBat = SkinColor\n",
    "        self.EyeColorOfBat = EyeColor\n",
    "        self.WeightOfBat = Weight\n",
    "        self.HeightOfBat = Height\n",
    "        self.MaxSoundIntensityOfBat = MaxSoundIntensity\n",
    "        self.MaxSpeedOfBat = MaxSpeed\n",
    "        print(\"I am a bat and I have just been created\")\n",
    "        print(\"My skin color is \", self.SkinColorOfBat,\" and my eye color is \", self.EyeColorOfBat)\n",
    "        print(\"My weight is \", self.WeightOfBat, \" and my height is \", self.HeightOfBat)\n",
    "        print(\"My max sound intensity is \", self.MaxSoundIntensityOfBat, \" and max speed is \", self.MaxSpeedOfBat)\n",
    "        print(\"I am so ready to fly and make sound.\")\n",
    "    \n",
    "    def Screetch(self, DurationOfSound):\n",
    "        for i in range(int(DurationOfSound)):\n",
    "            print(\"I am a \",self.SkinColorOfBat, \" bat and I am screetching and I will scare my prey every second\")\n",
    "            time.sleep(1) ## This statement will stop the execution of the program for 1 second\n",
    "        \n",
    "    def AttackPrey(self, SpeedOfAttack):\n",
    "        print(\"I have located the food and I am chasing it at a speed of \", SpeedOfAttack, \" km/hr!\")\n",
    "        \n",
    "    def RunAwayFromPredator(self, SpeedOfRunningAway):\n",
    "        print(\"Oh no! I have become somebody's food. I am getting attacked. I must run away at \",SpeedOfRunningAway, \" km/hr! \")\n",
    "        \n",
    "    def Fly(self, Height):\n",
    "        print(\"Oh yeah! I can fly up and high. I am flying to the height of \", Height, \" meters!\")"
   ]
  },
  {
   "cell_type": "code",
   "execution_count": 77,
   "metadata": {},
   "outputs": [],
   "source": [
    "class Motorcycle:\n",
    "    \n",
    "    def __init__(self, \n",
    "                 BikeColor, \n",
    "                 BikeSound, \n",
    "                 BikeMaximumFuelLevel, \n",
    "                 BikeLength, \n",
    "                 BikeWeight,\n",
    "                 BikeMileage, \n",
    "                 BikeMaximumSpeed):\n",
    "        self.ColorOfBike = BikeColor\n",
    "        self.SoundOfBike = BikeSound\n",
    "        self.CurrentFuelLevel = 0\n",
    "        self.CurrentSpeed = 0\n",
    "        self.MaximumFuelLevel = BikeMaximumFuelLevel\n",
    "        self.LengthOfBike = BikeLength\n",
    "        self.WeightOfBike = BikeWeight\n",
    "        self.MileageOfBike = BikeMileage\n",
    "        self.MaxSpeedOfBike = BikeMaximumSpeed\n",
    "        print(\"A new bike has been created\")\n",
    "    \n",
    "    def Travel(self, Distance):\n",
    "        if self.CurrentSpeed > 0.00:\n",
    "            TotalCapacity = self.MileageOfBike*self.CurrentFuelLevel\n",
    "            if Distance > TotalCapacity:\n",
    "                print(\"All right! We are going to run out of fuel. I refuse to go that far. Please fill tank\")\n",
    "            else:\n",
    "                FuelThatWillBeConsumed = Distance/self.MileageOfBike\n",
    "                self.CurrentFuelLevel -= FuelThatWillBeConsumed\n",
    "                print(\"We are on road trip! We are going to travel for next \", Distance, \" kilometers!\")\n",
    "        else:\n",
    "            print(\"How??? Please start the bike then we can travel!\")\n",
    "    \n",
    "    def Accelerate(self, IncreaseByThisValue):\n",
    "        if self.CurrentSpeed > 0.00:\n",
    "            NewCalculatedSpeed = self.CurrentSpeed + IncreaseByThisValue\n",
    "            if NewCalculatedSpeed >= self.MaxSpeedOfBike:\n",
    "                print(\"No no! You can not acclerate to this speed. I am just going to go to the edge!\")\n",
    "                self.CurrentSpeed = self.MaxSpeedOfBike\n",
    "            else:\n",
    "                print(\"I am accelerating to a new speed. Be careful! Speed thrills but it kills!!\")\n",
    "                self.CurrentSpeed += IncreaseByThisValue\n",
    "        else:\n",
    "            print(\"Arey bhaiya! First start the bike. Accelerate later!\")\n",
    "    \n",
    "    def Decelerate(self, DecreaseByThisValue):\n",
    "        if self.CurrentSpeed > 0.00:\n",
    "            NewCalculatedSpeed = self.CurrentSpeed - DecreaseByThisValue\n",
    "            if NewCalculatedSpeed < 0.00:\n",
    "                print(\"Ok I think I know what you mean. I am halting!\")\n",
    "                self.CurrentSpeed = 0.00\n",
    "            else:\n",
    "                print(\"I am decelerating to a new speed. Be careful! Sudden deceleration can cause the bike to skid!\")\n",
    "                self.CurrentSpeed -= DecreaseByThisValue\n",
    "        else:\n",
    "            print(\"The bike is not even started and you are trying to decelerate! Go home and rest!\")\n",
    "    \n",
    "    def Start(self, MakeTheSpeedUpto):\n",
    "        if self.CurrentFuelLevel > 0.00:\n",
    "            for i in range(5):\n",
    "                print(self.SoundOfBike)\n",
    "            if MakeTheSpeedUpto > self.MaxSpeedOfBike:\n",
    "                print(\"I can not travel this fast but I will go my max speed\")\n",
    "                self.CurrentSpeed = self.MaxSpeedOfBike\n",
    "            else:\n",
    "                self.CurrentSpeed = MakeTheSpeedUpto\n",
    "        else:\n",
    "            print(\"Ohh no! We don't have petrol. We can't start!!\")\n",
    "            \n",
    "    \n",
    "    def Stop(self):\n",
    "        print(\"I have travelled enough. Let's take a break\")\n",
    "        self.CurrentSpeed = 0\n",
    "\n",
    "    \n",
    "    def ShowSpeed(self):\n",
    "        if self.CurrentSpeed > 0.00:\n",
    "            print(\"I am moving at \", self.CurrentSpeed, \" km/hr!\")\n",
    "        else:\n",
    "            print(\"I am halted. Please don't disturb. Let me take rest.\")\n",
    "    \n",
    "    def FillPetrol(self, AmountOfPetrol):\n",
    "        FuelCapacityRemaining = self.MaximumFuelLevel - self.CurrentFuelLevel\n",
    "        if AmountOfPetrol > FuelCapacityRemaining:\n",
    "            print(\"You have extra fuel.\")\n",
    "            self.CurrentFuelLevel = self.MaximumFuelLevel\n",
    "            ExtraFuel = AmountOfPetrol - FuelCapacityRemaining\n",
    "            print(\"I have filled to the capacity but you have to return \", ExtraFuel, \"litres back to station\")\n",
    "        elif AmountOfPetrol == FuelCapacityRemaining:\n",
    "            print(\"What a purchase. You bought just enough fuel to fill the tank\")\n",
    "            self.CurrentFuelLevel = self.MaximumFuelLevel\n",
    "        else:\n",
    "            print(\"Good decision to fill up the tank!\")\n",
    "            self.CurrentFuelLevel += AmountOfPetrol\n",
    "        \n",
    "    def ShowPetrolLevel(self):\n",
    "        print(\"Currently I have \", self.CurrentFuelLevel, \" litred of petrol!\")\n",
    "    \n",
    "    def DonatePetrol(self, AmountToDonate):\n",
    "        if AmountToDonate > self.CurrentFuelLevel:\n",
    "            print(\"I am sorry my friend. I don't have enough fuel\")\n",
    "            print(\"I am giving you my tank but that will be only \", self.CurrentFuelLevel,\" litres of petrol!\")\n",
    "            self.CurrentFuelLevel = 0\n",
    "        else:\n",
    "            print(\"Glad I could be of your help. I am giving \", AmountToDonate, \" litres of petrol\")\n",
    "            self.CurrentFuelLevel -= AmountToDonate"
   ]
  },
  {
   "cell_type": "code",
   "execution_count": 78,
   "metadata": {},
   "outputs": [],
   "source": [
    "class Man:\n",
    "    \n",
    "    def __init__(self, \n",
    "                 ClothColor, \n",
    "                 LanguagesAbleToSpeak, \n",
    "                 MoneyInAccount, \n",
    "                 ProgExperience, \n",
    "                 KilosLift, \n",
    "                 OpponentsFight):\n",
    "        self.ClothColor = ClothColor\n",
    "        self.LanguagesAbleToSpeak = LanguagesAbleToSpeak\n",
    "        self.MoneyInAccount = MoneyInAccount\n",
    "        self.ProgExperience = ProgExperience\n",
    "        self.KilosLift = KilosLift\n",
    "        self.OpponentsFight = OpponentsFight\n",
    "        \n",
    "    def ShowAccount(self):\n",
    "        print(\"Your current worth is \", self.MoneyInAccount)\n",
    "        \n",
    "    def HackComputers(self):\n",
    "        print(\"Another mayhem for the enemy! Another computer down. Valueable information brought home!\")\n",
    "        print(\"In the process we spent 1% of the fortune\")\n",
    "        self.MoneyInAccount *= 0.99\n",
    "        \n",
    "    def SpeakLanguage(self, Language):\n",
    "        if Language in self.LanguagesAbleToSpeak:\n",
    "            print(\"You have to go and bring back some information. Make sure you remember all skills for the \", Language)\n",
    "        else:\n",
    "            print(\"You need some training. You are not ready!\")\n",
    "            \n",
    "    def FixAnInstrument(self):\n",
    "        print(\"Need an urgent fix. Everybody has left. You are the only one who can fix.\")\n",
    "        print(\"Fixing in progress ........................\")\n",
    "        print(\"Fixed!\")\n",
    "        print(\"We saved some money and that was 0.5% of the fortune\")\n",
    "        self.MoneyInAccount *= 1.05\n",
    "        \n",
    "    def LiftAndThrow(self, Weight):\n",
    "        if Weight <= self.KilosLift:\n",
    "            print(\"You need to throw \", Weight, \" to save everybody!\")\n",
    "            print(\"Throwing ..... \")\n",
    "            print(\"Reached target ... job done.\")\n",
    "        else:\n",
    "            print(\"Uhh ohhh! This weight is more than you can handle. Ask for help or throw something lighter.\")\n",
    "            \n",
    "    def SpendMoneyCharity(self, MoneyForCharity):\n",
    "        NewBalanceAfterCharity = self.MoneyInAccount - MoneyForCharity\n",
    "        if NewBalanceAfterCharity < 0.00:\n",
    "            print(\"You do not have enough money for doing charity. Good heart but not a matching bank balanace! Can't approve!\")\n",
    "        else:\n",
    "            print(\"A quiet charity is the biggest service to others. Good job!\")\n",
    "            print(\"The cheque has been sent to the beneficiary from an anonymous account\")\n",
    "            self.MoneyInAccount = NewBalanceAfterCharity\n",
    "            \n",
    "    def FightOpponents(self, NumberOfOpponents):\n",
    "        if NumberOfOpponents > 5*self.OpponentsFight:\n",
    "            print(\"It is hard to match so many opponents! Ask for more help and wait till help arrives. Take cover\")\n",
    "        else:\n",
    "            print(\"I know you don't worry about loosing or winning ... efforts is all that you want\")\n",
    "            print(\" dhishum..bhishum..bhishum..dhsihum \")\n",
    "            print(\" ......going on .........\")"
   ]
  },
  {
   "cell_type": "markdown",
   "metadata": {},
   "source": [
    "## To create a BATMAN class, which of the following is true\n",
    "\n",
    "### (1) Inherit from Bat_Bird and Man classes into BATMAN class. Add an extra property using Motorcycle class object during intialization.\n",
    "### (2) Inherit from Bat_Bird, Man and Motorcycle class\n",
    "### (3) Inherit from No classes. Inheritance is rubbish. I will rather save a lot of time by implementing everything from ground 0.\n",
    "### (4) I am really sorry. I was sleeping in the first half. I was studying the whole night and pet was not feeling well and ......."
   ]
  },
  {
   "cell_type": "code",
   "execution_count": 79,
   "metadata": {
    "hideCode": true,
    "hideOutput": true
   },
   "outputs": [
    {
     "data": {
      "text/plain": [
       "1"
      ]
     },
     "execution_count": 79,
     "metadata": {},
     "output_type": "execute_result"
    }
   ],
   "source": [
    "1"
   ]
  },
  {
   "cell_type": "markdown",
   "metadata": {},
   "source": [
    "## In seven lines create a BATMAN class using appropriate inheritance"
   ]
  },
  {
   "cell_type": "code",
   "execution_count": 86,
   "metadata": {
    "hideCode": true,
    "hideOutput": true
   },
   "outputs": [],
   "source": [
    "# Please scroll left to right to see everything\n",
    "class BATMAN(Bat_Bird, Man):\n",
    "    \n",
    "    def __init__(self, SkinColor, EyeColor, Weight, Height, MaxSoundIntensity, MaxSpeed, ClothColor, LanguagesAbleToSpeak, MoneyInAccount, ProgExperience, KilosLift, OpponentsFight):\n",
    "        Bat_Bird.__init__(self, SkinColor, EyeColor, Weight, Height, MaxSoundIntensity, MaxSpeed)\n",
    "        Man.__init__(self, ClothColor, LanguagesAbleToSpeak, MoneyInAccount, ProgExperience, KilosLift, OpponentsFight)\n",
    "        self.BatMan_SuperBike = Motorcycle(BikeColor=\"PitchBlack\", BikeSound=\"WRRRRRROMMMMMM\", BikeLength=5, BikeWeight=300, BikeMaximumSpeed=450, BikeMaximumFuelLevel=200, BikeMileage=100)\n",
    "        print(\"GOTHAM city! Your BATMAN is back. Fear not, gear up to fight!\")"
   ]
  },
  {
   "cell_type": "markdown",
   "metadata": {},
   "source": [
    "## Using thee BATMAN class created above, Create \"ChristianBale_BATMAN\" object"
   ]
  },
  {
   "cell_type": "code",
   "execution_count": 87,
   "metadata": {
    "hideCode": true,
    "hideOutput": true
   },
   "outputs": [
    {
     "name": "stdout",
     "output_type": "stream",
     "text": [
      "I am a bat and I have just been created\n",
      "My skin color is  PitchBlack  and my eye color is  Golden Yellow\n",
      "My weight is  90  and my height is  7.2\n",
      "My max sound intensity is  400  and max speed is  200\n",
      "I am so ready to fly and make sound.\n",
      "A new bike has been created\n",
      "GOTHAM city! Your BATMAN is back. Fear not, gear up to fight!\n"
     ]
    }
   ],
   "source": [
    "ChristianBale_BATMAN = BATMAN(SkinColor=\"PitchBlack\", \n",
    "                              EyeColor=\"Golden Yellow\", \n",
    "                              Weight=90, \n",
    "                              Height=7.2, \n",
    "                              MaxSoundIntensity=400,\n",
    "                              MaxSpeed=200, \n",
    "                              ClothColor=\"PitchBlack\", \n",
    "                              LanguagesAbleToSpeak=[\"English\", \"Russian\", \"Spanish\"],\n",
    "                              MoneyInAccount= 90000000000,\n",
    "                              ProgExperience=35,\n",
    "                              KilosLift=200, \n",
    "                              OpponentsFight=150)"
   ]
  },
  {
   "cell_type": "markdown",
   "metadata": {},
   "source": [
    "## Fill ChristianBale_BATMAN object's superbike fill its tank. You may need to use more than one .(dot)"
   ]
  },
  {
   "cell_type": "code",
   "execution_count": 88,
   "metadata": {
    "hideCode": true,
    "hideOutput": true
   },
   "outputs": [
    {
     "name": "stdout",
     "output_type": "stream",
     "text": [
      "What a purchase. You bought just enough fuel to fill the tank\n"
     ]
    }
   ],
   "source": [
    "ChristianBale_BATMAN.BatMan_SuperBike.FillPetrol(AmountOfPetrol=200)\n"
   ]
  },
  {
   "cell_type": "markdown",
   "metadata": {},
   "source": [
    "## Before the BATMAN could start the Bike 50 opponents came and stopped him. He must fight them. He must first make Bat sound for 5 seconds to scare the opponents. Then he must fight throw a 100 kg stone at them and then he must fight them."
   ]
  },
  {
   "cell_type": "code",
   "execution_count": 89,
   "metadata": {
    "hideCode": true,
    "hideOutput": true
   },
   "outputs": [
    {
     "name": "stdout",
     "output_type": "stream",
     "text": [
      "I am a  PitchBlack  bat and I am screetching and I will scare my prey every second\n",
      "I am a  PitchBlack  bat and I am screetching and I will scare my prey every second\n",
      "I am a  PitchBlack  bat and I am screetching and I will scare my prey every second\n",
      "I am a  PitchBlack  bat and I am screetching and I will scare my prey every second\n",
      "I am a  PitchBlack  bat and I am screetching and I will scare my prey every second\n",
      "You need to throw  100  to save everybody!\n",
      "Throwing ..... \n",
      "Reached target ... job done.\n",
      "I know you don't worry about loosing or winning ... efforts is all that you want\n",
      " dhishum..bhishum..bhishum..dhsihum \n",
      " ......going on .........\n"
     ]
    }
   ],
   "source": [
    "ChristianBale_BATMAN.Screetch(DurationOfSound=5)\n",
    "ChristianBale_BATMAN.LiftAndThrow(Weight=100)\n",
    "ChristianBale_BATMAN.FightOpponents(NumberOfOpponents=50)"
   ]
  },
  {
   "cell_type": "markdown",
   "metadata": {},
   "source": [
    "## He defeated all of them but he just received a message that 200 km away there is an enemy location. He should speak \"Spanish\", get inside the facility, hack 50 computers in no time, fight 100 opponents and come back. Implement one step in one block.\n",
    "\n",
    "## If you need help then consider this (He must start the Bike at 120 km/hr. Increase the speed by 150 km/hr., travel 200 km, stop the bike ..and then he should speak Spanish, get inside facility, then hack 50 computers, while coming out he has to fight 100 opponents, Start the bike 120 km/hr. Increase the speed by 150 km/hr., travel 200 km and then stop the bike)"
   ]
  },
  {
   "cell_type": "code",
   "execution_count": 90,
   "metadata": {
    "hideCode": true,
    "hideOutput": true
   },
   "outputs": [
    {
     "name": "stdout",
     "output_type": "stream",
     "text": [
      "WRRRRRROMMMMMM\n",
      "WRRRRRROMMMMMM\n",
      "WRRRRRROMMMMMM\n",
      "WRRRRRROMMMMMM\n",
      "WRRRRRROMMMMMM\n"
     ]
    }
   ],
   "source": [
    "ChristianBale_BATMAN.BatMan_SuperBike.Start(MakeTheSpeedUpto=120)"
   ]
  },
  {
   "cell_type": "code",
   "execution_count": 91,
   "metadata": {
    "hideCode": true,
    "hideOutput": true
   },
   "outputs": [
    {
     "name": "stdout",
     "output_type": "stream",
     "text": [
      "I am accelerating to a new speed. Be careful! Speed thrills but it kills!!\n"
     ]
    }
   ],
   "source": [
    "ChristianBale_BATMAN.BatMan_SuperBike.Accelerate(IncreaseByThisValue=150)"
   ]
  },
  {
   "cell_type": "code",
   "execution_count": 92,
   "metadata": {
    "hideCode": true,
    "hideOutput": true
   },
   "outputs": [
    {
     "name": "stdout",
     "output_type": "stream",
     "text": [
      "We are on road trip! We are going to travel for next  200  kilometers!\n"
     ]
    }
   ],
   "source": [
    "ChristianBale_BATMAN.BatMan_SuperBike.Travel(Distance=200)"
   ]
  },
  {
   "cell_type": "code",
   "execution_count": 93,
   "metadata": {
    "hideCode": true,
    "hideOutput": true
   },
   "outputs": [
    {
     "name": "stdout",
     "output_type": "stream",
     "text": [
      "I have travelled enough. Let's take a break\n"
     ]
    }
   ],
   "source": [
    "ChristianBale_BATMAN.BatMan_SuperBike.Stop()"
   ]
  },
  {
   "cell_type": "code",
   "execution_count": 94,
   "metadata": {
    "hideCode": true,
    "hideOutput": true
   },
   "outputs": [
    {
     "name": "stdout",
     "output_type": "stream",
     "text": [
      "You have to go and bring back some information. Make sure you remember all skills for the  Spanish\n"
     ]
    }
   ],
   "source": [
    "ChristianBale_BATMAN.SpeakLanguage(\"Spanish\")"
   ]
  },
  {
   "cell_type": "code",
   "execution_count": 95,
   "metadata": {
    "hideCode": true,
    "hideOutput": true
   },
   "outputs": [
    {
     "name": "stdout",
     "output_type": "stream",
     "text": [
      "Another mayhem for the enemy! Another computer down. Valueable information brought home!\n",
      "In the process we spent 1% of the fortune\n",
      "Another mayhem for the enemy! Another computer down. Valueable information brought home!\n",
      "In the process we spent 1% of the fortune\n",
      "Another mayhem for the enemy! Another computer down. Valueable information brought home!\n",
      "In the process we spent 1% of the fortune\n",
      "Another mayhem for the enemy! Another computer down. Valueable information brought home!\n",
      "In the process we spent 1% of the fortune\n",
      "Another mayhem for the enemy! Another computer down. Valueable information brought home!\n",
      "In the process we spent 1% of the fortune\n",
      "Another mayhem for the enemy! Another computer down. Valueable information brought home!\n",
      "In the process we spent 1% of the fortune\n",
      "Another mayhem for the enemy! Another computer down. Valueable information brought home!\n",
      "In the process we spent 1% of the fortune\n",
      "Another mayhem for the enemy! Another computer down. Valueable information brought home!\n",
      "In the process we spent 1% of the fortune\n",
      "Another mayhem for the enemy! Another computer down. Valueable information brought home!\n",
      "In the process we spent 1% of the fortune\n",
      "Another mayhem for the enemy! Another computer down. Valueable information brought home!\n",
      "In the process we spent 1% of the fortune\n",
      "Another mayhem for the enemy! Another computer down. Valueable information brought home!\n",
      "In the process we spent 1% of the fortune\n",
      "Another mayhem for the enemy! Another computer down. Valueable information brought home!\n",
      "In the process we spent 1% of the fortune\n",
      "Another mayhem for the enemy! Another computer down. Valueable information brought home!\n",
      "In the process we spent 1% of the fortune\n",
      "Another mayhem for the enemy! Another computer down. Valueable information brought home!\n",
      "In the process we spent 1% of the fortune\n",
      "Another mayhem for the enemy! Another computer down. Valueable information brought home!\n",
      "In the process we spent 1% of the fortune\n",
      "Another mayhem for the enemy! Another computer down. Valueable information brought home!\n",
      "In the process we spent 1% of the fortune\n",
      "Another mayhem for the enemy! Another computer down. Valueable information brought home!\n",
      "In the process we spent 1% of the fortune\n",
      "Another mayhem for the enemy! Another computer down. Valueable information brought home!\n",
      "In the process we spent 1% of the fortune\n",
      "Another mayhem for the enemy! Another computer down. Valueable information brought home!\n",
      "In the process we spent 1% of the fortune\n",
      "Another mayhem for the enemy! Another computer down. Valueable information brought home!\n",
      "In the process we spent 1% of the fortune\n",
      "Another mayhem for the enemy! Another computer down. Valueable information brought home!\n",
      "In the process we spent 1% of the fortune\n",
      "Another mayhem for the enemy! Another computer down. Valueable information brought home!\n",
      "In the process we spent 1% of the fortune\n",
      "Another mayhem for the enemy! Another computer down. Valueable information brought home!\n",
      "In the process we spent 1% of the fortune\n",
      "Another mayhem for the enemy! Another computer down. Valueable information brought home!\n",
      "In the process we spent 1% of the fortune\n",
      "Another mayhem for the enemy! Another computer down. Valueable information brought home!\n",
      "In the process we spent 1% of the fortune\n",
      "Another mayhem for the enemy! Another computer down. Valueable information brought home!\n",
      "In the process we spent 1% of the fortune\n",
      "Another mayhem for the enemy! Another computer down. Valueable information brought home!\n",
      "In the process we spent 1% of the fortune\n",
      "Another mayhem for the enemy! Another computer down. Valueable information brought home!\n",
      "In the process we spent 1% of the fortune\n",
      "Another mayhem for the enemy! Another computer down. Valueable information brought home!\n",
      "In the process we spent 1% of the fortune\n",
      "Another mayhem for the enemy! Another computer down. Valueable information brought home!\n",
      "In the process we spent 1% of the fortune\n",
      "Another mayhem for the enemy! Another computer down. Valueable information brought home!\n",
      "In the process we spent 1% of the fortune\n",
      "Another mayhem for the enemy! Another computer down. Valueable information brought home!\n",
      "In the process we spent 1% of the fortune\n",
      "Another mayhem for the enemy! Another computer down. Valueable information brought home!\n",
      "In the process we spent 1% of the fortune\n",
      "Another mayhem for the enemy! Another computer down. Valueable information brought home!\n",
      "In the process we spent 1% of the fortune\n",
      "Another mayhem for the enemy! Another computer down. Valueable information brought home!\n",
      "In the process we spent 1% of the fortune\n",
      "Another mayhem for the enemy! Another computer down. Valueable information brought home!\n",
      "In the process we spent 1% of the fortune\n",
      "Another mayhem for the enemy! Another computer down. Valueable information brought home!\n",
      "In the process we spent 1% of the fortune\n",
      "Another mayhem for the enemy! Another computer down. Valueable information brought home!\n",
      "In the process we spent 1% of the fortune\n",
      "Another mayhem for the enemy! Another computer down. Valueable information brought home!\n",
      "In the process we spent 1% of the fortune\n",
      "Another mayhem for the enemy! Another computer down. Valueable information brought home!\n",
      "In the process we spent 1% of the fortune\n",
      "Another mayhem for the enemy! Another computer down. Valueable information brought home!\n",
      "In the process we spent 1% of the fortune\n",
      "Another mayhem for the enemy! Another computer down. Valueable information brought home!\n",
      "In the process we spent 1% of the fortune\n",
      "Another mayhem for the enemy! Another computer down. Valueable information brought home!\n",
      "In the process we spent 1% of the fortune\n",
      "Another mayhem for the enemy! Another computer down. Valueable information brought home!\n",
      "In the process we spent 1% of the fortune\n",
      "Another mayhem for the enemy! Another computer down. Valueable information brought home!\n",
      "In the process we spent 1% of the fortune\n",
      "Another mayhem for the enemy! Another computer down. Valueable information brought home!\n",
      "In the process we spent 1% of the fortune\n",
      "Another mayhem for the enemy! Another computer down. Valueable information brought home!\n",
      "In the process we spent 1% of the fortune\n",
      "Another mayhem for the enemy! Another computer down. Valueable information brought home!\n",
      "In the process we spent 1% of the fortune\n",
      "Another mayhem for the enemy! Another computer down. Valueable information brought home!\n",
      "In the process we spent 1% of the fortune\n",
      "Another mayhem for the enemy! Another computer down. Valueable information brought home!\n",
      "In the process we spent 1% of the fortune\n"
     ]
    }
   ],
   "source": [
    "for i in range(50):\n",
    "    ChristianBale_BATMAN.HackComputers()"
   ]
  },
  {
   "cell_type": "code",
   "execution_count": 96,
   "metadata": {
    "hideCode": true,
    "hideOutput": true
   },
   "outputs": [
    {
     "name": "stdout",
     "output_type": "stream",
     "text": [
      "I know you don't worry about loosing or winning ... efforts is all that you want\n",
      " dhishum..bhishum..bhishum..dhsihum \n",
      " ......going on .........\n"
     ]
    }
   ],
   "source": [
    "ChristianBale_BATMAN.FightOpponents(NumberOfOpponents=100)"
   ]
  },
  {
   "cell_type": "code",
   "execution_count": 97,
   "metadata": {
    "hideCode": true,
    "hideOutput": true
   },
   "outputs": [
    {
     "name": "stdout",
     "output_type": "stream",
     "text": [
      "WRRRRRROMMMMMM\n",
      "WRRRRRROMMMMMM\n",
      "WRRRRRROMMMMMM\n",
      "WRRRRRROMMMMMM\n",
      "WRRRRRROMMMMMM\n"
     ]
    }
   ],
   "source": [
    "ChristianBale_BATMAN.BatMan_SuperBike.Start(MakeTheSpeedUpto=120)"
   ]
  },
  {
   "cell_type": "code",
   "execution_count": 98,
   "metadata": {
    "hideCode": true,
    "hideOutput": true
   },
   "outputs": [
    {
     "name": "stdout",
     "output_type": "stream",
     "text": [
      "I am accelerating to a new speed. Be careful! Speed thrills but it kills!!\n"
     ]
    }
   ],
   "source": [
    "ChristianBale_BATMAN.BatMan_SuperBike.Accelerate(IncreaseByThisValue=150)"
   ]
  },
  {
   "cell_type": "code",
   "execution_count": 99,
   "metadata": {
    "hideCode": true,
    "hideOutput": true
   },
   "outputs": [
    {
     "name": "stdout",
     "output_type": "stream",
     "text": [
      "We are on road trip! We are going to travel for next  200  kilometers!\n"
     ]
    }
   ],
   "source": [
    "ChristianBale_BATMAN.BatMan_SuperBike.Travel(Distance=200)"
   ]
  },
  {
   "cell_type": "code",
   "execution_count": 100,
   "metadata": {
    "hideCode": true,
    "hideOutput": true
   },
   "outputs": [
    {
     "name": "stdout",
     "output_type": "stream",
     "text": [
      "I have travelled enough. Let's take a break\n"
     ]
    }
   ],
   "source": [
    "ChristianBale_BATMAN.BatMan_SuperBike.Stop()"
   ]
  },
  {
   "cell_type": "markdown",
   "metadata": {},
   "source": [
    "## Many GOTHAM City citizens were injured infight. BATMAN decides to donate 5000000 to charity. Make his donation happen."
   ]
  },
  {
   "cell_type": "code",
   "execution_count": 101,
   "metadata": {
    "hideCode": true,
    "hideOutput": true
   },
   "outputs": [
    {
     "name": "stdout",
     "output_type": "stream",
     "text": [
      "A quiet charity is the biggest service to others. Good job!\n",
      "The cheque has been sent to the beneficiary from an anonymous account\n"
     ]
    }
   ],
   "source": [
    "ChristianBale_BATMAN.SpendMoneyCharity(MoneyForCharity=5000000)"
   ]
  },
  {
   "cell_type": "markdown",
   "metadata": {},
   "source": [
    "<img src=\"./BATMAN.png\" height=\"200px\"/>"
   ]
  },
  {
   "cell_type": "markdown",
   "metadata": {},
   "source": [
    "## Ohh wait ..while the celebration is going on ... BATMAN received a call from his Python teacher (who is 50 kms away) that he is leaving the town as instead of Python logo people have put up BATMAN logo. He is leaving right now and he will never return. BATMAN has only his superbike with him. What should he do? \n",
    "## Right!! ... Increase the Speed straightaway to 400 (max speed) and then go and apologize."
   ]
  },
  {
   "cell_type": "code",
   "execution_count": 103,
   "metadata": {
    "hideCode": true,
    "hideOutput": true
   },
   "outputs": [
    {
     "name": "stdout",
     "output_type": "stream",
     "text": [
      "Arey bhaiya! First start the bike. Accelerate later!\n"
     ]
    }
   ],
   "source": [
    "ChristianBale_BATMAN.BatMan_SuperBike.Accelerate(IncreaseByThisValue=400)"
   ]
  },
  {
   "cell_type": "markdown",
   "metadata": {},
   "source": [
    "## Uhhooo .. never mind He decides to give Travel command straightaway"
   ]
  },
  {
   "cell_type": "code",
   "execution_count": 104,
   "metadata": {
    "hideCode": true,
    "hideOutput": true
   },
   "outputs": [
    {
     "name": "stdout",
     "output_type": "stream",
     "text": [
      "How??? Please start the bike then we can travel!\n"
     ]
    }
   ],
   "source": [
    "ChristianBale_BATMAN.BatMan_SuperBike.Travel(Distance=50)"
   ]
  },
  {
   "cell_type": "markdown",
   "metadata": {},
   "source": [
    "## See even BATMAN is afraid of his teacher and he is confused.\n",
    "## Will you please start his bike at max possible speed of 400?"
   ]
  },
  {
   "cell_type": "code",
   "execution_count": 105,
   "metadata": {
    "hideCode": true,
    "hideOutput": true
   },
   "outputs": [
    {
     "name": "stdout",
     "output_type": "stream",
     "text": [
      "WRRRRRROMMMMMM\n",
      "WRRRRRROMMMMMM\n",
      "WRRRRRROMMMMMM\n",
      "WRRRRRROMMMMMM\n",
      "WRRRRRROMMMMMM\n"
     ]
    }
   ],
   "source": [
    "ChristianBale_BATMAN.BatMan_SuperBike.Start(MakeTheSpeedUpto=400)"
   ]
  },
  {
   "cell_type": "markdown",
   "metadata": {},
   "source": [
    "## Tomorrow we will see one last pillar of Python, which is graphs/charts and visualization. At the end of tomorrow's lecture, project will be distributed.\n",
    "## Submit it by night to Whatsapp, no excuses. All I want to see is your efforts. Next day actual solution will be discuseed...\n",
    "## and that will be good bye from Python ...\n",
    "\n",
    "## By the way BATMAN just \"light ray projected\" the below logo in the skies of GOTHAM city for his teacher to see!"
   ]
  },
  {
   "cell_type": "markdown",
   "metadata": {},
   "source": [
    "<img src=\"./PYTHON.jpeg\" height=\"200px\"/>"
   ]
  },
  {
   "cell_type": "code",
   "execution_count": null,
   "metadata": {},
   "outputs": [],
   "source": []
  }
 ],
 "metadata": {
  "celltoolbar": "Hide code",
  "kernelspec": {
   "display_name": "Python 3",
   "language": "python",
   "name": "python3"
  },
  "language_info": {
   "codemirror_mode": {
    "name": "ipython",
    "version": 3
   },
   "file_extension": ".py",
   "mimetype": "text/x-python",
   "name": "python",
   "nbconvert_exporter": "python",
   "pygments_lexer": "ipython3",
   "version": "3.7.6"
  }
 },
 "nbformat": 4,
 "nbformat_minor": 2
}
